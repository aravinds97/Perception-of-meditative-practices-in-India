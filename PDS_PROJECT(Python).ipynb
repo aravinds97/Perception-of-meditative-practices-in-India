{
 "cells": [
  {
   "cell_type": "code",
   "execution_count": 1,
   "id": "273a4eb6",
   "metadata": {},
   "outputs": [],
   "source": [
    "import numpy as np\n",
    "import pandas as pd\n",
    "import matplotlib.pyplot as plt\n",
    "import seaborn as sns"
   ]
  },
  {
   "cell_type": "code",
   "execution_count": 2,
   "id": "354e1694",
   "metadata": {},
   "outputs": [],
   "source": [
    "med = pd.read_csv(\"meditation.csv\")"
   ]
  },
  {
   "cell_type": "code",
   "execution_count": 3,
   "id": "9640da94",
   "metadata": {},
   "outputs": [
    {
     "data": {
      "text/html": [
       "<div>\n",
       "<style scoped>\n",
       "    .dataframe tbody tr th:only-of-type {\n",
       "        vertical-align: middle;\n",
       "    }\n",
       "\n",
       "    .dataframe tbody tr th {\n",
       "        vertical-align: top;\n",
       "    }\n",
       "\n",
       "    .dataframe thead th {\n",
       "        text-align: right;\n",
       "    }\n",
       "</style>\n",
       "<table border=\"1\" class=\"dataframe\">\n",
       "  <thead>\n",
       "    <tr style=\"text-align: right;\">\n",
       "      <th></th>\n",
       "      <th>Timestamp</th>\n",
       "      <th>Do you meditate?</th>\n",
       "      <th>If you meditate, please select the meditative form(style) from the options below:</th>\n",
       "      <th>If you don't meditate, please select one of the following reasons:</th>\n",
       "      <th>Since when have you been meditating?</th>\n",
       "      <th>How often in a week do you meditate?</th>\n",
       "      <th>For how long do you meditate in a day?</th>\n",
       "      <th>What is your level of perception towards the below mentioned factors in your daily life: [I'm stressed]</th>\n",
       "      <th>What is your level of perception towards the below mentioned factors in your daily life: [I can control my anger]</th>\n",
       "      <th>What is your level of perception towards the below mentioned factors in your daily life: [I'm emotionally well balanced]</th>\n",
       "      <th>...</th>\n",
       "      <th>What is your level of perception towards the below mentioned factors in your daily life: [I'm motivated]</th>\n",
       "      <th>What is your level of perception towards the below mentioned factors in your daily life: [I'm focused]</th>\n",
       "      <th>What is your level of perception towards the below mentioned factors in your daily life: [I have proper sleep]</th>\n",
       "      <th>How likely are you to recommend or help someone learn meditation?</th>\n",
       "      <th>Age</th>\n",
       "      <th>Gender</th>\n",
       "      <th>Name (Optional)</th>\n",
       "      <th>If you wish to share something more on meditation, please feel free to write. We would love to hear about your views on it.</th>\n",
       "      <th>Unnamed: 23</th>\n",
       "      <th>Unnamed: 24</th>\n",
       "    </tr>\n",
       "  </thead>\n",
       "  <tbody>\n",
       "    <tr>\n",
       "      <th>count</th>\n",
       "      <td>107</td>\n",
       "      <td>107</td>\n",
       "      <td>56</td>\n",
       "      <td>72</td>\n",
       "      <td>107</td>\n",
       "      <td>107</td>\n",
       "      <td>107</td>\n",
       "      <td>107</td>\n",
       "      <td>107</td>\n",
       "      <td>107</td>\n",
       "      <td>...</td>\n",
       "      <td>107</td>\n",
       "      <td>107</td>\n",
       "      <td>107</td>\n",
       "      <td>105</td>\n",
       "      <td>107</td>\n",
       "      <td>107</td>\n",
       "      <td>47</td>\n",
       "      <td>17</td>\n",
       "      <td>2</td>\n",
       "      <td>2</td>\n",
       "    </tr>\n",
       "    <tr>\n",
       "      <th>unique</th>\n",
       "      <td>107</td>\n",
       "      <td>2</td>\n",
       "      <td>17</td>\n",
       "      <td>12</td>\n",
       "      <td>5</td>\n",
       "      <td>5</td>\n",
       "      <td>5</td>\n",
       "      <td>5</td>\n",
       "      <td>5</td>\n",
       "      <td>5</td>\n",
       "      <td>...</td>\n",
       "      <td>5</td>\n",
       "      <td>5</td>\n",
       "      <td>5</td>\n",
       "      <td>3</td>\n",
       "      <td>4</td>\n",
       "      <td>3</td>\n",
       "      <td>45</td>\n",
       "      <td>17</td>\n",
       "      <td>1</td>\n",
       "      <td>2</td>\n",
       "    </tr>\n",
       "    <tr>\n",
       "      <th>top</th>\n",
       "      <td>2021/10/19 12:02:05 AM GMT+5:30</td>\n",
       "      <td>No</td>\n",
       "      <td>Breathwork</td>\n",
       "      <td>Lack of consistency</td>\n",
       "      <td>Don't meditate</td>\n",
       "      <td>Don't meditate</td>\n",
       "      <td>Don't meditate</td>\n",
       "      <td>Neutral</td>\n",
       "      <td>agree</td>\n",
       "      <td>Neutral</td>\n",
       "      <td>...</td>\n",
       "      <td>agree</td>\n",
       "      <td>Neutral</td>\n",
       "      <td>Neutral</td>\n",
       "      <td>Very likely</td>\n",
       "      <td>Between 18 and 25</td>\n",
       "      <td>Male</td>\n",
       "      <td>Chanchal</td>\n",
       "      <td>For me meditation is like gym \\nWe do gym go k...</td>\n",
       "      <td>Neutral</td>\n",
       "      <td>Disagree</td>\n",
       "    </tr>\n",
       "    <tr>\n",
       "      <th>freq</th>\n",
       "      <td>1</td>\n",
       "      <td>58</td>\n",
       "      <td>23</td>\n",
       "      <td>20</td>\n",
       "      <td>54</td>\n",
       "      <td>55</td>\n",
       "      <td>55</td>\n",
       "      <td>38</td>\n",
       "      <td>36</td>\n",
       "      <td>35</td>\n",
       "      <td>...</td>\n",
       "      <td>33</td>\n",
       "      <td>36</td>\n",
       "      <td>30</td>\n",
       "      <td>57</td>\n",
       "      <td>68</td>\n",
       "      <td>68</td>\n",
       "      <td>2</td>\n",
       "      <td>1</td>\n",
       "      <td>2</td>\n",
       "      <td>1</td>\n",
       "    </tr>\n",
       "  </tbody>\n",
       "</table>\n",
       "<p>4 rows × 25 columns</p>\n",
       "</div>"
      ],
      "text/plain": [
       "                              Timestamp Do you meditate?  \\\n",
       "count                               107              107   \n",
       "unique                              107                2   \n",
       "top     2021/10/19 12:02:05 AM GMT+5:30               No   \n",
       "freq                                  1               58   \n",
       "\n",
       "       If you meditate, please select the meditative form(style) from the options below:  \\\n",
       "count                                                  56                                  \n",
       "unique                                                 17                                  \n",
       "top                                            Breathwork                                  \n",
       "freq                                                   23                                  \n",
       "\n",
       "       If you don't meditate, please select one of the following reasons:  \\\n",
       "count                                                  72                   \n",
       "unique                                                 12                   \n",
       "top                                   Lack of consistency                   \n",
       "freq                                                   20                   \n",
       "\n",
       "       Since when have you been meditating?  \\\n",
       "count                                   107   \n",
       "unique                                    5   \n",
       "top                          Don't meditate   \n",
       "freq                                     54   \n",
       "\n",
       "       How often in a week do you meditate?  \\\n",
       "count                                   107   \n",
       "unique                                    5   \n",
       "top                          Don't meditate   \n",
       "freq                                     55   \n",
       "\n",
       "       For how long do you meditate in a day?  \\\n",
       "count                                     107   \n",
       "unique                                      5   \n",
       "top                            Don't meditate   \n",
       "freq                                       55   \n",
       "\n",
       "       What is your level of perception towards the below mentioned factors in your daily life: [I'm stressed]  \\\n",
       "count                                                 107                                                        \n",
       "unique                                                  5                                                        \n",
       "top                                               Neutral                                                        \n",
       "freq                                                   38                                                        \n",
       "\n",
       "       What is your level of perception towards the below mentioned factors in your daily life: [I can control my anger]  \\\n",
       "count                                                 107                                                                  \n",
       "unique                                                  5                                                                  \n",
       "top                                                 agree                                                                  \n",
       "freq                                                   36                                                                  \n",
       "\n",
       "       What is your level of perception towards the below mentioned factors in your daily life: [I'm emotionally well balanced]  \\\n",
       "count                                                 107                                                                         \n",
       "unique                                                  5                                                                         \n",
       "top                                               Neutral                                                                         \n",
       "freq                                                   35                                                                         \n",
       "\n",
       "        ...  \\\n",
       "count   ...   \n",
       "unique  ...   \n",
       "top     ...   \n",
       "freq    ...   \n",
       "\n",
       "       What is your level of perception towards the below mentioned factors in your daily life: [I'm motivated]  \\\n",
       "count                                                 107                                                         \n",
       "unique                                                  5                                                         \n",
       "top                                                 agree                                                         \n",
       "freq                                                   33                                                         \n",
       "\n",
       "       What is your level of perception towards the below mentioned factors in your daily life: [I'm focused]  \\\n",
       "count                                                 107                                                       \n",
       "unique                                                  5                                                       \n",
       "top                                               Neutral                                                       \n",
       "freq                                                   36                                                       \n",
       "\n",
       "       What is your level of perception towards the below mentioned factors in your daily life: [I have proper sleep]  \\\n",
       "count                                                 107                                                               \n",
       "unique                                                  5                                                               \n",
       "top                                               Neutral                                                               \n",
       "freq                                                   30                                                               \n",
       "\n",
       "       How likely are you to recommend or help someone learn meditation?  \\\n",
       "count                                                 105                  \n",
       "unique                                                  3                  \n",
       "top                                           Very likely                  \n",
       "freq                                                   57                  \n",
       "\n",
       "                      Age Gender Name (Optional)  \\\n",
       "count                 107    107              47   \n",
       "unique                  4      3              45   \n",
       "top     Between 18 and 25   Male        Chanchal   \n",
       "freq                   68     68               2   \n",
       "\n",
       "       If you wish to share something more on meditation, please feel free to write. We would love to hear about your views on it.  \\\n",
       "count                                                  17                                                                            \n",
       "unique                                                 17                                                                            \n",
       "top     For me meditation is like gym \\nWe do gym go k...                                                                            \n",
       "freq                                                    1                                                                            \n",
       "\n",
       "       Unnamed: 23 Unnamed: 24  \n",
       "count            2           2  \n",
       "unique           1           2  \n",
       "top        Neutral    Disagree  \n",
       "freq             2           1  \n",
       "\n",
       "[4 rows x 25 columns]"
      ]
     },
     "execution_count": 3,
     "metadata": {},
     "output_type": "execute_result"
    }
   ],
   "source": [
    "med.describe()"
   ]
  },
  {
   "cell_type": "code",
   "execution_count": 4,
   "id": "614e4ccc",
   "metadata": {},
   "outputs": [
    {
     "data": {
      "text/html": [
       "<div>\n",
       "<style scoped>\n",
       "    .dataframe tbody tr th:only-of-type {\n",
       "        vertical-align: middle;\n",
       "    }\n",
       "\n",
       "    .dataframe tbody tr th {\n",
       "        vertical-align: top;\n",
       "    }\n",
       "\n",
       "    .dataframe thead th {\n",
       "        text-align: right;\n",
       "    }\n",
       "</style>\n",
       "<table border=\"1\" class=\"dataframe\">\n",
       "  <thead>\n",
       "    <tr style=\"text-align: right;\">\n",
       "      <th></th>\n",
       "      <th>Timestamp</th>\n",
       "      <th>Do you meditate?</th>\n",
       "      <th>If you meditate, please select the meditative form(style) from the options below:</th>\n",
       "      <th>If you don't meditate, please select one of the following reasons:</th>\n",
       "      <th>Since when have you been meditating?</th>\n",
       "      <th>How often in a week do you meditate?</th>\n",
       "      <th>For how long do you meditate in a day?</th>\n",
       "      <th>What is your level of perception towards the below mentioned factors in your daily life: [I'm stressed]</th>\n",
       "      <th>What is your level of perception towards the below mentioned factors in your daily life: [I can control my anger]</th>\n",
       "      <th>What is your level of perception towards the below mentioned factors in your daily life: [I'm emotionally well balanced]</th>\n",
       "      <th>...</th>\n",
       "      <th>What is your level of perception towards the below mentioned factors in your daily life: [I'm motivated]</th>\n",
       "      <th>What is your level of perception towards the below mentioned factors in your daily life: [I'm focused]</th>\n",
       "      <th>What is your level of perception towards the below mentioned factors in your daily life: [I have proper sleep]</th>\n",
       "      <th>How likely are you to recommend or help someone learn meditation?</th>\n",
       "      <th>Age</th>\n",
       "      <th>Gender</th>\n",
       "      <th>Name (Optional)</th>\n",
       "      <th>If you wish to share something more on meditation, please feel free to write. We would love to hear about your views on it.</th>\n",
       "      <th>Unnamed: 23</th>\n",
       "      <th>Unnamed: 24</th>\n",
       "    </tr>\n",
       "  </thead>\n",
       "  <tbody>\n",
       "    <tr>\n",
       "      <th>0</th>\n",
       "      <td>2021/10/19 12:02:05 AM GMT+5:30</td>\n",
       "      <td>Yes</td>\n",
       "      <td>Breathwork</td>\n",
       "      <td>Lack of spare time</td>\n",
       "      <td>Less than 3 months</td>\n",
       "      <td>Daily</td>\n",
       "      <td>Less than 15 minutes</td>\n",
       "      <td>Strongly Disagree</td>\n",
       "      <td>Disagree</td>\n",
       "      <td>Neutral</td>\n",
       "      <td>...</td>\n",
       "      <td>Neutral</td>\n",
       "      <td>Neutral</td>\n",
       "      <td>Disagree</td>\n",
       "      <td>Very likely</td>\n",
       "      <td>Below 18</td>\n",
       "      <td>Male</td>\n",
       "      <td>Chanchal</td>\n",
       "      <td>NaN</td>\n",
       "      <td>Neutral</td>\n",
       "      <td>Disagree</td>\n",
       "    </tr>\n",
       "    <tr>\n",
       "      <th>1</th>\n",
       "      <td>2021/10/19 12:10:24 AM GMT+5:30</td>\n",
       "      <td>Yes</td>\n",
       "      <td>Breathwork</td>\n",
       "      <td>NaN</td>\n",
       "      <td>Less than 3 months</td>\n",
       "      <td>Once a week</td>\n",
       "      <td>Less than 15 minutes</td>\n",
       "      <td>Neutral</td>\n",
       "      <td>Strongly Disagree</td>\n",
       "      <td>Strongly Disagree</td>\n",
       "      <td>...</td>\n",
       "      <td>Strongly Agree</td>\n",
       "      <td>Strongly Agree</td>\n",
       "      <td>Strongly Agree</td>\n",
       "      <td>Very likely</td>\n",
       "      <td>Between 18 and 25</td>\n",
       "      <td>Female</td>\n",
       "      <td>Chanchal</td>\n",
       "      <td>NaN</td>\n",
       "      <td>Neutral</td>\n",
       "      <td>Strongly Agree</td>\n",
       "    </tr>\n",
       "    <tr>\n",
       "      <th>2</th>\n",
       "      <td>2021/10/19 7:46:16 PM GMT+5:30</td>\n",
       "      <td>Yes</td>\n",
       "      <td>Pranayama</td>\n",
       "      <td>NaN</td>\n",
       "      <td>More than 1 year</td>\n",
       "      <td>Daily</td>\n",
       "      <td>Less than 15 minutes</td>\n",
       "      <td>Neutral</td>\n",
       "      <td>Neutral</td>\n",
       "      <td>Neutral</td>\n",
       "      <td>...</td>\n",
       "      <td>Neutral</td>\n",
       "      <td>Neutral</td>\n",
       "      <td>Neutral</td>\n",
       "      <td>Very likely</td>\n",
       "      <td>Between 18 and 25</td>\n",
       "      <td>Male</td>\n",
       "      <td>NaN</td>\n",
       "      <td>NaN</td>\n",
       "      <td>NaN</td>\n",
       "      <td>NaN</td>\n",
       "    </tr>\n",
       "    <tr>\n",
       "      <th>3</th>\n",
       "      <td>2021/10/19 8:27:58 PM GMT+5:30</td>\n",
       "      <td>No</td>\n",
       "      <td>NaN</td>\n",
       "      <td>Lack of concentration</td>\n",
       "      <td>Don't meditate</td>\n",
       "      <td>Don't meditate</td>\n",
       "      <td>Don't meditate</td>\n",
       "      <td>Strongly Agree</td>\n",
       "      <td>Strongly Agree</td>\n",
       "      <td>Strongly Agree</td>\n",
       "      <td>...</td>\n",
       "      <td>Neutral</td>\n",
       "      <td>Neutral</td>\n",
       "      <td>Strongly Agree</td>\n",
       "      <td>Very likely</td>\n",
       "      <td>Between 18 and 25</td>\n",
       "      <td>Female</td>\n",
       "      <td>Rimzhim gandhar</td>\n",
       "      <td>NaN</td>\n",
       "      <td>NaN</td>\n",
       "      <td>NaN</td>\n",
       "    </tr>\n",
       "    <tr>\n",
       "      <th>4</th>\n",
       "      <td>2021/10/19 8:28:01 PM GMT+5:30</td>\n",
       "      <td>No</td>\n",
       "      <td>NaN</td>\n",
       "      <td>Don't believe in meditation</td>\n",
       "      <td>Don't meditate</td>\n",
       "      <td>Don't meditate</td>\n",
       "      <td>Don't meditate</td>\n",
       "      <td>Strongly Disagree</td>\n",
       "      <td>Strongly Agree</td>\n",
       "      <td>Strongly Agree</td>\n",
       "      <td>...</td>\n",
       "      <td>Strongly Agree</td>\n",
       "      <td>Strongly Agree</td>\n",
       "      <td>Strongly Agree</td>\n",
       "      <td>Not interested at all</td>\n",
       "      <td>Between 25 and 35</td>\n",
       "      <td>Male</td>\n",
       "      <td>NaN</td>\n",
       "      <td>NaN</td>\n",
       "      <td>NaN</td>\n",
       "      <td>NaN</td>\n",
       "    </tr>\n",
       "  </tbody>\n",
       "</table>\n",
       "<p>5 rows × 25 columns</p>\n",
       "</div>"
      ],
      "text/plain": [
       "                         Timestamp Do you meditate?  \\\n",
       "0  2021/10/19 12:02:05 AM GMT+5:30              Yes   \n",
       "1  2021/10/19 12:10:24 AM GMT+5:30              Yes   \n",
       "2   2021/10/19 7:46:16 PM GMT+5:30              Yes   \n",
       "3   2021/10/19 8:27:58 PM GMT+5:30               No   \n",
       "4   2021/10/19 8:28:01 PM GMT+5:30               No   \n",
       "\n",
       "  If you meditate, please select the meditative form(style) from the options below:  \\\n",
       "0                                         Breathwork                                  \n",
       "1                                         Breathwork                                  \n",
       "2                                          Pranayama                                  \n",
       "3                                                NaN                                  \n",
       "4                                                NaN                                  \n",
       "\n",
       "  If you don't meditate, please select one of the following reasons:  \\\n",
       "0                                 Lack of spare time                   \n",
       "1                                                NaN                   \n",
       "2                                                NaN                   \n",
       "3                              Lack of concentration                   \n",
       "4                        Don't believe in meditation                   \n",
       "\n",
       "  Since when have you been meditating? How often in a week do you meditate?  \\\n",
       "0                   Less than 3 months                                Daily   \n",
       "1                   Less than 3 months                          Once a week   \n",
       "2                     More than 1 year                                Daily   \n",
       "3                       Don't meditate                       Don't meditate   \n",
       "4                       Don't meditate                       Don't meditate   \n",
       "\n",
       "  For how long do you meditate in a day?  \\\n",
       "0                   Less than 15 minutes   \n",
       "1                   Less than 15 minutes   \n",
       "2                   Less than 15 minutes   \n",
       "3                         Don't meditate   \n",
       "4                         Don't meditate   \n",
       "\n",
       "  What is your level of perception towards the below mentioned factors in your daily life: [I'm stressed]  \\\n",
       "0                                  Strongly Disagree                                                        \n",
       "1                                            Neutral                                                        \n",
       "2                                            Neutral                                                        \n",
       "3                                     Strongly Agree                                                        \n",
       "4                                  Strongly Disagree                                                        \n",
       "\n",
       "  What is your level of perception towards the below mentioned factors in your daily life: [I can control my anger]  \\\n",
       "0                                           Disagree                                                                  \n",
       "1                                  Strongly Disagree                                                                  \n",
       "2                                            Neutral                                                                  \n",
       "3                                     Strongly Agree                                                                  \n",
       "4                                     Strongly Agree                                                                  \n",
       "\n",
       "  What is your level of perception towards the below mentioned factors in your daily life: [I'm emotionally well balanced]  \\\n",
       "0                                            Neutral                                                                         \n",
       "1                                  Strongly Disagree                                                                         \n",
       "2                                            Neutral                                                                         \n",
       "3                                     Strongly Agree                                                                         \n",
       "4                                     Strongly Agree                                                                         \n",
       "\n",
       "   ...  \\\n",
       "0  ...   \n",
       "1  ...   \n",
       "2  ...   \n",
       "3  ...   \n",
       "4  ...   \n",
       "\n",
       "  What is your level of perception towards the below mentioned factors in your daily life: [I'm motivated]  \\\n",
       "0                                            Neutral                                                         \n",
       "1                                     Strongly Agree                                                         \n",
       "2                                            Neutral                                                         \n",
       "3                                            Neutral                                                         \n",
       "4                                     Strongly Agree                                                         \n",
       "\n",
       "  What is your level of perception towards the below mentioned factors in your daily life: [I'm focused]  \\\n",
       "0                                            Neutral                                                       \n",
       "1                                     Strongly Agree                                                       \n",
       "2                                            Neutral                                                       \n",
       "3                                            Neutral                                                       \n",
       "4                                     Strongly Agree                                                       \n",
       "\n",
       "  What is your level of perception towards the below mentioned factors in your daily life: [I have proper sleep]  \\\n",
       "0                                           Disagree                                                               \n",
       "1                                     Strongly Agree                                                               \n",
       "2                                            Neutral                                                               \n",
       "3                                     Strongly Agree                                                               \n",
       "4                                     Strongly Agree                                                               \n",
       "\n",
       "  How likely are you to recommend or help someone learn meditation?  \\\n",
       "0                                        Very likely                  \n",
       "1                                        Very likely                  \n",
       "2                                        Very likely                  \n",
       "3                                        Very likely                  \n",
       "4                              Not interested at all                  \n",
       "\n",
       "                 Age  Gender  Name (Optional)  \\\n",
       "0           Below 18    Male         Chanchal   \n",
       "1  Between 18 and 25  Female         Chanchal   \n",
       "2  Between 18 and 25    Male              NaN   \n",
       "3  Between 18 and 25  Female  Rimzhim gandhar   \n",
       "4  Between 25 and 35    Male              NaN   \n",
       "\n",
       "  If you wish to share something more on meditation, please feel free to write. We would love to hear about your views on it.  \\\n",
       "0                                                NaN                                                                            \n",
       "1                                                NaN                                                                            \n",
       "2                                                NaN                                                                            \n",
       "3                                                NaN                                                                            \n",
       "4                                                NaN                                                                            \n",
       "\n",
       "  Unnamed: 23     Unnamed: 24  \n",
       "0     Neutral        Disagree  \n",
       "1     Neutral  Strongly Agree  \n",
       "2         NaN             NaN  \n",
       "3         NaN             NaN  \n",
       "4         NaN             NaN  \n",
       "\n",
       "[5 rows x 25 columns]"
      ]
     },
     "execution_count": 4,
     "metadata": {},
     "output_type": "execute_result"
    }
   ],
   "source": [
    "med.head()"
   ]
  },
  {
   "cell_type": "code",
   "execution_count": 5,
   "id": "57d5f75f",
   "metadata": {},
   "outputs": [],
   "source": [
    "med  = med.drop(['Timestamp', 'Name (Optional)', 'Unnamed: 23', 'Unnamed: 24'], axis = 1)   ##dropping the unnecessary columns "
   ]
  },
  {
   "cell_type": "code",
   "execution_count": 6,
   "id": "bd093650",
   "metadata": {},
   "outputs": [
    {
     "data": {
      "text/html": [
       "<div>\n",
       "<style scoped>\n",
       "    .dataframe tbody tr th:only-of-type {\n",
       "        vertical-align: middle;\n",
       "    }\n",
       "\n",
       "    .dataframe tbody tr th {\n",
       "        vertical-align: top;\n",
       "    }\n",
       "\n",
       "    .dataframe thead th {\n",
       "        text-align: right;\n",
       "    }\n",
       "</style>\n",
       "<table border=\"1\" class=\"dataframe\">\n",
       "  <thead>\n",
       "    <tr style=\"text-align: right;\">\n",
       "      <th></th>\n",
       "      <th>Do you meditate?</th>\n",
       "      <th>If you meditate, please select the meditative form(style) from the options below:</th>\n",
       "      <th>If you don't meditate, please select one of the following reasons:</th>\n",
       "      <th>Since when have you been meditating?</th>\n",
       "      <th>How often in a week do you meditate?</th>\n",
       "      <th>For how long do you meditate in a day?</th>\n",
       "      <th>What is your level of perception towards the below mentioned factors in your daily life: [I'm stressed]</th>\n",
       "      <th>What is your level of perception towards the below mentioned factors in your daily life: [I can control my anger]</th>\n",
       "      <th>What is your level of perception towards the below mentioned factors in your daily life: [I'm emotionally well balanced]</th>\n",
       "      <th>What is your level of perception towards the below mentioned factors in your daily life: [I'm calm]</th>\n",
       "      <th>...</th>\n",
       "      <th>What is your level of perception towards the below mentioned factors in your daily life: [I'm healthy]</th>\n",
       "      <th>What is your level of perception towards the below mentioned factors in your daily life: [I have mental clarity]</th>\n",
       "      <th>What is your level of perception towards the below mentioned factors in your daily life: [I'm energetic]</th>\n",
       "      <th>What is your level of perception towards the below mentioned factors in your daily life: [I'm motivated]</th>\n",
       "      <th>What is your level of perception towards the below mentioned factors in your daily life: [I'm focused]</th>\n",
       "      <th>What is your level of perception towards the below mentioned factors in your daily life: [I have proper sleep]</th>\n",
       "      <th>How likely are you to recommend or help someone learn meditation?</th>\n",
       "      <th>Age</th>\n",
       "      <th>Gender</th>\n",
       "      <th>If you wish to share something more on meditation, please feel free to write. We would love to hear about your views on it.</th>\n",
       "    </tr>\n",
       "  </thead>\n",
       "  <tbody>\n",
       "    <tr>\n",
       "      <th>0</th>\n",
       "      <td>Yes</td>\n",
       "      <td>Breathwork</td>\n",
       "      <td>Lack of spare time</td>\n",
       "      <td>Less than 3 months</td>\n",
       "      <td>Daily</td>\n",
       "      <td>Less than 15 minutes</td>\n",
       "      <td>Strongly Disagree</td>\n",
       "      <td>Disagree</td>\n",
       "      <td>Neutral</td>\n",
       "      <td>Disagree</td>\n",
       "      <td>...</td>\n",
       "      <td>Neutral</td>\n",
       "      <td>Neutral</td>\n",
       "      <td>Disagree</td>\n",
       "      <td>Neutral</td>\n",
       "      <td>Neutral</td>\n",
       "      <td>Disagree</td>\n",
       "      <td>Very likely</td>\n",
       "      <td>Below 18</td>\n",
       "      <td>Male</td>\n",
       "      <td>NaN</td>\n",
       "    </tr>\n",
       "    <tr>\n",
       "      <th>1</th>\n",
       "      <td>Yes</td>\n",
       "      <td>Breathwork</td>\n",
       "      <td>NaN</td>\n",
       "      <td>Less than 3 months</td>\n",
       "      <td>Once a week</td>\n",
       "      <td>Less than 15 minutes</td>\n",
       "      <td>Neutral</td>\n",
       "      <td>Strongly Disagree</td>\n",
       "      <td>Strongly Disagree</td>\n",
       "      <td>Neutral</td>\n",
       "      <td>...</td>\n",
       "      <td>agree</td>\n",
       "      <td>Strongly Agree</td>\n",
       "      <td>Strongly Agree</td>\n",
       "      <td>Strongly Agree</td>\n",
       "      <td>Strongly Agree</td>\n",
       "      <td>Strongly Agree</td>\n",
       "      <td>Very likely</td>\n",
       "      <td>Between 18 and 25</td>\n",
       "      <td>Female</td>\n",
       "      <td>NaN</td>\n",
       "    </tr>\n",
       "    <tr>\n",
       "      <th>2</th>\n",
       "      <td>Yes</td>\n",
       "      <td>Pranayama</td>\n",
       "      <td>NaN</td>\n",
       "      <td>More than 1 year</td>\n",
       "      <td>Daily</td>\n",
       "      <td>Less than 15 minutes</td>\n",
       "      <td>Neutral</td>\n",
       "      <td>Neutral</td>\n",
       "      <td>Neutral</td>\n",
       "      <td>Neutral</td>\n",
       "      <td>...</td>\n",
       "      <td>Neutral</td>\n",
       "      <td>Neutral</td>\n",
       "      <td>Neutral</td>\n",
       "      <td>Neutral</td>\n",
       "      <td>Neutral</td>\n",
       "      <td>Neutral</td>\n",
       "      <td>Very likely</td>\n",
       "      <td>Between 18 and 25</td>\n",
       "      <td>Male</td>\n",
       "      <td>NaN</td>\n",
       "    </tr>\n",
       "    <tr>\n",
       "      <th>3</th>\n",
       "      <td>No</td>\n",
       "      <td>NaN</td>\n",
       "      <td>Lack of concentration</td>\n",
       "      <td>Don't meditate</td>\n",
       "      <td>Don't meditate</td>\n",
       "      <td>Don't meditate</td>\n",
       "      <td>Strongly Agree</td>\n",
       "      <td>Strongly Agree</td>\n",
       "      <td>Strongly Agree</td>\n",
       "      <td>Neutral</td>\n",
       "      <td>...</td>\n",
       "      <td>Disagree</td>\n",
       "      <td>Strongly Agree</td>\n",
       "      <td>Neutral</td>\n",
       "      <td>Neutral</td>\n",
       "      <td>Neutral</td>\n",
       "      <td>Strongly Agree</td>\n",
       "      <td>Very likely</td>\n",
       "      <td>Between 18 and 25</td>\n",
       "      <td>Female</td>\n",
       "      <td>NaN</td>\n",
       "    </tr>\n",
       "    <tr>\n",
       "      <th>4</th>\n",
       "      <td>No</td>\n",
       "      <td>NaN</td>\n",
       "      <td>Don't believe in meditation</td>\n",
       "      <td>Don't meditate</td>\n",
       "      <td>Don't meditate</td>\n",
       "      <td>Don't meditate</td>\n",
       "      <td>Strongly Disagree</td>\n",
       "      <td>Strongly Agree</td>\n",
       "      <td>Strongly Agree</td>\n",
       "      <td>Strongly Agree</td>\n",
       "      <td>...</td>\n",
       "      <td>Strongly Agree</td>\n",
       "      <td>Strongly Agree</td>\n",
       "      <td>Strongly Agree</td>\n",
       "      <td>Strongly Agree</td>\n",
       "      <td>Strongly Agree</td>\n",
       "      <td>Strongly Agree</td>\n",
       "      <td>Not interested at all</td>\n",
       "      <td>Between 25 and 35</td>\n",
       "      <td>Male</td>\n",
       "      <td>NaN</td>\n",
       "    </tr>\n",
       "  </tbody>\n",
       "</table>\n",
       "<p>5 rows × 21 columns</p>\n",
       "</div>"
      ],
      "text/plain": [
       "  Do you meditate?  \\\n",
       "0              Yes   \n",
       "1              Yes   \n",
       "2              Yes   \n",
       "3               No   \n",
       "4               No   \n",
       "\n",
       "  If you meditate, please select the meditative form(style) from the options below:  \\\n",
       "0                                         Breathwork                                  \n",
       "1                                         Breathwork                                  \n",
       "2                                          Pranayama                                  \n",
       "3                                                NaN                                  \n",
       "4                                                NaN                                  \n",
       "\n",
       "  If you don't meditate, please select one of the following reasons:  \\\n",
       "0                                 Lack of spare time                   \n",
       "1                                                NaN                   \n",
       "2                                                NaN                   \n",
       "3                              Lack of concentration                   \n",
       "4                        Don't believe in meditation                   \n",
       "\n",
       "  Since when have you been meditating? How often in a week do you meditate?  \\\n",
       "0                   Less than 3 months                                Daily   \n",
       "1                   Less than 3 months                          Once a week   \n",
       "2                     More than 1 year                                Daily   \n",
       "3                       Don't meditate                       Don't meditate   \n",
       "4                       Don't meditate                       Don't meditate   \n",
       "\n",
       "  For how long do you meditate in a day?  \\\n",
       "0                   Less than 15 minutes   \n",
       "1                   Less than 15 minutes   \n",
       "2                   Less than 15 minutes   \n",
       "3                         Don't meditate   \n",
       "4                         Don't meditate   \n",
       "\n",
       "  What is your level of perception towards the below mentioned factors in your daily life: [I'm stressed]  \\\n",
       "0                                  Strongly Disagree                                                        \n",
       "1                                            Neutral                                                        \n",
       "2                                            Neutral                                                        \n",
       "3                                     Strongly Agree                                                        \n",
       "4                                  Strongly Disagree                                                        \n",
       "\n",
       "  What is your level of perception towards the below mentioned factors in your daily life: [I can control my anger]  \\\n",
       "0                                           Disagree                                                                  \n",
       "1                                  Strongly Disagree                                                                  \n",
       "2                                            Neutral                                                                  \n",
       "3                                     Strongly Agree                                                                  \n",
       "4                                     Strongly Agree                                                                  \n",
       "\n",
       "  What is your level of perception towards the below mentioned factors in your daily life: [I'm emotionally well balanced]  \\\n",
       "0                                            Neutral                                                                         \n",
       "1                                  Strongly Disagree                                                                         \n",
       "2                                            Neutral                                                                         \n",
       "3                                     Strongly Agree                                                                         \n",
       "4                                     Strongly Agree                                                                         \n",
       "\n",
       "  What is your level of perception towards the below mentioned factors in your daily life: [I'm calm]  \\\n",
       "0                                           Disagree                                                    \n",
       "1                                            Neutral                                                    \n",
       "2                                            Neutral                                                    \n",
       "3                                            Neutral                                                    \n",
       "4                                     Strongly Agree                                                    \n",
       "\n",
       "   ...  \\\n",
       "0  ...   \n",
       "1  ...   \n",
       "2  ...   \n",
       "3  ...   \n",
       "4  ...   \n",
       "\n",
       "  What is your level of perception towards the below mentioned factors in your daily life: [I'm healthy]  \\\n",
       "0                                            Neutral                                                       \n",
       "1                                              agree                                                       \n",
       "2                                            Neutral                                                       \n",
       "3                                           Disagree                                                       \n",
       "4                                     Strongly Agree                                                       \n",
       "\n",
       "  What is your level of perception towards the below mentioned factors in your daily life: [I have mental clarity]  \\\n",
       "0                                            Neutral                                                                 \n",
       "1                                     Strongly Agree                                                                 \n",
       "2                                            Neutral                                                                 \n",
       "3                                     Strongly Agree                                                                 \n",
       "4                                     Strongly Agree                                                                 \n",
       "\n",
       "  What is your level of perception towards the below mentioned factors in your daily life: [I'm energetic]  \\\n",
       "0                                           Disagree                                                         \n",
       "1                                     Strongly Agree                                                         \n",
       "2                                            Neutral                                                         \n",
       "3                                            Neutral                                                         \n",
       "4                                     Strongly Agree                                                         \n",
       "\n",
       "  What is your level of perception towards the below mentioned factors in your daily life: [I'm motivated]  \\\n",
       "0                                            Neutral                                                         \n",
       "1                                     Strongly Agree                                                         \n",
       "2                                            Neutral                                                         \n",
       "3                                            Neutral                                                         \n",
       "4                                     Strongly Agree                                                         \n",
       "\n",
       "  What is your level of perception towards the below mentioned factors in your daily life: [I'm focused]  \\\n",
       "0                                            Neutral                                                       \n",
       "1                                     Strongly Agree                                                       \n",
       "2                                            Neutral                                                       \n",
       "3                                            Neutral                                                       \n",
       "4                                     Strongly Agree                                                       \n",
       "\n",
       "  What is your level of perception towards the below mentioned factors in your daily life: [I have proper sleep]  \\\n",
       "0                                           Disagree                                                               \n",
       "1                                     Strongly Agree                                                               \n",
       "2                                            Neutral                                                               \n",
       "3                                     Strongly Agree                                                               \n",
       "4                                     Strongly Agree                                                               \n",
       "\n",
       "  How likely are you to recommend or help someone learn meditation?  \\\n",
       "0                                        Very likely                  \n",
       "1                                        Very likely                  \n",
       "2                                        Very likely                  \n",
       "3                                        Very likely                  \n",
       "4                              Not interested at all                  \n",
       "\n",
       "                 Age  Gender  \\\n",
       "0           Below 18    Male   \n",
       "1  Between 18 and 25  Female   \n",
       "2  Between 18 and 25    Male   \n",
       "3  Between 18 and 25  Female   \n",
       "4  Between 25 and 35    Male   \n",
       "\n",
       "  If you wish to share something more on meditation, please feel free to write. We would love to hear about your views on it.  \n",
       "0                                                NaN                                                                           \n",
       "1                                                NaN                                                                           \n",
       "2                                                NaN                                                                           \n",
       "3                                                NaN                                                                           \n",
       "4                                                NaN                                                                           \n",
       "\n",
       "[5 rows x 21 columns]"
      ]
     },
     "execution_count": 6,
     "metadata": {},
     "output_type": "execute_result"
    }
   ],
   "source": [
    "med.head()"
   ]
  },
  {
   "cell_type": "code",
   "execution_count": 7,
   "id": "0504ef6b",
   "metadata": {},
   "outputs": [],
   "source": [
    "med.columns=[\"m_whether\", \"m_form\", \"m_reason\",\"m_when\" , \"m_often\", \"m_duration\", \"stress\",\"anger\",\"emotions\", \"calm\", \"confidence\", \"health\",                                                                 \n",
    "                \"clarity\",\"energy\", \"motivation\" ,\"focus\" ,\"sleep\",\"recommend\", \"age\",   \"gender\", \"comments\" ]                                              "
   ]
  },
  {
   "cell_type": "code",
   "execution_count": 8,
   "id": "e74837f0",
   "metadata": {},
   "outputs": [
    {
     "data": {
      "text/plain": [
       "Index(['m_whether', 'm_form', 'm_reason', 'm_when', 'm_often', 'm_duration',\n",
       "       'stress', 'anger', 'emotions', 'calm', 'confidence', 'health',\n",
       "       'clarity', 'energy', 'motivation', 'focus', 'sleep', 'recommend', 'age',\n",
       "       'gender', 'comments'],\n",
       "      dtype='object')"
      ]
     },
     "execution_count": 8,
     "metadata": {},
     "output_type": "execute_result"
    }
   ],
   "source": [
    "med.columns    #the names of the columns have been changed for ease of analysis and visualizations"
   ]
  },
  {
   "cell_type": "code",
   "execution_count": 9,
   "id": "126fb9df",
   "metadata": {},
   "outputs": [
    {
     "data": {
      "text/html": [
       "<div>\n",
       "<style scoped>\n",
       "    .dataframe tbody tr th:only-of-type {\n",
       "        vertical-align: middle;\n",
       "    }\n",
       "\n",
       "    .dataframe tbody tr th {\n",
       "        vertical-align: top;\n",
       "    }\n",
       "\n",
       "    .dataframe thead th {\n",
       "        text-align: right;\n",
       "    }\n",
       "</style>\n",
       "<table border=\"1\" class=\"dataframe\">\n",
       "  <thead>\n",
       "    <tr style=\"text-align: right;\">\n",
       "      <th></th>\n",
       "      <th>m_whether</th>\n",
       "      <th>m_form</th>\n",
       "      <th>m_reason</th>\n",
       "      <th>m_when</th>\n",
       "      <th>m_often</th>\n",
       "      <th>m_duration</th>\n",
       "      <th>stress</th>\n",
       "      <th>anger</th>\n",
       "      <th>emotions</th>\n",
       "      <th>calm</th>\n",
       "      <th>...</th>\n",
       "      <th>health</th>\n",
       "      <th>clarity</th>\n",
       "      <th>energy</th>\n",
       "      <th>motivation</th>\n",
       "      <th>focus</th>\n",
       "      <th>sleep</th>\n",
       "      <th>recommend</th>\n",
       "      <th>age</th>\n",
       "      <th>gender</th>\n",
       "      <th>comments</th>\n",
       "    </tr>\n",
       "  </thead>\n",
       "  <tbody>\n",
       "    <tr>\n",
       "      <th>0</th>\n",
       "      <td>Yes</td>\n",
       "      <td>Breathwork</td>\n",
       "      <td>Lack of spare time</td>\n",
       "      <td>Less than 3 months</td>\n",
       "      <td>Daily</td>\n",
       "      <td>Less than 15 minutes</td>\n",
       "      <td>Strongly Disagree</td>\n",
       "      <td>Disagree</td>\n",
       "      <td>Neutral</td>\n",
       "      <td>Disagree</td>\n",
       "      <td>...</td>\n",
       "      <td>Neutral</td>\n",
       "      <td>Neutral</td>\n",
       "      <td>Disagree</td>\n",
       "      <td>Neutral</td>\n",
       "      <td>Neutral</td>\n",
       "      <td>Disagree</td>\n",
       "      <td>Very likely</td>\n",
       "      <td>Below 18</td>\n",
       "      <td>Male</td>\n",
       "      <td>NaN</td>\n",
       "    </tr>\n",
       "    <tr>\n",
       "      <th>1</th>\n",
       "      <td>Yes</td>\n",
       "      <td>Breathwork</td>\n",
       "      <td>NaN</td>\n",
       "      <td>Less than 3 months</td>\n",
       "      <td>Once a week</td>\n",
       "      <td>Less than 15 minutes</td>\n",
       "      <td>Neutral</td>\n",
       "      <td>Strongly Disagree</td>\n",
       "      <td>Strongly Disagree</td>\n",
       "      <td>Neutral</td>\n",
       "      <td>...</td>\n",
       "      <td>agree</td>\n",
       "      <td>Strongly Agree</td>\n",
       "      <td>Strongly Agree</td>\n",
       "      <td>Strongly Agree</td>\n",
       "      <td>Strongly Agree</td>\n",
       "      <td>Strongly Agree</td>\n",
       "      <td>Very likely</td>\n",
       "      <td>Between 18 and 25</td>\n",
       "      <td>Female</td>\n",
       "      <td>NaN</td>\n",
       "    </tr>\n",
       "    <tr>\n",
       "      <th>2</th>\n",
       "      <td>Yes</td>\n",
       "      <td>Pranayama</td>\n",
       "      <td>NaN</td>\n",
       "      <td>More than 1 year</td>\n",
       "      <td>Daily</td>\n",
       "      <td>Less than 15 minutes</td>\n",
       "      <td>Neutral</td>\n",
       "      <td>Neutral</td>\n",
       "      <td>Neutral</td>\n",
       "      <td>Neutral</td>\n",
       "      <td>...</td>\n",
       "      <td>Neutral</td>\n",
       "      <td>Neutral</td>\n",
       "      <td>Neutral</td>\n",
       "      <td>Neutral</td>\n",
       "      <td>Neutral</td>\n",
       "      <td>Neutral</td>\n",
       "      <td>Very likely</td>\n",
       "      <td>Between 18 and 25</td>\n",
       "      <td>Male</td>\n",
       "      <td>NaN</td>\n",
       "    </tr>\n",
       "    <tr>\n",
       "      <th>3</th>\n",
       "      <td>No</td>\n",
       "      <td>NaN</td>\n",
       "      <td>Lack of concentration</td>\n",
       "      <td>Don't meditate</td>\n",
       "      <td>Don't meditate</td>\n",
       "      <td>Don't meditate</td>\n",
       "      <td>Strongly Agree</td>\n",
       "      <td>Strongly Agree</td>\n",
       "      <td>Strongly Agree</td>\n",
       "      <td>Neutral</td>\n",
       "      <td>...</td>\n",
       "      <td>Disagree</td>\n",
       "      <td>Strongly Agree</td>\n",
       "      <td>Neutral</td>\n",
       "      <td>Neutral</td>\n",
       "      <td>Neutral</td>\n",
       "      <td>Strongly Agree</td>\n",
       "      <td>Very likely</td>\n",
       "      <td>Between 18 and 25</td>\n",
       "      <td>Female</td>\n",
       "      <td>NaN</td>\n",
       "    </tr>\n",
       "    <tr>\n",
       "      <th>4</th>\n",
       "      <td>No</td>\n",
       "      <td>NaN</td>\n",
       "      <td>Don't believe in meditation</td>\n",
       "      <td>Don't meditate</td>\n",
       "      <td>Don't meditate</td>\n",
       "      <td>Don't meditate</td>\n",
       "      <td>Strongly Disagree</td>\n",
       "      <td>Strongly Agree</td>\n",
       "      <td>Strongly Agree</td>\n",
       "      <td>Strongly Agree</td>\n",
       "      <td>...</td>\n",
       "      <td>Strongly Agree</td>\n",
       "      <td>Strongly Agree</td>\n",
       "      <td>Strongly Agree</td>\n",
       "      <td>Strongly Agree</td>\n",
       "      <td>Strongly Agree</td>\n",
       "      <td>Strongly Agree</td>\n",
       "      <td>Not interested at all</td>\n",
       "      <td>Between 25 and 35</td>\n",
       "      <td>Male</td>\n",
       "      <td>NaN</td>\n",
       "    </tr>\n",
       "  </tbody>\n",
       "</table>\n",
       "<p>5 rows × 21 columns</p>\n",
       "</div>"
      ],
      "text/plain": [
       "  m_whether      m_form                     m_reason              m_when  \\\n",
       "0       Yes  Breathwork           Lack of spare time  Less than 3 months   \n",
       "1       Yes  Breathwork                          NaN  Less than 3 months   \n",
       "2       Yes   Pranayama                          NaN    More than 1 year   \n",
       "3        No         NaN        Lack of concentration      Don't meditate   \n",
       "4        No         NaN  Don't believe in meditation      Don't meditate   \n",
       "\n",
       "          m_often            m_duration             stress              anger  \\\n",
       "0           Daily  Less than 15 minutes  Strongly Disagree           Disagree   \n",
       "1     Once a week  Less than 15 minutes            Neutral  Strongly Disagree   \n",
       "2           Daily  Less than 15 minutes            Neutral            Neutral   \n",
       "3  Don't meditate        Don't meditate     Strongly Agree     Strongly Agree   \n",
       "4  Don't meditate        Don't meditate  Strongly Disagree     Strongly Agree   \n",
       "\n",
       "            emotions            calm  ...          health         clarity  \\\n",
       "0            Neutral        Disagree  ...         Neutral         Neutral   \n",
       "1  Strongly Disagree         Neutral  ...           agree  Strongly Agree   \n",
       "2            Neutral         Neutral  ...         Neutral         Neutral   \n",
       "3     Strongly Agree         Neutral  ...        Disagree  Strongly Agree   \n",
       "4     Strongly Agree  Strongly Agree  ...  Strongly Agree  Strongly Agree   \n",
       "\n",
       "           energy      motivation           focus           sleep  \\\n",
       "0        Disagree         Neutral         Neutral        Disagree   \n",
       "1  Strongly Agree  Strongly Agree  Strongly Agree  Strongly Agree   \n",
       "2         Neutral         Neutral         Neutral         Neutral   \n",
       "3         Neutral         Neutral         Neutral  Strongly Agree   \n",
       "4  Strongly Agree  Strongly Agree  Strongly Agree  Strongly Agree   \n",
       "\n",
       "               recommend                age  gender comments  \n",
       "0            Very likely           Below 18    Male      NaN  \n",
       "1            Very likely  Between 18 and 25  Female      NaN  \n",
       "2            Very likely  Between 18 and 25    Male      NaN  \n",
       "3            Very likely  Between 18 and 25  Female      NaN  \n",
       "4  Not interested at all  Between 25 and 35    Male      NaN  \n",
       "\n",
       "[5 rows x 21 columns]"
      ]
     },
     "execution_count": 9,
     "metadata": {},
     "output_type": "execute_result"
    }
   ],
   "source": [
    "med.head()"
   ]
  },
  {
   "cell_type": "code",
   "execution_count": 10,
   "id": "925753ff",
   "metadata": {},
   "outputs": [],
   "source": [
    "##Filtering the values(as per people who have said yes to meditation and in reason given don't meditate. Similarly for people who have said no and said don't meditate as reason )"
   ]
  },
  {
   "cell_type": "code",
   "execution_count": 11,
   "id": "a2463a1c",
   "metadata": {},
   "outputs": [],
   "source": [
    "final =med[(med['m_whether']=='Yes') & (med['m_when']!=\"Don't meditate\") | (med['m_whether']=='No') & (med['m_when']==\"Don't meditate\")    ] "
   ]
  },
  {
   "cell_type": "code",
   "execution_count": 12,
   "id": "db6b7fd7",
   "metadata": {},
   "outputs": [
    {
     "data": {
      "text/html": [
       "<div>\n",
       "<style scoped>\n",
       "    .dataframe tbody tr th:only-of-type {\n",
       "        vertical-align: middle;\n",
       "    }\n",
       "\n",
       "    .dataframe tbody tr th {\n",
       "        vertical-align: top;\n",
       "    }\n",
       "\n",
       "    .dataframe thead th {\n",
       "        text-align: right;\n",
       "    }\n",
       "</style>\n",
       "<table border=\"1\" class=\"dataframe\">\n",
       "  <thead>\n",
       "    <tr style=\"text-align: right;\">\n",
       "      <th></th>\n",
       "      <th>m_whether</th>\n",
       "      <th>m_form</th>\n",
       "      <th>m_reason</th>\n",
       "      <th>m_when</th>\n",
       "      <th>m_often</th>\n",
       "      <th>m_duration</th>\n",
       "      <th>stress</th>\n",
       "      <th>anger</th>\n",
       "      <th>emotions</th>\n",
       "      <th>calm</th>\n",
       "      <th>...</th>\n",
       "      <th>health</th>\n",
       "      <th>clarity</th>\n",
       "      <th>energy</th>\n",
       "      <th>motivation</th>\n",
       "      <th>focus</th>\n",
       "      <th>sleep</th>\n",
       "      <th>recommend</th>\n",
       "      <th>age</th>\n",
       "      <th>gender</th>\n",
       "      <th>comments</th>\n",
       "    </tr>\n",
       "  </thead>\n",
       "  <tbody>\n",
       "    <tr>\n",
       "      <th>0</th>\n",
       "      <td>Yes</td>\n",
       "      <td>Breathwork</td>\n",
       "      <td>Lack of spare time</td>\n",
       "      <td>Less than 3 months</td>\n",
       "      <td>Daily</td>\n",
       "      <td>Less than 15 minutes</td>\n",
       "      <td>Strongly Disagree</td>\n",
       "      <td>Disagree</td>\n",
       "      <td>Neutral</td>\n",
       "      <td>Disagree</td>\n",
       "      <td>...</td>\n",
       "      <td>Neutral</td>\n",
       "      <td>Neutral</td>\n",
       "      <td>Disagree</td>\n",
       "      <td>Neutral</td>\n",
       "      <td>Neutral</td>\n",
       "      <td>Disagree</td>\n",
       "      <td>Very likely</td>\n",
       "      <td>Below 18</td>\n",
       "      <td>Male</td>\n",
       "      <td>NaN</td>\n",
       "    </tr>\n",
       "    <tr>\n",
       "      <th>1</th>\n",
       "      <td>Yes</td>\n",
       "      <td>Breathwork</td>\n",
       "      <td>NaN</td>\n",
       "      <td>Less than 3 months</td>\n",
       "      <td>Once a week</td>\n",
       "      <td>Less than 15 minutes</td>\n",
       "      <td>Neutral</td>\n",
       "      <td>Strongly Disagree</td>\n",
       "      <td>Strongly Disagree</td>\n",
       "      <td>Neutral</td>\n",
       "      <td>...</td>\n",
       "      <td>agree</td>\n",
       "      <td>Strongly Agree</td>\n",
       "      <td>Strongly Agree</td>\n",
       "      <td>Strongly Agree</td>\n",
       "      <td>Strongly Agree</td>\n",
       "      <td>Strongly Agree</td>\n",
       "      <td>Very likely</td>\n",
       "      <td>Between 18 and 25</td>\n",
       "      <td>Female</td>\n",
       "      <td>NaN</td>\n",
       "    </tr>\n",
       "    <tr>\n",
       "      <th>2</th>\n",
       "      <td>Yes</td>\n",
       "      <td>Pranayama</td>\n",
       "      <td>NaN</td>\n",
       "      <td>More than 1 year</td>\n",
       "      <td>Daily</td>\n",
       "      <td>Less than 15 minutes</td>\n",
       "      <td>Neutral</td>\n",
       "      <td>Neutral</td>\n",
       "      <td>Neutral</td>\n",
       "      <td>Neutral</td>\n",
       "      <td>...</td>\n",
       "      <td>Neutral</td>\n",
       "      <td>Neutral</td>\n",
       "      <td>Neutral</td>\n",
       "      <td>Neutral</td>\n",
       "      <td>Neutral</td>\n",
       "      <td>Neutral</td>\n",
       "      <td>Very likely</td>\n",
       "      <td>Between 18 and 25</td>\n",
       "      <td>Male</td>\n",
       "      <td>NaN</td>\n",
       "    </tr>\n",
       "    <tr>\n",
       "      <th>3</th>\n",
       "      <td>No</td>\n",
       "      <td>NaN</td>\n",
       "      <td>Lack of concentration</td>\n",
       "      <td>Don't meditate</td>\n",
       "      <td>Don't meditate</td>\n",
       "      <td>Don't meditate</td>\n",
       "      <td>Strongly Agree</td>\n",
       "      <td>Strongly Agree</td>\n",
       "      <td>Strongly Agree</td>\n",
       "      <td>Neutral</td>\n",
       "      <td>...</td>\n",
       "      <td>Disagree</td>\n",
       "      <td>Strongly Agree</td>\n",
       "      <td>Neutral</td>\n",
       "      <td>Neutral</td>\n",
       "      <td>Neutral</td>\n",
       "      <td>Strongly Agree</td>\n",
       "      <td>Very likely</td>\n",
       "      <td>Between 18 and 25</td>\n",
       "      <td>Female</td>\n",
       "      <td>NaN</td>\n",
       "    </tr>\n",
       "    <tr>\n",
       "      <th>4</th>\n",
       "      <td>No</td>\n",
       "      <td>NaN</td>\n",
       "      <td>Don't believe in meditation</td>\n",
       "      <td>Don't meditate</td>\n",
       "      <td>Don't meditate</td>\n",
       "      <td>Don't meditate</td>\n",
       "      <td>Strongly Disagree</td>\n",
       "      <td>Strongly Agree</td>\n",
       "      <td>Strongly Agree</td>\n",
       "      <td>Strongly Agree</td>\n",
       "      <td>...</td>\n",
       "      <td>Strongly Agree</td>\n",
       "      <td>Strongly Agree</td>\n",
       "      <td>Strongly Agree</td>\n",
       "      <td>Strongly Agree</td>\n",
       "      <td>Strongly Agree</td>\n",
       "      <td>Strongly Agree</td>\n",
       "      <td>Not interested at all</td>\n",
       "      <td>Between 25 and 35</td>\n",
       "      <td>Male</td>\n",
       "      <td>NaN</td>\n",
       "    </tr>\n",
       "  </tbody>\n",
       "</table>\n",
       "<p>5 rows × 21 columns</p>\n",
       "</div>"
      ],
      "text/plain": [
       "  m_whether      m_form                     m_reason              m_when  \\\n",
       "0       Yes  Breathwork           Lack of spare time  Less than 3 months   \n",
       "1       Yes  Breathwork                          NaN  Less than 3 months   \n",
       "2       Yes   Pranayama                          NaN    More than 1 year   \n",
       "3        No         NaN        Lack of concentration      Don't meditate   \n",
       "4        No         NaN  Don't believe in meditation      Don't meditate   \n",
       "\n",
       "          m_often            m_duration             stress              anger  \\\n",
       "0           Daily  Less than 15 minutes  Strongly Disagree           Disagree   \n",
       "1     Once a week  Less than 15 minutes            Neutral  Strongly Disagree   \n",
       "2           Daily  Less than 15 minutes            Neutral            Neutral   \n",
       "3  Don't meditate        Don't meditate     Strongly Agree     Strongly Agree   \n",
       "4  Don't meditate        Don't meditate  Strongly Disagree     Strongly Agree   \n",
       "\n",
       "            emotions            calm  ...          health         clarity  \\\n",
       "0            Neutral        Disagree  ...         Neutral         Neutral   \n",
       "1  Strongly Disagree         Neutral  ...           agree  Strongly Agree   \n",
       "2            Neutral         Neutral  ...         Neutral         Neutral   \n",
       "3     Strongly Agree         Neutral  ...        Disagree  Strongly Agree   \n",
       "4     Strongly Agree  Strongly Agree  ...  Strongly Agree  Strongly Agree   \n",
       "\n",
       "           energy      motivation           focus           sleep  \\\n",
       "0        Disagree         Neutral         Neutral        Disagree   \n",
       "1  Strongly Agree  Strongly Agree  Strongly Agree  Strongly Agree   \n",
       "2         Neutral         Neutral         Neutral         Neutral   \n",
       "3         Neutral         Neutral         Neutral  Strongly Agree   \n",
       "4  Strongly Agree  Strongly Agree  Strongly Agree  Strongly Agree   \n",
       "\n",
       "               recommend                age  gender comments  \n",
       "0            Very likely           Below 18    Male      NaN  \n",
       "1            Very likely  Between 18 and 25  Female      NaN  \n",
       "2            Very likely  Between 18 and 25    Male      NaN  \n",
       "3            Very likely  Between 18 and 25  Female      NaN  \n",
       "4  Not interested at all  Between 25 and 35    Male      NaN  \n",
       "\n",
       "[5 rows x 21 columns]"
      ]
     },
     "execution_count": 12,
     "metadata": {},
     "output_type": "execute_result"
    }
   ],
   "source": [
    "final.head()"
   ]
  },
  {
   "cell_type": "code",
   "execution_count": 13,
   "id": "a04d81fe",
   "metadata": {},
   "outputs": [
    {
     "data": {
      "text/plain": [
       "101"
      ]
     },
     "execution_count": 13,
     "metadata": {},
     "output_type": "execute_result"
    }
   ],
   "source": [
    "final.shape[0]"
   ]
  },
  {
   "cell_type": "code",
   "execution_count": 14,
   "id": "dde5ca9b",
   "metadata": {},
   "outputs": [
    {
     "data": {
      "text/plain": [
       "array(['Below 18', 'Between 18 and 25', 'Between 25 and 35',\n",
       "       'Between 35 and 50'], dtype=object)"
      ]
     },
     "execution_count": 14,
     "metadata": {},
     "output_type": "execute_result"
    }
   ],
   "source": [
    "final['age'].unique()"
   ]
  },
  {
   "cell_type": "code",
   "execution_count": 15,
   "id": "3020f004",
   "metadata": {},
   "outputs": [
    {
     "name": "stderr",
     "output_type": "stream",
     "text": [
      "C:\\Users\\rajat\\anaconda3\\lib\\site-packages\\pandas\\core\\generic.py:6619: SettingWithCopyWarning: \n",
      "A value is trying to be set on a copy of a slice from a DataFrame\n",
      "\n",
      "See the caveats in the documentation: https://pandas.pydata.org/pandas-docs/stable/user_guide/indexing.html#returning-a-view-versus-a-copy\n",
      "  return self._update_inplace(result)\n"
     ]
    }
   ],
   "source": [
    "#changing the names of the options in 'age' column:\n",
    "final['age'].replace(to_replace=['Below 18', 'Between 18 and 25', 'Between 25 and 35',\n",
    "       'Between 35 and 50'],value=['<18','18-25','25-35','35-50'],inplace=True)"
   ]
  },
  {
   "cell_type": "code",
   "execution_count": 16,
   "id": "04255b18",
   "metadata": {},
   "outputs": [],
   "source": [
    "final['m_when'].replace(to_replace=['Less than 3 months', 'More than 1 year', \"Don't meditate\",\n",
    "       'More than 3 months but less than 6 months',\n",
    "       'More than 6 months but less than 1 year'],value=['<3 mon','>1 year','Never','>3 mon and <6 mon','>6 mon and <1 year'],inplace=True)"
   ]
  },
  {
   "cell_type": "code",
   "execution_count": 17,
   "id": "ab5d1856",
   "metadata": {},
   "outputs": [
    {
     "data": {
      "text/plain": [
       "array(['<3 mon', '>1 year', 'Never', '>3 mon and <6 mon',\n",
       "       '>6 mon and <1 year'], dtype=object)"
      ]
     },
     "execution_count": 17,
     "metadata": {},
     "output_type": "execute_result"
    }
   ],
   "source": [
    "final['m_when'].unique()"
   ]
  },
  {
   "cell_type": "code",
   "execution_count": 18,
   "id": "7747ca9a",
   "metadata": {},
   "outputs": [
    {
     "data": {
      "text/plain": [
       "array(['<18', '18-25', '25-35', '35-50'], dtype=object)"
      ]
     },
     "execution_count": 18,
     "metadata": {},
     "output_type": "execute_result"
    }
   ],
   "source": [
    "final['age'].unique()"
   ]
  },
  {
   "cell_type": "markdown",
   "id": "98b52a03",
   "metadata": {},
   "source": [
    "# Visualizations"
   ]
  },
  {
   "cell_type": "markdown",
   "id": "fcb0e179",
   "metadata": {},
   "source": [
    "## Fig.1- % Response - Yes / No\n",
    "\n",
    "### This graph is aimed at visualizing the people who have said yes / no to the question whether they do meditation or not."
   ]
  },
  {
   "cell_type": "code",
   "execution_count": 19,
   "id": "269fb023",
   "metadata": {},
   "outputs": [
    {
     "data": {
      "image/png": "[encoded data removed]",
      "text/plain": [
       "<Figure size 432x288 with 1 Axes>"
      ]
     },
     "metadata": {},
     "output_type": "display_data"
    }
   ],
   "source": [
    "# overall responses based on their whether they meditate or not\n",
    "final.groupby('m_whether').size().plot(kind='pie', autopct='%2.f', fontsize= 15, legend=True)\n",
    "plt.show()"
   ]
  },
  {
   "cell_type": "markdown",
   "id": "3cd1715b",
   "metadata": {},
   "source": [
    "## Fig.2-% Response - Age-wise\n",
    "\n",
    "### This graph summarizes in which age category the respondents fall into."
   ]
  },
  {
   "cell_type": "code",
   "execution_count": 20,
   "id": "187dcc68",
   "metadata": {},
   "outputs": [
    {
     "data": {
      "image/png": "[encoded data removed]",
      "text/plain": [
       "<Figure size 432x288 with 1 Axes>"
      ]
     },
     "metadata": {},
     "output_type": "display_data"
    }
   ],
   "source": [
    "#overall target audience based on their age:\n",
    "final.groupby('age').size().plot(kind='pie', autopct='%2.f', fontsize= 15,title=\"Age wise distribution:\",explode=[0,0,0,1],legend = True)\n",
    "plt.show()"
   ]
  },
  {
   "cell_type": "markdown",
   "id": "0c715da2",
   "metadata": {},
   "source": [
    "## Fig.3-% of Respondents - Gender wise \n",
    "\n",
    "### This graph will help us to understand the genderwise distribution of our respondents who have said yes / no to meditation. It is a comprehensive graph of gender and response."
   ]
  },
  {
   "cell_type": "code",
   "execution_count": 21,
   "id": "3bd89c09",
   "metadata": {},
   "outputs": [
    {
     "data": {
      "text/html": [
       "<div>\n",
       "<style scoped>\n",
       "    .dataframe tbody tr th:only-of-type {\n",
       "        vertical-align: middle;\n",
       "    }\n",
       "\n",
       "    .dataframe tbody tr th {\n",
       "        vertical-align: top;\n",
       "    }\n",
       "\n",
       "    .dataframe thead th {\n",
       "        text-align: right;\n",
       "    }\n",
       "</style>\n",
       "<table border=\"1\" class=\"dataframe\">\n",
       "  <thead>\n",
       "    <tr style=\"text-align: right;\">\n",
       "      <th></th>\n",
       "      <th>Anlom Vilom</th>\n",
       "      <th>Breathwork</th>\n",
       "      <th>Guided</th>\n",
       "      <th>Isha kriya, sadhguru presence, chit shakti</th>\n",
       "      <th>Mindfulness</th>\n",
       "      <th>None :(</th>\n",
       "      <th>Pranayama</th>\n",
       "      <th>Shambhavi Mahamudra Kriya</th>\n",
       "      <th>Sudarshan Kriya</th>\n",
       "      <th>Vipasana/Buddhist meditation</th>\n",
       "      <th>aware about none</th>\n",
       "    </tr>\n",
       "  </thead>\n",
       "  <tbody>\n",
       "    <tr>\n",
       "      <th>0</th>\n",
       "      <td>0</td>\n",
       "      <td>1</td>\n",
       "      <td>0</td>\n",
       "      <td>0</td>\n",
       "      <td>0</td>\n",
       "      <td>0</td>\n",
       "      <td>0</td>\n",
       "      <td>0</td>\n",
       "      <td>0</td>\n",
       "      <td>0</td>\n",
       "      <td>0</td>\n",
       "    </tr>\n",
       "    <tr>\n",
       "      <th>1</th>\n",
       "      <td>0</td>\n",
       "      <td>1</td>\n",
       "      <td>0</td>\n",
       "      <td>0</td>\n",
       "      <td>0</td>\n",
       "      <td>0</td>\n",
       "      <td>0</td>\n",
       "      <td>0</td>\n",
       "      <td>0</td>\n",
       "      <td>0</td>\n",
       "      <td>0</td>\n",
       "    </tr>\n",
       "    <tr>\n",
       "      <th>2</th>\n",
       "      <td>0</td>\n",
       "      <td>0</td>\n",
       "      <td>0</td>\n",
       "      <td>0</td>\n",
       "      <td>0</td>\n",
       "      <td>0</td>\n",
       "      <td>1</td>\n",
       "      <td>0</td>\n",
       "      <td>0</td>\n",
       "      <td>0</td>\n",
       "      <td>0</td>\n",
       "    </tr>\n",
       "    <tr>\n",
       "      <th>3</th>\n",
       "      <td>0</td>\n",
       "      <td>0</td>\n",
       "      <td>0</td>\n",
       "      <td>0</td>\n",
       "      <td>0</td>\n",
       "      <td>0</td>\n",
       "      <td>0</td>\n",
       "      <td>0</td>\n",
       "      <td>0</td>\n",
       "      <td>0</td>\n",
       "      <td>0</td>\n",
       "    </tr>\n",
       "    <tr>\n",
       "      <th>4</th>\n",
       "      <td>0</td>\n",
       "      <td>0</td>\n",
       "      <td>0</td>\n",
       "      <td>0</td>\n",
       "      <td>0</td>\n",
       "      <td>0</td>\n",
       "      <td>0</td>\n",
       "      <td>0</td>\n",
       "      <td>0</td>\n",
       "      <td>0</td>\n",
       "      <td>0</td>\n",
       "    </tr>\n",
       "    <tr>\n",
       "      <th>...</th>\n",
       "      <td>...</td>\n",
       "      <td>...</td>\n",
       "      <td>...</td>\n",
       "      <td>...</td>\n",
       "      <td>...</td>\n",
       "      <td>...</td>\n",
       "      <td>...</td>\n",
       "      <td>...</td>\n",
       "      <td>...</td>\n",
       "      <td>...</td>\n",
       "      <td>...</td>\n",
       "    </tr>\n",
       "    <tr>\n",
       "      <th>102</th>\n",
       "      <td>0</td>\n",
       "      <td>0</td>\n",
       "      <td>0</td>\n",
       "      <td>0</td>\n",
       "      <td>0</td>\n",
       "      <td>0</td>\n",
       "      <td>0</td>\n",
       "      <td>0</td>\n",
       "      <td>0</td>\n",
       "      <td>0</td>\n",
       "      <td>0</td>\n",
       "    </tr>\n",
       "    <tr>\n",
       "      <th>103</th>\n",
       "      <td>0</td>\n",
       "      <td>1</td>\n",
       "      <td>0</td>\n",
       "      <td>0</td>\n",
       "      <td>0</td>\n",
       "      <td>0</td>\n",
       "      <td>1</td>\n",
       "      <td>0</td>\n",
       "      <td>0</td>\n",
       "      <td>0</td>\n",
       "      <td>0</td>\n",
       "    </tr>\n",
       "    <tr>\n",
       "      <th>104</th>\n",
       "      <td>0</td>\n",
       "      <td>0</td>\n",
       "      <td>0</td>\n",
       "      <td>0</td>\n",
       "      <td>0</td>\n",
       "      <td>0</td>\n",
       "      <td>0</td>\n",
       "      <td>0</td>\n",
       "      <td>0</td>\n",
       "      <td>0</td>\n",
       "      <td>0</td>\n",
       "    </tr>\n",
       "    <tr>\n",
       "      <th>105</th>\n",
       "      <td>0</td>\n",
       "      <td>0</td>\n",
       "      <td>0</td>\n",
       "      <td>0</td>\n",
       "      <td>0</td>\n",
       "      <td>0</td>\n",
       "      <td>0</td>\n",
       "      <td>0</td>\n",
       "      <td>0</td>\n",
       "      <td>0</td>\n",
       "      <td>0</td>\n",
       "    </tr>\n",
       "    <tr>\n",
       "      <th>106</th>\n",
       "      <td>0</td>\n",
       "      <td>0</td>\n",
       "      <td>0</td>\n",
       "      <td>0</td>\n",
       "      <td>0</td>\n",
       "      <td>0</td>\n",
       "      <td>0</td>\n",
       "      <td>0</td>\n",
       "      <td>0</td>\n",
       "      <td>0</td>\n",
       "      <td>0</td>\n",
       "    </tr>\n",
       "  </tbody>\n",
       "</table>\n",
       "<p>101 rows × 11 columns</p>\n",
       "</div>"
      ],
      "text/plain": [
       "     Anlom Vilom   Breathwork  Guided   \\\n",
       "0               0           1        0   \n",
       "1               0           1        0   \n",
       "2               0           0        0   \n",
       "3               0           0        0   \n",
       "4               0           0        0   \n",
       "..            ...         ...      ...   \n",
       "102             0           0        0   \n",
       "103             0           1        0   \n",
       "104             0           0        0   \n",
       "105             0           0        0   \n",
       "106             0           0        0   \n",
       "\n",
       "     Isha kriya, sadhguru presence, chit shakti  Mindfulness   None :(  \\\n",
       "0                                             0             0        0   \n",
       "1                                             0             0        0   \n",
       "2                                             0             0        0   \n",
       "3                                             0             0        0   \n",
       "4                                             0             0        0   \n",
       "..                                          ...           ...      ...   \n",
       "102                                           0             0        0   \n",
       "103                                           0             0        0   \n",
       "104                                           0             0        0   \n",
       "105                                           0             0        0   \n",
       "106                                           0             0        0   \n",
       "\n",
       "     Pranayama  Shambhavi Mahamudra Kriya  Sudarshan Kriya  \\\n",
       "0            0                          0                0   \n",
       "1            0                          0                0   \n",
       "2            1                          0                0   \n",
       "3            0                          0                0   \n",
       "4            0                          0                0   \n",
       "..         ...                        ...              ...   \n",
       "102          0                          0                0   \n",
       "103          1                          0                0   \n",
       "104          0                          0                0   \n",
       "105          0                          0                0   \n",
       "106          0                          0                0   \n",
       "\n",
       "     Vipasana/Buddhist meditation  aware about none  \n",
       "0                               0                 0  \n",
       "1                               0                 0  \n",
       "2                               0                 0  \n",
       "3                               0                 0  \n",
       "4                               0                 0  \n",
       "..                            ...               ...  \n",
       "102                             0                 0  \n",
       "103                             0                 0  \n",
       "104                             0                 0  \n",
       "105                             0                 0  \n",
       "106                             0                 0  \n",
       "\n",
       "[101 rows x 11 columns]"
      ]
     },
     "execution_count": 21,
     "metadata": {},
     "output_type": "execute_result"
    }
   ],
   "source": [
    "final['m_form'].str.get_dummies(';')"
   ]
  },
  {
   "cell_type": "code",
   "execution_count": 22,
   "id": "85b5a577",
   "metadata": {},
   "outputs": [
    {
     "name": "stdout",
     "output_type": "stream",
     "text": [
      "    m_whether  Female  Male  Prefer not to say\n",
      "0         Yes       0     1                  0\n",
      "1         Yes       1     0                  0\n",
      "2         Yes       0     1                  0\n",
      "3          No       1     0                  0\n",
      "4          No       0     1                  0\n",
      "..        ...     ...   ...                ...\n",
      "102        No       0     1                  0\n",
      "103       Yes       0     1                  0\n",
      "104        No       0     1                  0\n",
      "105        No       0     1                  0\n",
      "106        No       0     1                  0\n",
      "\n",
      "[101 rows x 4 columns]\n"
     ]
    },
    {
     "data": {
      "text/html": [
       "<div>\n",
       "<style scoped>\n",
       "    .dataframe tbody tr th:only-of-type {\n",
       "        vertical-align: middle;\n",
       "    }\n",
       "\n",
       "    .dataframe tbody tr th {\n",
       "        vertical-align: top;\n",
       "    }\n",
       "\n",
       "    .dataframe thead th {\n",
       "        text-align: right;\n",
       "    }\n",
       "</style>\n",
       "<table border=\"1\" class=\"dataframe\">\n",
       "  <thead>\n",
       "    <tr style=\"text-align: right;\">\n",
       "      <th></th>\n",
       "      <th>Female</th>\n",
       "      <th>Male</th>\n",
       "      <th>Prefer not to say</th>\n",
       "    </tr>\n",
       "    <tr>\n",
       "      <th>m_whether</th>\n",
       "      <th></th>\n",
       "      <th></th>\n",
       "      <th></th>\n",
       "    </tr>\n",
       "  </thead>\n",
       "  <tbody>\n",
       "    <tr>\n",
       "      <th>No</th>\n",
       "      <td>11</td>\n",
       "      <td>40</td>\n",
       "      <td>2</td>\n",
       "    </tr>\n",
       "    <tr>\n",
       "      <th>Yes</th>\n",
       "      <td>25</td>\n",
       "      <td>23</td>\n",
       "      <td>0</td>\n",
       "    </tr>\n",
       "  </tbody>\n",
       "</table>\n",
       "</div>"
      ],
      "text/plain": [
       "           Female  Male  Prefer not to say\n",
       "m_whether                                 \n",
       "No             11    40                  2\n",
       "Yes            25    23                  0"
      ]
     },
     "execution_count": 22,
     "metadata": {},
     "output_type": "execute_result"
    }
   ],
   "source": [
    "df = pd.concat([final.m_whether, final.gender.str.get_dummies()], axis = 1); print(df)\n",
    "p = df.groupby(\"m_whether\").aggregate(sum); p"
   ]
  },
  {
   "cell_type": "code",
   "execution_count": 23,
   "id": "10ecd74f",
   "metadata": {},
   "outputs": [],
   "source": [
    "df1 = pd.DataFrame(pd.value_counts(final.m_whether))"
   ]
  },
  {
   "cell_type": "code",
   "execution_count": 24,
   "id": "682f150a",
   "metadata": {},
   "outputs": [
    {
     "data": {
      "text/html": [
       "<div>\n",
       "<style scoped>\n",
       "    .dataframe tbody tr th:only-of-type {\n",
       "        vertical-align: middle;\n",
       "    }\n",
       "\n",
       "    .dataframe tbody tr th {\n",
       "        vertical-align: top;\n",
       "    }\n",
       "\n",
       "    .dataframe thead th {\n",
       "        text-align: right;\n",
       "    }\n",
       "</style>\n",
       "<table border=\"1\" class=\"dataframe\">\n",
       "  <thead>\n",
       "    <tr style=\"text-align: right;\">\n",
       "      <th></th>\n",
       "      <th>m_whether</th>\n",
       "      <th>m_form</th>\n",
       "      <th>m_reason</th>\n",
       "      <th>m_when</th>\n",
       "      <th>m_often</th>\n",
       "      <th>m_duration</th>\n",
       "      <th>stress</th>\n",
       "      <th>anger</th>\n",
       "      <th>emotions</th>\n",
       "      <th>calm</th>\n",
       "      <th>...</th>\n",
       "      <th>health</th>\n",
       "      <th>clarity</th>\n",
       "      <th>energy</th>\n",
       "      <th>motivation</th>\n",
       "      <th>focus</th>\n",
       "      <th>sleep</th>\n",
       "      <th>recommend</th>\n",
       "      <th>age</th>\n",
       "      <th>gender</th>\n",
       "      <th>comments</th>\n",
       "    </tr>\n",
       "  </thead>\n",
       "  <tbody>\n",
       "    <tr>\n",
       "      <th>0</th>\n",
       "      <td>Yes</td>\n",
       "      <td>Breathwork</td>\n",
       "      <td>Lack of spare time</td>\n",
       "      <td>&lt;3 mon</td>\n",
       "      <td>Daily</td>\n",
       "      <td>Less than 15 minutes</td>\n",
       "      <td>Strongly Disagree</td>\n",
       "      <td>Disagree</td>\n",
       "      <td>Neutral</td>\n",
       "      <td>Disagree</td>\n",
       "      <td>...</td>\n",
       "      <td>Neutral</td>\n",
       "      <td>Neutral</td>\n",
       "      <td>Disagree</td>\n",
       "      <td>Neutral</td>\n",
       "      <td>Neutral</td>\n",
       "      <td>Disagree</td>\n",
       "      <td>Very likely</td>\n",
       "      <td>&lt;18</td>\n",
       "      <td>Male</td>\n",
       "      <td>NaN</td>\n",
       "    </tr>\n",
       "    <tr>\n",
       "      <th>1</th>\n",
       "      <td>Yes</td>\n",
       "      <td>Breathwork</td>\n",
       "      <td>NaN</td>\n",
       "      <td>&lt;3 mon</td>\n",
       "      <td>Once a week</td>\n",
       "      <td>Less than 15 minutes</td>\n",
       "      <td>Neutral</td>\n",
       "      <td>Strongly Disagree</td>\n",
       "      <td>Strongly Disagree</td>\n",
       "      <td>Neutral</td>\n",
       "      <td>...</td>\n",
       "      <td>agree</td>\n",
       "      <td>Strongly Agree</td>\n",
       "      <td>Strongly Agree</td>\n",
       "      <td>Strongly Agree</td>\n",
       "      <td>Strongly Agree</td>\n",
       "      <td>Strongly Agree</td>\n",
       "      <td>Very likely</td>\n",
       "      <td>18-25</td>\n",
       "      <td>Female</td>\n",
       "      <td>NaN</td>\n",
       "    </tr>\n",
       "    <tr>\n",
       "      <th>2</th>\n",
       "      <td>Yes</td>\n",
       "      <td>Pranayama</td>\n",
       "      <td>NaN</td>\n",
       "      <td>&gt;1 year</td>\n",
       "      <td>Daily</td>\n",
       "      <td>Less than 15 minutes</td>\n",
       "      <td>Neutral</td>\n",
       "      <td>Neutral</td>\n",
       "      <td>Neutral</td>\n",
       "      <td>Neutral</td>\n",
       "      <td>...</td>\n",
       "      <td>Neutral</td>\n",
       "      <td>Neutral</td>\n",
       "      <td>Neutral</td>\n",
       "      <td>Neutral</td>\n",
       "      <td>Neutral</td>\n",
       "      <td>Neutral</td>\n",
       "      <td>Very likely</td>\n",
       "      <td>18-25</td>\n",
       "      <td>Male</td>\n",
       "      <td>NaN</td>\n",
       "    </tr>\n",
       "    <tr>\n",
       "      <th>3</th>\n",
       "      <td>No</td>\n",
       "      <td>NaN</td>\n",
       "      <td>Lack of concentration</td>\n",
       "      <td>Never</td>\n",
       "      <td>Don't meditate</td>\n",
       "      <td>Don't meditate</td>\n",
       "      <td>Strongly Agree</td>\n",
       "      <td>Strongly Agree</td>\n",
       "      <td>Strongly Agree</td>\n",
       "      <td>Neutral</td>\n",
       "      <td>...</td>\n",
       "      <td>Disagree</td>\n",
       "      <td>Strongly Agree</td>\n",
       "      <td>Neutral</td>\n",
       "      <td>Neutral</td>\n",
       "      <td>Neutral</td>\n",
       "      <td>Strongly Agree</td>\n",
       "      <td>Very likely</td>\n",
       "      <td>18-25</td>\n",
       "      <td>Female</td>\n",
       "      <td>NaN</td>\n",
       "    </tr>\n",
       "    <tr>\n",
       "      <th>4</th>\n",
       "      <td>No</td>\n",
       "      <td>NaN</td>\n",
       "      <td>Don't believe in meditation</td>\n",
       "      <td>Never</td>\n",
       "      <td>Don't meditate</td>\n",
       "      <td>Don't meditate</td>\n",
       "      <td>Strongly Disagree</td>\n",
       "      <td>Strongly Agree</td>\n",
       "      <td>Strongly Agree</td>\n",
       "      <td>Strongly Agree</td>\n",
       "      <td>...</td>\n",
       "      <td>Strongly Agree</td>\n",
       "      <td>Strongly Agree</td>\n",
       "      <td>Strongly Agree</td>\n",
       "      <td>Strongly Agree</td>\n",
       "      <td>Strongly Agree</td>\n",
       "      <td>Strongly Agree</td>\n",
       "      <td>Not interested at all</td>\n",
       "      <td>25-35</td>\n",
       "      <td>Male</td>\n",
       "      <td>NaN</td>\n",
       "    </tr>\n",
       "    <tr>\n",
       "      <th>...</th>\n",
       "      <td>...</td>\n",
       "      <td>...</td>\n",
       "      <td>...</td>\n",
       "      <td>...</td>\n",
       "      <td>...</td>\n",
       "      <td>...</td>\n",
       "      <td>...</td>\n",
       "      <td>...</td>\n",
       "      <td>...</td>\n",
       "      <td>...</td>\n",
       "      <td>...</td>\n",
       "      <td>...</td>\n",
       "      <td>...</td>\n",
       "      <td>...</td>\n",
       "      <td>...</td>\n",
       "      <td>...</td>\n",
       "      <td>...</td>\n",
       "      <td>...</td>\n",
       "      <td>...</td>\n",
       "      <td>...</td>\n",
       "      <td>...</td>\n",
       "    </tr>\n",
       "    <tr>\n",
       "      <th>102</th>\n",
       "      <td>No</td>\n",
       "      <td>NaN</td>\n",
       "      <td>Lack of concentration</td>\n",
       "      <td>Never</td>\n",
       "      <td>Don't meditate</td>\n",
       "      <td>Don't meditate</td>\n",
       "      <td>agree</td>\n",
       "      <td>agree</td>\n",
       "      <td>Neutral</td>\n",
       "      <td>Neutral</td>\n",
       "      <td>...</td>\n",
       "      <td>Disagree</td>\n",
       "      <td>Neutral</td>\n",
       "      <td>Disagree</td>\n",
       "      <td>Disagree</td>\n",
       "      <td>Disagree</td>\n",
       "      <td>agree</td>\n",
       "      <td>Not interested at all</td>\n",
       "      <td>25-35</td>\n",
       "      <td>Male</td>\n",
       "      <td>NaN</td>\n",
       "    </tr>\n",
       "    <tr>\n",
       "      <th>103</th>\n",
       "      <td>Yes</td>\n",
       "      <td>Breathwork;Pranayama</td>\n",
       "      <td>NaN</td>\n",
       "      <td>&gt;6 mon and &lt;1 year</td>\n",
       "      <td>2-3 days a week</td>\n",
       "      <td>Less than 15 minutes</td>\n",
       "      <td>Strongly Disagree</td>\n",
       "      <td>Neutral</td>\n",
       "      <td>Disagree</td>\n",
       "      <td>Disagree</td>\n",
       "      <td>...</td>\n",
       "      <td>Disagree</td>\n",
       "      <td>Strongly Disagree</td>\n",
       "      <td>Strongly Disagree</td>\n",
       "      <td>Strongly Disagree</td>\n",
       "      <td>Strongly Disagree</td>\n",
       "      <td>Neutral</td>\n",
       "      <td>Not sure</td>\n",
       "      <td>18-25</td>\n",
       "      <td>Male</td>\n",
       "      <td>NaN</td>\n",
       "    </tr>\n",
       "    <tr>\n",
       "      <th>104</th>\n",
       "      <td>No</td>\n",
       "      <td>NaN</td>\n",
       "      <td>Don't believe in meditation</td>\n",
       "      <td>Never</td>\n",
       "      <td>Don't meditate</td>\n",
       "      <td>Don't meditate</td>\n",
       "      <td>agree</td>\n",
       "      <td>agree</td>\n",
       "      <td>Disagree</td>\n",
       "      <td>Neutral</td>\n",
       "      <td>...</td>\n",
       "      <td>Disagree</td>\n",
       "      <td>agree</td>\n",
       "      <td>agree</td>\n",
       "      <td>agree</td>\n",
       "      <td>agree</td>\n",
       "      <td>Neutral</td>\n",
       "      <td>Not interested at all</td>\n",
       "      <td>18-25</td>\n",
       "      <td>Male</td>\n",
       "      <td>NaN</td>\n",
       "    </tr>\n",
       "    <tr>\n",
       "      <th>105</th>\n",
       "      <td>No</td>\n",
       "      <td>NaN</td>\n",
       "      <td>Lack of consistency</td>\n",
       "      <td>Never</td>\n",
       "      <td>Don't meditate</td>\n",
       "      <td>Don't meditate</td>\n",
       "      <td>agree</td>\n",
       "      <td>Disagree</td>\n",
       "      <td>Disagree</td>\n",
       "      <td>Neutral</td>\n",
       "      <td>...</td>\n",
       "      <td>Disagree</td>\n",
       "      <td>agree</td>\n",
       "      <td>Neutral</td>\n",
       "      <td>Neutral</td>\n",
       "      <td>Disagree</td>\n",
       "      <td>Disagree</td>\n",
       "      <td>Not sure</td>\n",
       "      <td>18-25</td>\n",
       "      <td>Male</td>\n",
       "      <td>NaN</td>\n",
       "    </tr>\n",
       "    <tr>\n",
       "      <th>106</th>\n",
       "      <td>No</td>\n",
       "      <td>NaN</td>\n",
       "      <td>Lack of spare time;Lack of consistency</td>\n",
       "      <td>Never</td>\n",
       "      <td>Don't meditate</td>\n",
       "      <td>Don't meditate</td>\n",
       "      <td>agree</td>\n",
       "      <td>Strongly Agree</td>\n",
       "      <td>agree</td>\n",
       "      <td>Strongly Agree</td>\n",
       "      <td>...</td>\n",
       "      <td>Neutral</td>\n",
       "      <td>agree</td>\n",
       "      <td>agree</td>\n",
       "      <td>agree</td>\n",
       "      <td>agree</td>\n",
       "      <td>agree</td>\n",
       "      <td>Not sure</td>\n",
       "      <td>25-35</td>\n",
       "      <td>Male</td>\n",
       "      <td>NaN</td>\n",
       "    </tr>\n",
       "  </tbody>\n",
       "</table>\n",
       "<p>101 rows × 21 columns</p>\n",
       "</div>"
      ],
      "text/plain": [
       "    m_whether                m_form                                m_reason  \\\n",
       "0         Yes            Breathwork                      Lack of spare time   \n",
       "1         Yes            Breathwork                                     NaN   \n",
       "2         Yes             Pranayama                                     NaN   \n",
       "3          No                   NaN                   Lack of concentration   \n",
       "4          No                   NaN             Don't believe in meditation   \n",
       "..        ...                   ...                                     ...   \n",
       "102        No                   NaN                   Lack of concentration   \n",
       "103       Yes  Breathwork;Pranayama                                     NaN   \n",
       "104        No                   NaN             Don't believe in meditation   \n",
       "105        No                   NaN                     Lack of consistency   \n",
       "106        No                   NaN  Lack of spare time;Lack of consistency   \n",
       "\n",
       "                 m_when          m_often            m_duration  \\\n",
       "0                <3 mon            Daily  Less than 15 minutes   \n",
       "1                <3 mon      Once a week  Less than 15 minutes   \n",
       "2               >1 year            Daily  Less than 15 minutes   \n",
       "3                 Never   Don't meditate        Don't meditate   \n",
       "4                 Never   Don't meditate        Don't meditate   \n",
       "..                  ...              ...                   ...   \n",
       "102               Never   Don't meditate        Don't meditate   \n",
       "103  >6 mon and <1 year  2-3 days a week  Less than 15 minutes   \n",
       "104               Never   Don't meditate        Don't meditate   \n",
       "105               Never   Don't meditate        Don't meditate   \n",
       "106               Never   Don't meditate        Don't meditate   \n",
       "\n",
       "                stress              anger           emotions            calm  \\\n",
       "0    Strongly Disagree           Disagree            Neutral        Disagree   \n",
       "1              Neutral  Strongly Disagree  Strongly Disagree         Neutral   \n",
       "2              Neutral            Neutral            Neutral         Neutral   \n",
       "3       Strongly Agree     Strongly Agree     Strongly Agree         Neutral   \n",
       "4    Strongly Disagree     Strongly Agree     Strongly Agree  Strongly Agree   \n",
       "..                 ...                ...                ...             ...   \n",
       "102              agree              agree            Neutral         Neutral   \n",
       "103  Strongly Disagree            Neutral           Disagree        Disagree   \n",
       "104              agree              agree           Disagree         Neutral   \n",
       "105              agree           Disagree           Disagree         Neutral   \n",
       "106              agree     Strongly Agree              agree  Strongly Agree   \n",
       "\n",
       "     ...          health            clarity             energy  \\\n",
       "0    ...         Neutral            Neutral           Disagree   \n",
       "1    ...           agree     Strongly Agree     Strongly Agree   \n",
       "2    ...         Neutral            Neutral            Neutral   \n",
       "3    ...        Disagree     Strongly Agree            Neutral   \n",
       "4    ...  Strongly Agree     Strongly Agree     Strongly Agree   \n",
       "..   ...             ...                ...                ...   \n",
       "102  ...        Disagree            Neutral           Disagree   \n",
       "103  ...        Disagree  Strongly Disagree  Strongly Disagree   \n",
       "104  ...        Disagree              agree              agree   \n",
       "105  ...        Disagree              agree            Neutral   \n",
       "106  ...         Neutral              agree              agree   \n",
       "\n",
       "            motivation              focus           sleep  \\\n",
       "0              Neutral            Neutral        Disagree   \n",
       "1       Strongly Agree     Strongly Agree  Strongly Agree   \n",
       "2              Neutral            Neutral         Neutral   \n",
       "3              Neutral            Neutral  Strongly Agree   \n",
       "4       Strongly Agree     Strongly Agree  Strongly Agree   \n",
       "..                 ...                ...             ...   \n",
       "102           Disagree           Disagree           agree   \n",
       "103  Strongly Disagree  Strongly Disagree         Neutral   \n",
       "104              agree              agree         Neutral   \n",
       "105            Neutral           Disagree        Disagree   \n",
       "106              agree              agree           agree   \n",
       "\n",
       "                 recommend    age  gender comments  \n",
       "0              Very likely    <18    Male      NaN  \n",
       "1              Very likely  18-25  Female      NaN  \n",
       "2              Very likely  18-25    Male      NaN  \n",
       "3              Very likely  18-25  Female      NaN  \n",
       "4    Not interested at all  25-35    Male      NaN  \n",
       "..                     ...    ...     ...      ...  \n",
       "102  Not interested at all  25-35    Male      NaN  \n",
       "103               Not sure  18-25    Male      NaN  \n",
       "104  Not interested at all  18-25    Male      NaN  \n",
       "105               Not sure  18-25    Male      NaN  \n",
       "106               Not sure  25-35    Male      NaN  \n",
       "\n",
       "[101 rows x 21 columns]"
      ]
     },
     "execution_count": 24,
     "metadata": {},
     "output_type": "execute_result"
    }
   ],
   "source": [
    "final_copy = final.copy(deep = True)\n",
    "final_copy"
   ]
  },
  {
   "cell_type": "code",
   "execution_count": 25,
   "id": "0715127c",
   "metadata": {},
   "outputs": [
    {
     "data": {
      "text/html": [
       "<div>\n",
       "<style scoped>\n",
       "    .dataframe tbody tr th:only-of-type {\n",
       "        vertical-align: middle;\n",
       "    }\n",
       "\n",
       "    .dataframe tbody tr th {\n",
       "        vertical-align: top;\n",
       "    }\n",
       "\n",
       "    .dataframe thead th {\n",
       "        text-align: right;\n",
       "    }\n",
       "</style>\n",
       "<table border=\"1\" class=\"dataframe\">\n",
       "  <thead>\n",
       "    <tr style=\"text-align: right;\">\n",
       "      <th></th>\n",
       "      <th>m_whether</th>\n",
       "      <th>m_form</th>\n",
       "      <th>m_reason</th>\n",
       "      <th>m_when</th>\n",
       "      <th>m_often</th>\n",
       "      <th>m_duration</th>\n",
       "      <th>stress</th>\n",
       "      <th>anger</th>\n",
       "      <th>emotions</th>\n",
       "      <th>calm</th>\n",
       "      <th>...</th>\n",
       "      <th>health</th>\n",
       "      <th>clarity</th>\n",
       "      <th>energy</th>\n",
       "      <th>motivation</th>\n",
       "      <th>focus</th>\n",
       "      <th>sleep</th>\n",
       "      <th>recommend</th>\n",
       "      <th>age</th>\n",
       "      <th>gender</th>\n",
       "      <th>comments</th>\n",
       "    </tr>\n",
       "  </thead>\n",
       "  <tbody>\n",
       "    <tr>\n",
       "      <th>0</th>\n",
       "      <td>Yes</td>\n",
       "      <td>Breathwork</td>\n",
       "      <td>Lack of spare time</td>\n",
       "      <td>&lt;3 mon</td>\n",
       "      <td>Daily</td>\n",
       "      <td>Less than 15 minutes</td>\n",
       "      <td>Strongly Disagree</td>\n",
       "      <td>Disagree</td>\n",
       "      <td>Neutral</td>\n",
       "      <td>Disagree</td>\n",
       "      <td>...</td>\n",
       "      <td>Neutral</td>\n",
       "      <td>Neutral</td>\n",
       "      <td>Disagree</td>\n",
       "      <td>Neutral</td>\n",
       "      <td>Neutral</td>\n",
       "      <td>Disagree</td>\n",
       "      <td>Very likely</td>\n",
       "      <td>&lt;18</td>\n",
       "      <td>1</td>\n",
       "      <td>NaN</td>\n",
       "    </tr>\n",
       "    <tr>\n",
       "      <th>1</th>\n",
       "      <td>Yes</td>\n",
       "      <td>Breathwork</td>\n",
       "      <td>NaN</td>\n",
       "      <td>&lt;3 mon</td>\n",
       "      <td>Once a week</td>\n",
       "      <td>Less than 15 minutes</td>\n",
       "      <td>Neutral</td>\n",
       "      <td>Strongly Disagree</td>\n",
       "      <td>Strongly Disagree</td>\n",
       "      <td>Neutral</td>\n",
       "      <td>...</td>\n",
       "      <td>agree</td>\n",
       "      <td>Strongly Agree</td>\n",
       "      <td>Strongly Agree</td>\n",
       "      <td>Strongly Agree</td>\n",
       "      <td>Strongly Agree</td>\n",
       "      <td>Strongly Agree</td>\n",
       "      <td>Very likely</td>\n",
       "      <td>18-25</td>\n",
       "      <td>1</td>\n",
       "      <td>NaN</td>\n",
       "    </tr>\n",
       "    <tr>\n",
       "      <th>2</th>\n",
       "      <td>Yes</td>\n",
       "      <td>Pranayama</td>\n",
       "      <td>NaN</td>\n",
       "      <td>&gt;1 year</td>\n",
       "      <td>Daily</td>\n",
       "      <td>Less than 15 minutes</td>\n",
       "      <td>Neutral</td>\n",
       "      <td>Neutral</td>\n",
       "      <td>Neutral</td>\n",
       "      <td>Neutral</td>\n",
       "      <td>...</td>\n",
       "      <td>Neutral</td>\n",
       "      <td>Neutral</td>\n",
       "      <td>Neutral</td>\n",
       "      <td>Neutral</td>\n",
       "      <td>Neutral</td>\n",
       "      <td>Neutral</td>\n",
       "      <td>Very likely</td>\n",
       "      <td>18-25</td>\n",
       "      <td>1</td>\n",
       "      <td>NaN</td>\n",
       "    </tr>\n",
       "    <tr>\n",
       "      <th>3</th>\n",
       "      <td>No</td>\n",
       "      <td>NaN</td>\n",
       "      <td>Lack of concentration</td>\n",
       "      <td>Never</td>\n",
       "      <td>Don't meditate</td>\n",
       "      <td>Don't meditate</td>\n",
       "      <td>Strongly Agree</td>\n",
       "      <td>Strongly Agree</td>\n",
       "      <td>Strongly Agree</td>\n",
       "      <td>Neutral</td>\n",
       "      <td>...</td>\n",
       "      <td>Disagree</td>\n",
       "      <td>Strongly Agree</td>\n",
       "      <td>Neutral</td>\n",
       "      <td>Neutral</td>\n",
       "      <td>Neutral</td>\n",
       "      <td>Strongly Agree</td>\n",
       "      <td>Very likely</td>\n",
       "      <td>18-25</td>\n",
       "      <td>1</td>\n",
       "      <td>NaN</td>\n",
       "    </tr>\n",
       "    <tr>\n",
       "      <th>4</th>\n",
       "      <td>No</td>\n",
       "      <td>NaN</td>\n",
       "      <td>Don't believe in meditation</td>\n",
       "      <td>Never</td>\n",
       "      <td>Don't meditate</td>\n",
       "      <td>Don't meditate</td>\n",
       "      <td>Strongly Disagree</td>\n",
       "      <td>Strongly Agree</td>\n",
       "      <td>Strongly Agree</td>\n",
       "      <td>Strongly Agree</td>\n",
       "      <td>...</td>\n",
       "      <td>Strongly Agree</td>\n",
       "      <td>Strongly Agree</td>\n",
       "      <td>Strongly Agree</td>\n",
       "      <td>Strongly Agree</td>\n",
       "      <td>Strongly Agree</td>\n",
       "      <td>Strongly Agree</td>\n",
       "      <td>Not interested at all</td>\n",
       "      <td>25-35</td>\n",
       "      <td>1</td>\n",
       "      <td>NaN</td>\n",
       "    </tr>\n",
       "    <tr>\n",
       "      <th>...</th>\n",
       "      <td>...</td>\n",
       "      <td>...</td>\n",
       "      <td>...</td>\n",
       "      <td>...</td>\n",
       "      <td>...</td>\n",
       "      <td>...</td>\n",
       "      <td>...</td>\n",
       "      <td>...</td>\n",
       "      <td>...</td>\n",
       "      <td>...</td>\n",
       "      <td>...</td>\n",
       "      <td>...</td>\n",
       "      <td>...</td>\n",
       "      <td>...</td>\n",
       "      <td>...</td>\n",
       "      <td>...</td>\n",
       "      <td>...</td>\n",
       "      <td>...</td>\n",
       "      <td>...</td>\n",
       "      <td>...</td>\n",
       "      <td>...</td>\n",
       "    </tr>\n",
       "    <tr>\n",
       "      <th>102</th>\n",
       "      <td>No</td>\n",
       "      <td>NaN</td>\n",
       "      <td>Lack of concentration</td>\n",
       "      <td>Never</td>\n",
       "      <td>Don't meditate</td>\n",
       "      <td>Don't meditate</td>\n",
       "      <td>agree</td>\n",
       "      <td>agree</td>\n",
       "      <td>Neutral</td>\n",
       "      <td>Neutral</td>\n",
       "      <td>...</td>\n",
       "      <td>Disagree</td>\n",
       "      <td>Neutral</td>\n",
       "      <td>Disagree</td>\n",
       "      <td>Disagree</td>\n",
       "      <td>Disagree</td>\n",
       "      <td>agree</td>\n",
       "      <td>Not interested at all</td>\n",
       "      <td>25-35</td>\n",
       "      <td>1</td>\n",
       "      <td>NaN</td>\n",
       "    </tr>\n",
       "    <tr>\n",
       "      <th>103</th>\n",
       "      <td>Yes</td>\n",
       "      <td>Breathwork;Pranayama</td>\n",
       "      <td>NaN</td>\n",
       "      <td>&gt;6 mon and &lt;1 year</td>\n",
       "      <td>2-3 days a week</td>\n",
       "      <td>Less than 15 minutes</td>\n",
       "      <td>Strongly Disagree</td>\n",
       "      <td>Neutral</td>\n",
       "      <td>Disagree</td>\n",
       "      <td>Disagree</td>\n",
       "      <td>...</td>\n",
       "      <td>Disagree</td>\n",
       "      <td>Strongly Disagree</td>\n",
       "      <td>Strongly Disagree</td>\n",
       "      <td>Strongly Disagree</td>\n",
       "      <td>Strongly Disagree</td>\n",
       "      <td>Neutral</td>\n",
       "      <td>Not sure</td>\n",
       "      <td>18-25</td>\n",
       "      <td>1</td>\n",
       "      <td>NaN</td>\n",
       "    </tr>\n",
       "    <tr>\n",
       "      <th>104</th>\n",
       "      <td>No</td>\n",
       "      <td>NaN</td>\n",
       "      <td>Don't believe in meditation</td>\n",
       "      <td>Never</td>\n",
       "      <td>Don't meditate</td>\n",
       "      <td>Don't meditate</td>\n",
       "      <td>agree</td>\n",
       "      <td>agree</td>\n",
       "      <td>Disagree</td>\n",
       "      <td>Neutral</td>\n",
       "      <td>...</td>\n",
       "      <td>Disagree</td>\n",
       "      <td>agree</td>\n",
       "      <td>agree</td>\n",
       "      <td>agree</td>\n",
       "      <td>agree</td>\n",
       "      <td>Neutral</td>\n",
       "      <td>Not interested at all</td>\n",
       "      <td>18-25</td>\n",
       "      <td>1</td>\n",
       "      <td>NaN</td>\n",
       "    </tr>\n",
       "    <tr>\n",
       "      <th>105</th>\n",
       "      <td>No</td>\n",
       "      <td>NaN</td>\n",
       "      <td>Lack of consistency</td>\n",
       "      <td>Never</td>\n",
       "      <td>Don't meditate</td>\n",
       "      <td>Don't meditate</td>\n",
       "      <td>agree</td>\n",
       "      <td>Disagree</td>\n",
       "      <td>Disagree</td>\n",
       "      <td>Neutral</td>\n",
       "      <td>...</td>\n",
       "      <td>Disagree</td>\n",
       "      <td>agree</td>\n",
       "      <td>Neutral</td>\n",
       "      <td>Neutral</td>\n",
       "      <td>Disagree</td>\n",
       "      <td>Disagree</td>\n",
       "      <td>Not sure</td>\n",
       "      <td>18-25</td>\n",
       "      <td>1</td>\n",
       "      <td>NaN</td>\n",
       "    </tr>\n",
       "    <tr>\n",
       "      <th>106</th>\n",
       "      <td>No</td>\n",
       "      <td>NaN</td>\n",
       "      <td>Lack of spare time;Lack of consistency</td>\n",
       "      <td>Never</td>\n",
       "      <td>Don't meditate</td>\n",
       "      <td>Don't meditate</td>\n",
       "      <td>agree</td>\n",
       "      <td>Strongly Agree</td>\n",
       "      <td>agree</td>\n",
       "      <td>Strongly Agree</td>\n",
       "      <td>...</td>\n",
       "      <td>Neutral</td>\n",
       "      <td>agree</td>\n",
       "      <td>agree</td>\n",
       "      <td>agree</td>\n",
       "      <td>agree</td>\n",
       "      <td>agree</td>\n",
       "      <td>Not sure</td>\n",
       "      <td>25-35</td>\n",
       "      <td>1</td>\n",
       "      <td>NaN</td>\n",
       "    </tr>\n",
       "  </tbody>\n",
       "</table>\n",
       "<p>101 rows × 21 columns</p>\n",
       "</div>"
      ],
      "text/plain": [
       "    m_whether                m_form                                m_reason  \\\n",
       "0         Yes            Breathwork                      Lack of spare time   \n",
       "1         Yes            Breathwork                                     NaN   \n",
       "2         Yes             Pranayama                                     NaN   \n",
       "3          No                   NaN                   Lack of concentration   \n",
       "4          No                   NaN             Don't believe in meditation   \n",
       "..        ...                   ...                                     ...   \n",
       "102        No                   NaN                   Lack of concentration   \n",
       "103       Yes  Breathwork;Pranayama                                     NaN   \n",
       "104        No                   NaN             Don't believe in meditation   \n",
       "105        No                   NaN                     Lack of consistency   \n",
       "106        No                   NaN  Lack of spare time;Lack of consistency   \n",
       "\n",
       "                 m_when          m_often            m_duration  \\\n",
       "0                <3 mon            Daily  Less than 15 minutes   \n",
       "1                <3 mon      Once a week  Less than 15 minutes   \n",
       "2               >1 year            Daily  Less than 15 minutes   \n",
       "3                 Never   Don't meditate        Don't meditate   \n",
       "4                 Never   Don't meditate        Don't meditate   \n",
       "..                  ...              ...                   ...   \n",
       "102               Never   Don't meditate        Don't meditate   \n",
       "103  >6 mon and <1 year  2-3 days a week  Less than 15 minutes   \n",
       "104               Never   Don't meditate        Don't meditate   \n",
       "105               Never   Don't meditate        Don't meditate   \n",
       "106               Never   Don't meditate        Don't meditate   \n",
       "\n",
       "                stress              anger           emotions            calm  \\\n",
       "0    Strongly Disagree           Disagree            Neutral        Disagree   \n",
       "1              Neutral  Strongly Disagree  Strongly Disagree         Neutral   \n",
       "2              Neutral            Neutral            Neutral         Neutral   \n",
       "3       Strongly Agree     Strongly Agree     Strongly Agree         Neutral   \n",
       "4    Strongly Disagree     Strongly Agree     Strongly Agree  Strongly Agree   \n",
       "..                 ...                ...                ...             ...   \n",
       "102              agree              agree            Neutral         Neutral   \n",
       "103  Strongly Disagree            Neutral           Disagree        Disagree   \n",
       "104              agree              agree           Disagree         Neutral   \n",
       "105              agree           Disagree           Disagree         Neutral   \n",
       "106              agree     Strongly Agree              agree  Strongly Agree   \n",
       "\n",
       "     ...          health            clarity             energy  \\\n",
       "0    ...         Neutral            Neutral           Disagree   \n",
       "1    ...           agree     Strongly Agree     Strongly Agree   \n",
       "2    ...         Neutral            Neutral            Neutral   \n",
       "3    ...        Disagree     Strongly Agree            Neutral   \n",
       "4    ...  Strongly Agree     Strongly Agree     Strongly Agree   \n",
       "..   ...             ...                ...                ...   \n",
       "102  ...        Disagree            Neutral           Disagree   \n",
       "103  ...        Disagree  Strongly Disagree  Strongly Disagree   \n",
       "104  ...        Disagree              agree              agree   \n",
       "105  ...        Disagree              agree            Neutral   \n",
       "106  ...         Neutral              agree              agree   \n",
       "\n",
       "            motivation              focus           sleep  \\\n",
       "0              Neutral            Neutral        Disagree   \n",
       "1       Strongly Agree     Strongly Agree  Strongly Agree   \n",
       "2              Neutral            Neutral         Neutral   \n",
       "3              Neutral            Neutral  Strongly Agree   \n",
       "4       Strongly Agree     Strongly Agree  Strongly Agree   \n",
       "..                 ...                ...             ...   \n",
       "102           Disagree           Disagree           agree   \n",
       "103  Strongly Disagree  Strongly Disagree         Neutral   \n",
       "104              agree              agree         Neutral   \n",
       "105            Neutral           Disagree        Disagree   \n",
       "106              agree              agree           agree   \n",
       "\n",
       "                 recommend    age gender  comments  \n",
       "0              Very likely    <18      1       NaN  \n",
       "1              Very likely  18-25      1       NaN  \n",
       "2              Very likely  18-25      1       NaN  \n",
       "3              Very likely  18-25      1       NaN  \n",
       "4    Not interested at all  25-35      1       NaN  \n",
       "..                     ...    ...    ...       ...  \n",
       "102  Not interested at all  25-35      1       NaN  \n",
       "103               Not sure  18-25      1       NaN  \n",
       "104  Not interested at all  18-25      1       NaN  \n",
       "105               Not sure  18-25      1       NaN  \n",
       "106               Not sure  25-35      1       NaN  \n",
       "\n",
       "[101 rows x 21 columns]"
      ]
     },
     "execution_count": 25,
     "metadata": {},
     "output_type": "execute_result"
    }
   ],
   "source": [
    "final_copy[\"gender\"].replace(to_replace = [\"Male\", \"Female\", \"Prefer not to say\"], value = 1, inplace = True)\n",
    "final_copy"
   ]
  },
  {
   "cell_type": "code",
   "execution_count": 26,
   "id": "9fe37afc",
   "metadata": {},
   "outputs": [
    {
     "data": {
      "text/html": [
       "<div>\n",
       "<style scoped>\n",
       "    .dataframe tbody tr th:only-of-type {\n",
       "        vertical-align: middle;\n",
       "    }\n",
       "\n",
       "    .dataframe tbody tr th {\n",
       "        vertical-align: top;\n",
       "    }\n",
       "\n",
       "    .dataframe thead th {\n",
       "        text-align: right;\n",
       "    }\n",
       "</style>\n",
       "<table border=\"1\" class=\"dataframe\">\n",
       "  <thead>\n",
       "    <tr style=\"text-align: right;\">\n",
       "      <th></th>\n",
       "      <th>m_whether</th>\n",
       "      <th>m_form</th>\n",
       "      <th>m_reason</th>\n",
       "      <th>m_when</th>\n",
       "      <th>m_often</th>\n",
       "      <th>m_duration</th>\n",
       "      <th>stress</th>\n",
       "      <th>anger</th>\n",
       "      <th>emotions</th>\n",
       "      <th>calm</th>\n",
       "      <th>...</th>\n",
       "      <th>clarity</th>\n",
       "      <th>energy</th>\n",
       "      <th>motivation</th>\n",
       "      <th>focus</th>\n",
       "      <th>sleep</th>\n",
       "      <th>recommend</th>\n",
       "      <th>age</th>\n",
       "      <th>gender</th>\n",
       "      <th>comments</th>\n",
       "      <th>gender1</th>\n",
       "    </tr>\n",
       "  </thead>\n",
       "  <tbody>\n",
       "    <tr>\n",
       "      <th>0</th>\n",
       "      <td>Yes</td>\n",
       "      <td>Breathwork</td>\n",
       "      <td>Lack of spare time</td>\n",
       "      <td>&lt;3 mon</td>\n",
       "      <td>Daily</td>\n",
       "      <td>Less than 15 minutes</td>\n",
       "      <td>Strongly Disagree</td>\n",
       "      <td>Disagree</td>\n",
       "      <td>Neutral</td>\n",
       "      <td>Disagree</td>\n",
       "      <td>...</td>\n",
       "      <td>Neutral</td>\n",
       "      <td>Disagree</td>\n",
       "      <td>Neutral</td>\n",
       "      <td>Neutral</td>\n",
       "      <td>Disagree</td>\n",
       "      <td>Very likely</td>\n",
       "      <td>&lt;18</td>\n",
       "      <td>Male</td>\n",
       "      <td>NaN</td>\n",
       "      <td>1</td>\n",
       "    </tr>\n",
       "    <tr>\n",
       "      <th>1</th>\n",
       "      <td>Yes</td>\n",
       "      <td>Breathwork</td>\n",
       "      <td>NaN</td>\n",
       "      <td>&lt;3 mon</td>\n",
       "      <td>Once a week</td>\n",
       "      <td>Less than 15 minutes</td>\n",
       "      <td>Neutral</td>\n",
       "      <td>Strongly Disagree</td>\n",
       "      <td>Strongly Disagree</td>\n",
       "      <td>Neutral</td>\n",
       "      <td>...</td>\n",
       "      <td>Strongly Agree</td>\n",
       "      <td>Strongly Agree</td>\n",
       "      <td>Strongly Agree</td>\n",
       "      <td>Strongly Agree</td>\n",
       "      <td>Strongly Agree</td>\n",
       "      <td>Very likely</td>\n",
       "      <td>18-25</td>\n",
       "      <td>Female</td>\n",
       "      <td>NaN</td>\n",
       "      <td>1</td>\n",
       "    </tr>\n",
       "    <tr>\n",
       "      <th>2</th>\n",
       "      <td>Yes</td>\n",
       "      <td>Pranayama</td>\n",
       "      <td>NaN</td>\n",
       "      <td>&gt;1 year</td>\n",
       "      <td>Daily</td>\n",
       "      <td>Less than 15 minutes</td>\n",
       "      <td>Neutral</td>\n",
       "      <td>Neutral</td>\n",
       "      <td>Neutral</td>\n",
       "      <td>Neutral</td>\n",
       "      <td>...</td>\n",
       "      <td>Neutral</td>\n",
       "      <td>Neutral</td>\n",
       "      <td>Neutral</td>\n",
       "      <td>Neutral</td>\n",
       "      <td>Neutral</td>\n",
       "      <td>Very likely</td>\n",
       "      <td>18-25</td>\n",
       "      <td>Male</td>\n",
       "      <td>NaN</td>\n",
       "      <td>1</td>\n",
       "    </tr>\n",
       "    <tr>\n",
       "      <th>3</th>\n",
       "      <td>No</td>\n",
       "      <td>NaN</td>\n",
       "      <td>Lack of concentration</td>\n",
       "      <td>Never</td>\n",
       "      <td>Don't meditate</td>\n",
       "      <td>Don't meditate</td>\n",
       "      <td>Strongly Agree</td>\n",
       "      <td>Strongly Agree</td>\n",
       "      <td>Strongly Agree</td>\n",
       "      <td>Neutral</td>\n",
       "      <td>...</td>\n",
       "      <td>Strongly Agree</td>\n",
       "      <td>Neutral</td>\n",
       "      <td>Neutral</td>\n",
       "      <td>Neutral</td>\n",
       "      <td>Strongly Agree</td>\n",
       "      <td>Very likely</td>\n",
       "      <td>18-25</td>\n",
       "      <td>Female</td>\n",
       "      <td>NaN</td>\n",
       "      <td>1</td>\n",
       "    </tr>\n",
       "    <tr>\n",
       "      <th>4</th>\n",
       "      <td>No</td>\n",
       "      <td>NaN</td>\n",
       "      <td>Don't believe in meditation</td>\n",
       "      <td>Never</td>\n",
       "      <td>Don't meditate</td>\n",
       "      <td>Don't meditate</td>\n",
       "      <td>Strongly Disagree</td>\n",
       "      <td>Strongly Agree</td>\n",
       "      <td>Strongly Agree</td>\n",
       "      <td>Strongly Agree</td>\n",
       "      <td>...</td>\n",
       "      <td>Strongly Agree</td>\n",
       "      <td>Strongly Agree</td>\n",
       "      <td>Strongly Agree</td>\n",
       "      <td>Strongly Agree</td>\n",
       "      <td>Strongly Agree</td>\n",
       "      <td>Not interested at all</td>\n",
       "      <td>25-35</td>\n",
       "      <td>Male</td>\n",
       "      <td>NaN</td>\n",
       "      <td>1</td>\n",
       "    </tr>\n",
       "    <tr>\n",
       "      <th>...</th>\n",
       "      <td>...</td>\n",
       "      <td>...</td>\n",
       "      <td>...</td>\n",
       "      <td>...</td>\n",
       "      <td>...</td>\n",
       "      <td>...</td>\n",
       "      <td>...</td>\n",
       "      <td>...</td>\n",
       "      <td>...</td>\n",
       "      <td>...</td>\n",
       "      <td>...</td>\n",
       "      <td>...</td>\n",
       "      <td>...</td>\n",
       "      <td>...</td>\n",
       "      <td>...</td>\n",
       "      <td>...</td>\n",
       "      <td>...</td>\n",
       "      <td>...</td>\n",
       "      <td>...</td>\n",
       "      <td>...</td>\n",
       "      <td>...</td>\n",
       "    </tr>\n",
       "    <tr>\n",
       "      <th>102</th>\n",
       "      <td>No</td>\n",
       "      <td>NaN</td>\n",
       "      <td>Lack of concentration</td>\n",
       "      <td>Never</td>\n",
       "      <td>Don't meditate</td>\n",
       "      <td>Don't meditate</td>\n",
       "      <td>agree</td>\n",
       "      <td>agree</td>\n",
       "      <td>Neutral</td>\n",
       "      <td>Neutral</td>\n",
       "      <td>...</td>\n",
       "      <td>Neutral</td>\n",
       "      <td>Disagree</td>\n",
       "      <td>Disagree</td>\n",
       "      <td>Disagree</td>\n",
       "      <td>agree</td>\n",
       "      <td>Not interested at all</td>\n",
       "      <td>25-35</td>\n",
       "      <td>Male</td>\n",
       "      <td>NaN</td>\n",
       "      <td>1</td>\n",
       "    </tr>\n",
       "    <tr>\n",
       "      <th>103</th>\n",
       "      <td>Yes</td>\n",
       "      <td>Breathwork;Pranayama</td>\n",
       "      <td>NaN</td>\n",
       "      <td>&gt;6 mon and &lt;1 year</td>\n",
       "      <td>2-3 days a week</td>\n",
       "      <td>Less than 15 minutes</td>\n",
       "      <td>Strongly Disagree</td>\n",
       "      <td>Neutral</td>\n",
       "      <td>Disagree</td>\n",
       "      <td>Disagree</td>\n",
       "      <td>...</td>\n",
       "      <td>Strongly Disagree</td>\n",
       "      <td>Strongly Disagree</td>\n",
       "      <td>Strongly Disagree</td>\n",
       "      <td>Strongly Disagree</td>\n",
       "      <td>Neutral</td>\n",
       "      <td>Not sure</td>\n",
       "      <td>18-25</td>\n",
       "      <td>Male</td>\n",
       "      <td>NaN</td>\n",
       "      <td>1</td>\n",
       "    </tr>\n",
       "    <tr>\n",
       "      <th>104</th>\n",
       "      <td>No</td>\n",
       "      <td>NaN</td>\n",
       "      <td>Don't believe in meditation</td>\n",
       "      <td>Never</td>\n",
       "      <td>Don't meditate</td>\n",
       "      <td>Don't meditate</td>\n",
       "      <td>agree</td>\n",
       "      <td>agree</td>\n",
       "      <td>Disagree</td>\n",
       "      <td>Neutral</td>\n",
       "      <td>...</td>\n",
       "      <td>agree</td>\n",
       "      <td>agree</td>\n",
       "      <td>agree</td>\n",
       "      <td>agree</td>\n",
       "      <td>Neutral</td>\n",
       "      <td>Not interested at all</td>\n",
       "      <td>18-25</td>\n",
       "      <td>Male</td>\n",
       "      <td>NaN</td>\n",
       "      <td>1</td>\n",
       "    </tr>\n",
       "    <tr>\n",
       "      <th>105</th>\n",
       "      <td>No</td>\n",
       "      <td>NaN</td>\n",
       "      <td>Lack of consistency</td>\n",
       "      <td>Never</td>\n",
       "      <td>Don't meditate</td>\n",
       "      <td>Don't meditate</td>\n",
       "      <td>agree</td>\n",
       "      <td>Disagree</td>\n",
       "      <td>Disagree</td>\n",
       "      <td>Neutral</td>\n",
       "      <td>...</td>\n",
       "      <td>agree</td>\n",
       "      <td>Neutral</td>\n",
       "      <td>Neutral</td>\n",
       "      <td>Disagree</td>\n",
       "      <td>Disagree</td>\n",
       "      <td>Not sure</td>\n",
       "      <td>18-25</td>\n",
       "      <td>Male</td>\n",
       "      <td>NaN</td>\n",
       "      <td>1</td>\n",
       "    </tr>\n",
       "    <tr>\n",
       "      <th>106</th>\n",
       "      <td>No</td>\n",
       "      <td>NaN</td>\n",
       "      <td>Lack of spare time;Lack of consistency</td>\n",
       "      <td>Never</td>\n",
       "      <td>Don't meditate</td>\n",
       "      <td>Don't meditate</td>\n",
       "      <td>agree</td>\n",
       "      <td>Strongly Agree</td>\n",
       "      <td>agree</td>\n",
       "      <td>Strongly Agree</td>\n",
       "      <td>...</td>\n",
       "      <td>agree</td>\n",
       "      <td>agree</td>\n",
       "      <td>agree</td>\n",
       "      <td>agree</td>\n",
       "      <td>agree</td>\n",
       "      <td>Not sure</td>\n",
       "      <td>25-35</td>\n",
       "      <td>Male</td>\n",
       "      <td>NaN</td>\n",
       "      <td>1</td>\n",
       "    </tr>\n",
       "  </tbody>\n",
       "</table>\n",
       "<p>101 rows × 22 columns</p>\n",
       "</div>"
      ],
      "text/plain": [
       "    m_whether                m_form                                m_reason  \\\n",
       "0         Yes            Breathwork                      Lack of spare time   \n",
       "1         Yes            Breathwork                                     NaN   \n",
       "2         Yes             Pranayama                                     NaN   \n",
       "3          No                   NaN                   Lack of concentration   \n",
       "4          No                   NaN             Don't believe in meditation   \n",
       "..        ...                   ...                                     ...   \n",
       "102        No                   NaN                   Lack of concentration   \n",
       "103       Yes  Breathwork;Pranayama                                     NaN   \n",
       "104        No                   NaN             Don't believe in meditation   \n",
       "105        No                   NaN                     Lack of consistency   \n",
       "106        No                   NaN  Lack of spare time;Lack of consistency   \n",
       "\n",
       "                 m_when          m_often            m_duration  \\\n",
       "0                <3 mon            Daily  Less than 15 minutes   \n",
       "1                <3 mon      Once a week  Less than 15 minutes   \n",
       "2               >1 year            Daily  Less than 15 minutes   \n",
       "3                 Never   Don't meditate        Don't meditate   \n",
       "4                 Never   Don't meditate        Don't meditate   \n",
       "..                  ...              ...                   ...   \n",
       "102               Never   Don't meditate        Don't meditate   \n",
       "103  >6 mon and <1 year  2-3 days a week  Less than 15 minutes   \n",
       "104               Never   Don't meditate        Don't meditate   \n",
       "105               Never   Don't meditate        Don't meditate   \n",
       "106               Never   Don't meditate        Don't meditate   \n",
       "\n",
       "                stress              anger           emotions            calm  \\\n",
       "0    Strongly Disagree           Disagree            Neutral        Disagree   \n",
       "1              Neutral  Strongly Disagree  Strongly Disagree         Neutral   \n",
       "2              Neutral            Neutral            Neutral         Neutral   \n",
       "3       Strongly Agree     Strongly Agree     Strongly Agree         Neutral   \n",
       "4    Strongly Disagree     Strongly Agree     Strongly Agree  Strongly Agree   \n",
       "..                 ...                ...                ...             ...   \n",
       "102              agree              agree            Neutral         Neutral   \n",
       "103  Strongly Disagree            Neutral           Disagree        Disagree   \n",
       "104              agree              agree           Disagree         Neutral   \n",
       "105              agree           Disagree           Disagree         Neutral   \n",
       "106              agree     Strongly Agree              agree  Strongly Agree   \n",
       "\n",
       "     ...            clarity             energy         motivation  \\\n",
       "0    ...            Neutral           Disagree            Neutral   \n",
       "1    ...     Strongly Agree     Strongly Agree     Strongly Agree   \n",
       "2    ...            Neutral            Neutral            Neutral   \n",
       "3    ...     Strongly Agree            Neutral            Neutral   \n",
       "4    ...     Strongly Agree     Strongly Agree     Strongly Agree   \n",
       "..   ...                ...                ...                ...   \n",
       "102  ...            Neutral           Disagree           Disagree   \n",
       "103  ...  Strongly Disagree  Strongly Disagree  Strongly Disagree   \n",
       "104  ...              agree              agree              agree   \n",
       "105  ...              agree            Neutral            Neutral   \n",
       "106  ...              agree              agree              agree   \n",
       "\n",
       "                 focus           sleep              recommend    age  gender  \\\n",
       "0              Neutral        Disagree            Very likely    <18    Male   \n",
       "1       Strongly Agree  Strongly Agree            Very likely  18-25  Female   \n",
       "2              Neutral         Neutral            Very likely  18-25    Male   \n",
       "3              Neutral  Strongly Agree            Very likely  18-25  Female   \n",
       "4       Strongly Agree  Strongly Agree  Not interested at all  25-35    Male   \n",
       "..                 ...             ...                    ...    ...     ...   \n",
       "102           Disagree           agree  Not interested at all  25-35    Male   \n",
       "103  Strongly Disagree         Neutral               Not sure  18-25    Male   \n",
       "104              agree         Neutral  Not interested at all  18-25    Male   \n",
       "105           Disagree        Disagree               Not sure  18-25    Male   \n",
       "106              agree           agree               Not sure  25-35    Male   \n",
       "\n",
       "    comments gender1  \n",
       "0        NaN       1  \n",
       "1        NaN       1  \n",
       "2        NaN       1  \n",
       "3        NaN       1  \n",
       "4        NaN       1  \n",
       "..       ...     ...  \n",
       "102      NaN       1  \n",
       "103      NaN       1  \n",
       "104      NaN       1  \n",
       "105      NaN       1  \n",
       "106      NaN       1  \n",
       "\n",
       "[101 rows x 22 columns]"
      ]
     },
     "execution_count": 26,
     "metadata": {},
     "output_type": "execute_result"
    }
   ],
   "source": [
    "final_copy1 = final.copy(deep = True)\n",
    "final_copy1[\"gender1\"] = final_copy[\"gender\"]\n",
    "final_copy1"
   ]
  },
  {
   "cell_type": "code",
   "execution_count": 27,
   "id": "4a0ffd81",
   "metadata": {},
   "outputs": [
    {
     "data": {
      "text/plain": [
       "Index(['Female', 'Male', 'Prefer not to say', 'Female', 'Male'], dtype='object', name='gender')"
      ]
     },
     "execution_count": 27,
     "metadata": {},
     "output_type": "execute_result"
    }
   ],
   "source": [
    "p1 = final_copy1.groupby([\"m_whether\", \"gender\"]).sum()\n",
    "#p[\"count\"]=p[\"gender1\"]\n",
    "p1.columns = [\"count\"]\n",
    "p2 = final_copy1.groupby(\"m_whether\").sum()\n",
    "inner_labels = p1.index.get_level_values(1)\n",
    "inner_labels"
   ]
  },
  {
   "cell_type": "code",
   "execution_count": 28,
   "id": "80f7f6ca",
   "metadata": {},
   "outputs": [
    {
     "data": {
      "text/plain": [
       "Index(['Female', 'Male', 'Prefer not to say', 'Female', 'Male'], dtype='object', name='gender')"
      ]
     },
     "execution_count": 28,
     "metadata": {},
     "output_type": "execute_result"
    }
   ],
   "source": [
    "p2 = final_copy1.groupby(\"m_whether\").sum()\n",
    "p2\n",
    "inner_labels = p1.index.get_level_values(1)\n",
    "inner_labels"
   ]
  },
  {
   "cell_type": "code",
   "execution_count": 29,
   "id": "2aa5013f",
   "metadata": {},
   "outputs": [
    {
     "data": {
      "image/png": "[encoded data removed]",
      "text/plain": [
       "<Figure size 936x576 with 1 Axes>"
      ]
     },
     "metadata": {},
     "output_type": "display_data"
    }
   ],
   "source": [
    "fig, ax = plt.subplots(figsize=(13,8))\n",
    "size = 0.3\n",
    "\n",
    "ax.pie(p2.values.flatten(), radius=1,\n",
    "       labels=p2.index,\n",
    "       autopct='%1.1f%%', pctdistance = 0.8,\n",
    "       wedgeprops=dict(width=size, edgecolor='w'))\n",
    "\n",
    "ax.pie(p1.values.flatten(), radius=1-size, \n",
    "       labels = inner_labels, autopct = \"%1.1f%%\", pctdistance = 0.8,explode=[0,0,0,0,0],\n",
    "       wedgeprops=dict(width=size, edgecolor='w'))\n",
    "\n",
    "ax.set(aspect=\"equal\", title=\"Gender-wise distribution based on responses\")\n",
    "plt.show()"
   ]
  },
  {
   "cell_type": "markdown",
   "id": "36858525",
   "metadata": {},
   "source": [
    "## Fig.4-Gender-wise Distribution of Meditation Practitioners\n",
    "\n",
    "### This graph visualizes the percentage of meditation practitioners who fall in the category of male and female."
   ]
  },
  {
   "cell_type": "code",
   "execution_count": 30,
   "id": "31d491fd",
   "metadata": {},
   "outputs": [
    {
     "data": {
      "text/plain": [
       "48"
      ]
     },
     "execution_count": 30,
     "metadata": {},
     "output_type": "execute_result"
    }
   ],
   "source": [
    "#filtering the rows for those practice meditation:\n",
    "df_yes=final[final[\"m_whether\"]==\"Yes\"]\n",
    "df_yes.shape[0]"
   ]
  },
  {
   "cell_type": "code",
   "execution_count": 31,
   "id": "86cfae8f",
   "metadata": {},
   "outputs": [
    {
     "data": {
      "text/plain": [
       "25"
      ]
     },
     "execution_count": 31,
     "metadata": {},
     "output_type": "execute_result"
    }
   ],
   "source": [
    "df_yes[df_yes[\"gender\"]==\"Female\"].shape[0]\n",
    "#number of women who practice meditation"
   ]
  },
  {
   "cell_type": "code",
   "execution_count": 32,
   "id": "53c5f1c3",
   "metadata": {},
   "outputs": [
    {
     "data": {
      "text/plain": [
       "23"
      ]
     },
     "execution_count": 32,
     "metadata": {},
     "output_type": "execute_result"
    }
   ],
   "source": [
    "#number of men who practice meditation\n",
    "df_yes[df_yes[\"gender\"]==\"Male\"].shape[0]"
   ]
  },
  {
   "cell_type": "code",
   "execution_count": 33,
   "id": "228ba56b",
   "metadata": {},
   "outputs": [
    {
     "data": {
      "text/plain": [
       "48"
      ]
     },
     "execution_count": 33,
     "metadata": {},
     "output_type": "execute_result"
    }
   ],
   "source": [
    "df_yes.shape[0]\n",
    "#checking the number of rows"
   ]
  },
  {
   "cell_type": "code",
   "execution_count": 34,
   "id": "bbed0a9a",
   "metadata": {},
   "outputs": [
    {
     "data": {
      "image/png": "[encoded data removed]",
      "text/plain": [
       "<Figure size 432x288 with 1 Axes>"
      ]
     },
     "metadata": {},
     "output_type": "display_data"
    }
   ],
   "source": [
    "df_yes.groupby(['gender']).size().plot(kind='pie',autopct='%2.f',fontsize= 15,title='Gender wise distribution of the practitioners:')\n",
    "plt.show()"
   ]
  },
  {
   "cell_type": "markdown",
   "id": "86b91cd8",
   "metadata": {},
   "source": [
    "## Fig.5-Age-wise Distribution of Meditation Practitioners\n",
    "\n",
    "### This graph helps us to understand the age wise distribution of meditation practitioners\n"
   ]
  },
  {
   "cell_type": "code",
   "execution_count": 35,
   "id": "165416cd",
   "metadata": {},
   "outputs": [
    {
     "data": {
      "text/plain": [
       "53"
      ]
     },
     "execution_count": 35,
     "metadata": {},
     "output_type": "execute_result"
    }
   ],
   "source": [
    "# Data frame for those who dont meditate\n",
    "df_no=final[final['m_whether']=='No'];df_no.shape[0]"
   ]
  },
  {
   "cell_type": "code",
   "execution_count": 36,
   "id": "9d666a4e",
   "metadata": {},
   "outputs": [
    {
     "data": {
      "text/plain": [
       "18-25    41\n",
       "25-35    11\n",
       "35-50     1\n",
       "dtype: int64"
      ]
     },
     "execution_count": 36,
     "metadata": {},
     "output_type": "execute_result"
    }
   ],
   "source": [
    "df_no['age'].str.get_dummies().aggregate(sum)"
   ]
  },
  {
   "cell_type": "code",
   "execution_count": 37,
   "id": "9a4217ba",
   "metadata": {},
   "outputs": [
    {
     "data": {
      "text/plain": [
       "[0, 41, 11, 1]"
      ]
     },
     "execution_count": 37,
     "metadata": {},
     "output_type": "execute_result"
    }
   ],
   "source": [
    "#list of frequency values for each and every age group for df_no\n",
    "l_1=list(df_no['age'].str.get_dummies().aggregate(sum).values);l_1\n",
    "l_age_no=[0]\n",
    "l_age_no.extend(l_1)\n",
    "l_age_no\n",
    "# we added a zero "
   ]
  },
  {
   "cell_type": "code",
   "execution_count": 38,
   "id": "7ea2faea",
   "metadata": {},
   "outputs": [
    {
     "data": {
      "text/plain": [
       "array(['<18', '18-25', '25-35', '35-50'], dtype=object)"
      ]
     },
     "execution_count": 38,
     "metadata": {},
     "output_type": "execute_result"
    }
   ],
   "source": [
    "#different age groups\n",
    "final[\"age\"].unique()"
   ]
  },
  {
   "cell_type": "code",
   "execution_count": 39,
   "id": "0fc2c1a6",
   "metadata": {},
   "outputs": [
    {
     "data": {
      "text/plain": [
       "[24, 18, 5, 1]"
      ]
     },
     "execution_count": 39,
     "metadata": {},
     "output_type": "execute_result"
    }
   ],
   "source": [
    "#list of Frequency values for each and every age group for df_yes\n",
    "l_age_yes=list(df_yes['age'].str.get_dummies().aggregate(sum).values)\n",
    "l_age_yes"
   ]
  },
  {
   "cell_type": "code",
   "execution_count": 40,
   "id": "47c62665",
   "metadata": {},
   "outputs": [
    {
     "data": {
      "text/plain": [
       "['<18', '18-25', '25-35', '35-50']"
      ]
     },
     "execution_count": 40,
     "metadata": {},
     "output_type": "execute_result"
    }
   ],
   "source": [
    "l_age_unique=list(final[\"age\"].unique())\n",
    "l_age_unique"
   ]
  },
  {
   "cell_type": "code",
   "execution_count": 41,
   "id": "13a8de10",
   "metadata": {},
   "outputs": [
    {
     "data": {
      "image/png": "[encoded data removed]",
      "text/plain": [
       "<Figure size 432x288 with 1 Axes>"
      ]
     },
     "metadata": {
      "needs_background": "light"
     },
     "output_type": "display_data"
    }
   ],
   "source": [
    "w_yn=0.2\n",
    "bar1=np.arange(len(l_age_unique))\n",
    "bar2=[i+w_yn for i in bar1]\n",
    "plt.bar(bar1,l_age_no,w_yn,label='No')\n",
    "plt.bar(bar2,l_age_yes,w_yn,label='Yes')\n",
    "plt.xlabel('Age')\n",
    "plt.ylabel('Frequency')\n",
    "plt.title('Age w.r.t responeses')\n",
    "plt.xticks(bar1+w_yn/2,l_age_unique)\n",
    "plt.legend()\n",
    "plt.show()"
   ]
  },
  {
   "cell_type": "markdown",
   "id": "a223c580",
   "metadata": {},
   "source": [
    "## Fig.6.1- Perception of People Towards Well Being Factors\n",
    "\n",
    "### This graph visualizes the perception of people towards Stress and Anger Management basis whether they do meditation or not.\n"
   ]
  },
  {
   "cell_type": "code",
   "execution_count": 42,
   "id": "727e4cf0",
   "metadata": {},
   "outputs": [],
   "source": [
    "x = [1,3]"
   ]
  },
  {
   "cell_type": "code",
   "execution_count": 43,
   "id": "339bf48f",
   "metadata": {},
   "outputs": [
    {
     "name": "stdout",
     "output_type": "stream",
     "text": [
      "                stress  No  Yes\n",
      "0    Strongly Disagree   0    1\n",
      "1              Neutral   0    1\n",
      "2              Neutral   0    1\n",
      "3       Strongly Agree   1    0\n",
      "4    Strongly Disagree   1    0\n",
      "..                 ...  ..  ...\n",
      "102              agree   1    0\n",
      "103  Strongly Disagree   0    1\n",
      "104              agree   1    0\n",
      "105              agree   1    0\n",
      "106              agree   1    0\n",
      "\n",
      "[101 rows x 3 columns]\n"
     ]
    },
    {
     "data": {
      "text/html": [
       "<div>\n",
       "<style scoped>\n",
       "    .dataframe tbody tr th:only-of-type {\n",
       "        vertical-align: middle;\n",
       "    }\n",
       "\n",
       "    .dataframe tbody tr th {\n",
       "        vertical-align: top;\n",
       "    }\n",
       "\n",
       "    .dataframe thead th {\n",
       "        text-align: right;\n",
       "    }\n",
       "</style>\n",
       "<table border=\"1\" class=\"dataframe\">\n",
       "  <thead>\n",
       "    <tr style=\"text-align: right;\">\n",
       "      <th></th>\n",
       "      <th>No</th>\n",
       "      <th>Yes</th>\n",
       "    </tr>\n",
       "    <tr>\n",
       "      <th>stress</th>\n",
       "      <th></th>\n",
       "      <th></th>\n",
       "    </tr>\n",
       "  </thead>\n",
       "  <tbody>\n",
       "    <tr>\n",
       "      <th>Disagree</th>\n",
       "      <td>7</td>\n",
       "      <td>9</td>\n",
       "    </tr>\n",
       "    <tr>\n",
       "      <th>Neutral</th>\n",
       "      <td>16</td>\n",
       "      <td>20</td>\n",
       "    </tr>\n",
       "    <tr>\n",
       "      <th>Strongly Agree</th>\n",
       "      <td>5</td>\n",
       "      <td>3</td>\n",
       "    </tr>\n",
       "    <tr>\n",
       "      <th>Strongly Disagree</th>\n",
       "      <td>6</td>\n",
       "      <td>9</td>\n",
       "    </tr>\n",
       "    <tr>\n",
       "      <th>agree</th>\n",
       "      <td>19</td>\n",
       "      <td>7</td>\n",
       "    </tr>\n",
       "  </tbody>\n",
       "</table>\n",
       "</div>"
      ],
      "text/plain": [
       "                   No  Yes\n",
       "stress                    \n",
       "Disagree            7    9\n",
       "Neutral            16   20\n",
       "Strongly Agree      5    3\n",
       "Strongly Disagree   6    9\n",
       "agree              19    7"
      ]
     },
     "execution_count": 43,
     "metadata": {},
     "output_type": "execute_result"
    }
   ],
   "source": [
    "df9 = pd.concat([final.stress, final.m_whether.str.get_dummies()], axis = 1); print(df9)\n",
    "p98 = df9.groupby(\"stress\").aggregate(sum); p98"
   ]
  },
  {
   "cell_type": "code",
   "execution_count": 44,
   "id": "89fed618",
   "metadata": {},
   "outputs": [
    {
     "name": "stdout",
     "output_type": "stream",
     "text": [
      "[7 9]\n",
      "[16 20]\n",
      "[5 3]\n",
      "[6 9]\n",
      "[19  7]\n"
     ]
    }
   ],
   "source": [
    "l_str_d=p98.iloc[0].values;print(l_str_d)\n",
    "l_str_n=p98.iloc[1].values;print(l_str_n)\n",
    "l_str_sa=p98.iloc[2].values;print(l_str_sa)\n",
    "l_str_sd=p98.iloc[3].values;print(l_str_sd)\n",
    "l_str_a=p98.iloc[4].values;print(l_str_a)"
   ]
  },
  {
   "cell_type": "code",
   "execution_count": 45,
   "id": "8ba41167",
   "metadata": {},
   "outputs": [
    {
     "name": "stdout",
     "output_type": "stream",
     "text": [
      "                 anger  No  Yes\n",
      "0             Disagree   0    1\n",
      "1    Strongly Disagree   0    1\n",
      "2              Neutral   0    1\n",
      "3       Strongly Agree   1    0\n",
      "4       Strongly Agree   1    0\n",
      "..                 ...  ..  ...\n",
      "102              agree   1    0\n",
      "103            Neutral   0    1\n",
      "104              agree   1    0\n",
      "105           Disagree   1    0\n",
      "106     Strongly Agree   1    0\n",
      "\n",
      "[101 rows x 3 columns]\n"
     ]
    },
    {
     "data": {
      "text/html": [
       "<div>\n",
       "<style scoped>\n",
       "    .dataframe tbody tr th:only-of-type {\n",
       "        vertical-align: middle;\n",
       "    }\n",
       "\n",
       "    .dataframe tbody tr th {\n",
       "        vertical-align: top;\n",
       "    }\n",
       "\n",
       "    .dataframe thead th {\n",
       "        text-align: right;\n",
       "    }\n",
       "</style>\n",
       "<table border=\"1\" class=\"dataframe\">\n",
       "  <thead>\n",
       "    <tr style=\"text-align: right;\">\n",
       "      <th></th>\n",
       "      <th>No</th>\n",
       "      <th>Yes</th>\n",
       "    </tr>\n",
       "    <tr>\n",
       "      <th>anger</th>\n",
       "      <th></th>\n",
       "      <th></th>\n",
       "    </tr>\n",
       "  </thead>\n",
       "  <tbody>\n",
       "    <tr>\n",
       "      <th>Disagree</th>\n",
       "      <td>7</td>\n",
       "      <td>7</td>\n",
       "    </tr>\n",
       "    <tr>\n",
       "      <th>Neutral</th>\n",
       "      <td>14</td>\n",
       "      <td>16</td>\n",
       "    </tr>\n",
       "    <tr>\n",
       "      <th>Strongly Agree</th>\n",
       "      <td>11</td>\n",
       "      <td>4</td>\n",
       "    </tr>\n",
       "    <tr>\n",
       "      <th>Strongly Disagree</th>\n",
       "      <td>4</td>\n",
       "      <td>2</td>\n",
       "    </tr>\n",
       "    <tr>\n",
       "      <th>agree</th>\n",
       "      <td>17</td>\n",
       "      <td>19</td>\n",
       "    </tr>\n",
       "  </tbody>\n",
       "</table>\n",
       "</div>"
      ],
      "text/plain": [
       "                   No  Yes\n",
       "anger                     \n",
       "Disagree            7    7\n",
       "Neutral            14   16\n",
       "Strongly Agree     11    4\n",
       "Strongly Disagree   4    2\n",
       "agree              17   19"
      ]
     },
     "execution_count": 45,
     "metadata": {},
     "output_type": "execute_result"
    }
   ],
   "source": [
    "df10 = pd.concat([final.anger, final.m_whether.str.get_dummies()], axis = 1); print(df10)\n",
    "p99 = df10.groupby(\"anger\").aggregate(sum); p99"
   ]
  },
  {
   "cell_type": "code",
   "execution_count": 46,
   "id": "bc64ed9f",
   "metadata": {},
   "outputs": [
    {
     "name": "stdout",
     "output_type": "stream",
     "text": [
      "[7 7]\n",
      "[14 16]\n",
      "[11  4]\n",
      "[4 2]\n",
      "[17 19]\n"
     ]
    }
   ],
   "source": [
    "l_an_d=p99.iloc[0].values;print(l_an_d)\n",
    "l_an_n=p99.iloc[1].values;print(l_an_n)\n",
    "l_an_sa=p99.iloc[2].values;print(l_an_sa)\n",
    "l_an_sd=p99.iloc[3].values;print(l_an_sd)\n",
    "l_an_a=p99.iloc[4].values;print(l_an_a)"
   ]
  },
  {
   "cell_type": "code",
   "execution_count": 47,
   "id": "7ee146e6",
   "metadata": {},
   "outputs": [
    {
     "data": {
      "image/png": "[encoded data removed]",
      "text/plain": [
       "<Figure size 432x288 with 1 Axes>"
      ]
     },
     "metadata": {
      "needs_background": "light"
     },
     "output_type": "display_data"
    },
    {
     "data": {
      "image/png": "[encoded data removed]",
      "text/plain": [
       "<Figure size 432x288 with 1 Axes>"
      ]
     },
     "metadata": {
      "needs_background": "light"
     },
     "output_type": "display_data"
    }
   ],
   "source": [
    "plt.subplot(2,1,1)\n",
    "w_str_yn=0.4\n",
    "x_axis=['No','Yes']\n",
    "b_3=list(np.add(l_str_d,l_str_n))\n",
    "b_4=list(np.add(b_3,l_str_sa))\n",
    "b_5=list(np.add(b_4,l_str_sd))\n",
    "plt.bar(x,l_str_d,w_str_yn,label='Disagree')\n",
    "plt.bar(x,l_str_n,w_str_yn,bottom=l_str_d,label='Neutral')\n",
    "plt.bar(x,l_str_sa,w_str_yn,bottom=b_3,label='Strongly Agree')\n",
    "plt.bar(x,l_str_sd,w_str_yn,bottom=b_4,label='Strongly Disagree')\n",
    "plt.bar(x,l_str_a,w_str_yn,bottom=b_5,label='Agree')\n",
    "plt.xlabel('Do you meditate')\n",
    "plt.ylabel('Frequency')\n",
    "plt.title('stress')\n",
    "plt.xticks([1,3],x_axis)\n",
    "plt.legend()\n",
    "plt.show()\n",
    "plt.subplot(2,1,2)\n",
    "w_an_yn=0.4\n",
    "x_axis=['No','Yes']\n",
    "b3=list(np.add(l_an_d,l_an_n))\n",
    "b4=list(np.add(b3,l_an_sa))\n",
    "b5=list(np.add(b4,l_an_sd))\n",
    "plt.bar(x,l_an_d,w_an_yn,label='Disagree')\n",
    "plt.bar(x,l_an_n,w_an_yn,bottom=l_an_d,label='Neutral')\n",
    "plt.bar(x,l_an_sa,w_an_yn,bottom=b3,label='Strongly Agree')\n",
    "plt.bar(x,l_an_sd,w_an_yn,bottom=b4,label='Strongly Disagree')\n",
    "plt.bar(x,l_an_a,w_an_yn,bottom=b5,label='Agree')\n",
    "plt.xlabel('Do you meditate')\n",
    "plt.ylabel('Frequency')\n",
    "plt.title('anger management')\n",
    "plt.xticks([1,3],x_axis)\n",
    "plt.legend()\n",
    "plt.show()\n"
   ]
  },
  {
   "cell_type": "markdown",
   "id": "9846b381",
   "metadata": {},
   "source": [
    "## Fig.6.2- Perception of People Towards Well Being Factors\n",
    "\n",
    "### This graph visualizes the perception of people towards Emotional well-being and Calmness basis whether they do meditation or not.\n"
   ]
  },
  {
   "cell_type": "code",
   "execution_count": 48,
   "id": "9eac7682",
   "metadata": {},
   "outputs": [
    {
     "name": "stdout",
     "output_type": "stream",
     "text": [
      "               calm  No  Yes\n",
      "0          Disagree   0    1\n",
      "1           Neutral   0    1\n",
      "2           Neutral   0    1\n",
      "3           Neutral   1    0\n",
      "4    Strongly Agree   1    0\n",
      "..              ...  ..  ...\n",
      "102         Neutral   1    0\n",
      "103        Disagree   0    1\n",
      "104         Neutral   1    0\n",
      "105         Neutral   1    0\n",
      "106  Strongly Agree   1    0\n",
      "\n",
      "[101 rows x 3 columns]\n"
     ]
    },
    {
     "data": {
      "text/html": [
       "<div>\n",
       "<style scoped>\n",
       "    .dataframe tbody tr th:only-of-type {\n",
       "        vertical-align: middle;\n",
       "    }\n",
       "\n",
       "    .dataframe tbody tr th {\n",
       "        vertical-align: top;\n",
       "    }\n",
       "\n",
       "    .dataframe thead th {\n",
       "        text-align: right;\n",
       "    }\n",
       "</style>\n",
       "<table border=\"1\" class=\"dataframe\">\n",
       "  <thead>\n",
       "    <tr style=\"text-align: right;\">\n",
       "      <th></th>\n",
       "      <th>No</th>\n",
       "      <th>Yes</th>\n",
       "    </tr>\n",
       "    <tr>\n",
       "      <th>calm</th>\n",
       "      <th></th>\n",
       "      <th></th>\n",
       "    </tr>\n",
       "  </thead>\n",
       "  <tbody>\n",
       "    <tr>\n",
       "      <th>Disagree</th>\n",
       "      <td>5</td>\n",
       "      <td>8</td>\n",
       "    </tr>\n",
       "    <tr>\n",
       "      <th>Neutral</th>\n",
       "      <td>19</td>\n",
       "      <td>15</td>\n",
       "    </tr>\n",
       "    <tr>\n",
       "      <th>Strongly Agree</th>\n",
       "      <td>9</td>\n",
       "      <td>7</td>\n",
       "    </tr>\n",
       "    <tr>\n",
       "      <th>Strongly Disagree</th>\n",
       "      <td>4</td>\n",
       "      <td>1</td>\n",
       "    </tr>\n",
       "    <tr>\n",
       "      <th>agree</th>\n",
       "      <td>16</td>\n",
       "      <td>17</td>\n",
       "    </tr>\n",
       "  </tbody>\n",
       "</table>\n",
       "</div>"
      ],
      "text/plain": [
       "                   No  Yes\n",
       "calm                      \n",
       "Disagree            5    8\n",
       "Neutral            19   15\n",
       "Strongly Agree      9    7\n",
       "Strongly Disagree   4    1\n",
       "agree              16   17"
      ]
     },
     "execution_count": 48,
     "metadata": {},
     "output_type": "execute_result"
    }
   ],
   "source": [
    "df11 = pd.concat([final.calm, final.m_whether.str.get_dummies()], axis = 1); print(df11)\n",
    "p100 = df11.groupby(\"calm\").aggregate(sum); p100"
   ]
  },
  {
   "cell_type": "code",
   "execution_count": 49,
   "id": "324a1432",
   "metadata": {},
   "outputs": [
    {
     "name": "stdout",
     "output_type": "stream",
     "text": [
      "              emotions  No  Yes\n",
      "0              Neutral   0    1\n",
      "1    Strongly Disagree   0    1\n",
      "2              Neutral   0    1\n",
      "3       Strongly Agree   1    0\n",
      "4       Strongly Agree   1    0\n",
      "..                 ...  ..  ...\n",
      "102            Neutral   1    0\n",
      "103           Disagree   0    1\n",
      "104           Disagree   1    0\n",
      "105           Disagree   1    0\n",
      "106              agree   1    0\n",
      "\n",
      "[101 rows x 3 columns]\n"
     ]
    },
    {
     "data": {
      "text/html": [
       "<div>\n",
       "<style scoped>\n",
       "    .dataframe tbody tr th:only-of-type {\n",
       "        vertical-align: middle;\n",
       "    }\n",
       "\n",
       "    .dataframe tbody tr th {\n",
       "        vertical-align: top;\n",
       "    }\n",
       "\n",
       "    .dataframe thead th {\n",
       "        text-align: right;\n",
       "    }\n",
       "</style>\n",
       "<table border=\"1\" class=\"dataframe\">\n",
       "  <thead>\n",
       "    <tr style=\"text-align: right;\">\n",
       "      <th></th>\n",
       "      <th>No</th>\n",
       "      <th>Yes</th>\n",
       "    </tr>\n",
       "    <tr>\n",
       "      <th>emotions</th>\n",
       "      <th></th>\n",
       "      <th></th>\n",
       "    </tr>\n",
       "  </thead>\n",
       "  <tbody>\n",
       "    <tr>\n",
       "      <th>Disagree</th>\n",
       "      <td>9</td>\n",
       "      <td>9</td>\n",
       "    </tr>\n",
       "    <tr>\n",
       "      <th>Neutral</th>\n",
       "      <td>17</td>\n",
       "      <td>15</td>\n",
       "    </tr>\n",
       "    <tr>\n",
       "      <th>Strongly Agree</th>\n",
       "      <td>7</td>\n",
       "      <td>7</td>\n",
       "    </tr>\n",
       "    <tr>\n",
       "      <th>Strongly Disagree</th>\n",
       "      <td>4</td>\n",
       "      <td>3</td>\n",
       "    </tr>\n",
       "    <tr>\n",
       "      <th>agree</th>\n",
       "      <td>16</td>\n",
       "      <td>14</td>\n",
       "    </tr>\n",
       "  </tbody>\n",
       "</table>\n",
       "</div>"
      ],
      "text/plain": [
       "                   No  Yes\n",
       "emotions                  \n",
       "Disagree            9    9\n",
       "Neutral            17   15\n",
       "Strongly Agree      7    7\n",
       "Strongly Disagree   4    3\n",
       "agree              16   14"
      ]
     },
     "execution_count": 49,
     "metadata": {},
     "output_type": "execute_result"
    }
   ],
   "source": [
    "df12 = pd.concat([final.emotions, final.m_whether.str.get_dummies()], axis = 1); print(df12)\n",
    "p101 = df12.groupby(\"emotions\").aggregate(sum); p101"
   ]
  },
  {
   "cell_type": "code",
   "execution_count": 50,
   "id": "b1b5a88b",
   "metadata": {},
   "outputs": [
    {
     "name": "stdout",
     "output_type": "stream",
     "text": [
      "[9 9]\n",
      "[17 15]\n",
      "[7 7]\n",
      "[4 3]\n",
      "[16 14]\n"
     ]
    }
   ],
   "source": [
    "l_e_d=p101.iloc[0].values;print(l_e_d)\n",
    "l_e_n=p101.iloc[1].values;print(l_e_n)\n",
    "l_e_sa=p101.iloc[2].values;print(l_e_sa)\n",
    "l_e_sd=p101.iloc[3].values;print(l_e_sd)\n",
    "l_e_a=p101.iloc[4].values;print(l_e_a)"
   ]
  },
  {
   "cell_type": "code",
   "execution_count": 51,
   "id": "96c5c34b",
   "metadata": {},
   "outputs": [
    {
     "name": "stdout",
     "output_type": "stream",
     "text": [
      "[5 8]\n",
      "[19 15]\n",
      "[9 7]\n",
      "[4 1]\n",
      "[16 17]\n"
     ]
    }
   ],
   "source": [
    "l_c_d=p100.iloc[0].values;print(l_c_d)\n",
    "l_c_n=p100.iloc[1].values;print(l_c_n)\n",
    "l_c_sa=p100.iloc[2].values;print(l_c_sa)\n",
    "l_c_sd=p100.iloc[3].values;print(l_c_sd)\n",
    "l_c_a=p100.iloc[4].values;print(l_c_a)"
   ]
  },
  {
   "cell_type": "code",
   "execution_count": 52,
   "id": "7b729401",
   "metadata": {
    "scrolled": true
   },
   "outputs": [
    {
     "data": {
      "image/png": "[encoded data removed]",
      "text/plain": [
       "<Figure size 432x288 with 1 Axes>"
      ]
     },
     "metadata": {
      "needs_background": "light"
     },
     "output_type": "display_data"
    },
    {
     "data": {
      "image/png": "[encoded data removed]",
      "text/plain": [
       "<Figure size 432x288 with 1 Axes>"
      ]
     },
     "metadata": {
      "needs_background": "light"
     },
     "output_type": "display_data"
    }
   ],
   "source": [
    "plt.subplot(2,1,1)\n",
    "w_e_yn=0.4\n",
    "x_axis=['No','Yes']\n",
    "b_3=list(np.add(l_c_d,l_e_n))\n",
    "b_4=list(np.add(b_3,l_e_sa))\n",
    "b_5=list(np.add(b_4,l_e_sd))\n",
    "plt.bar(x,l_e_d,w_e_yn,label='Disagree')\n",
    "plt.bar(x,l_e_n,w_e_yn,bottom=l_e_d,label='Neutral')\n",
    "plt.bar(x,l_e_sa,w_e_yn,bottom=b_3,label='Strongly Agree')\n",
    "plt.bar(x,l_e_sd,w_e_yn,bottom=b_4,label='Strongly Disagree')\n",
    "plt.bar(x,l_e_a,w_e_yn,bottom=b_5,label='Agree')\n",
    "plt.xlabel('Do you meditate')\n",
    "plt.ylabel('Frequency')\n",
    "plt.title('emotions')\n",
    "plt.xticks([1,3],x_axis)\n",
    "plt.legend()\n",
    "plt.show()\n",
    "plt.subplot(2,1,2)\n",
    "w_c_yn=0.4\n",
    "x_axis=['No','Yes']\n",
    "b3=list(np.add(l_c_d,l_c_n))\n",
    "b4=list(np.add(b3,l_c_sa))\n",
    "b5=list(np.add(b4,l_c_sd))\n",
    "plt.bar(x,l_c_d,w_c_yn,label='Disagree')\n",
    "plt.bar(x,l_c_n,w_c_yn,bottom=l_c_d,label='Neutral')\n",
    "plt.bar(x,l_c_sa,w_c_yn,bottom=b3,label='Strongly Agree')\n",
    "plt.bar(x,l_c_sd,w_c_yn,bottom=b4,label='Strongly Disagree')\n",
    "plt.bar(x,l_c_a,w_c_yn,bottom=b5,label='Agree')\n",
    "plt.xlabel('Do you meditate')\n",
    "plt.ylabel('Frequency')\n",
    "plt.title('calm')\n",
    "plt.xticks([1,3],x_axis)\n",
    "plt.legend()\n",
    "plt.show()\n"
   ]
  },
  {
   "cell_type": "markdown",
   "id": "a0c4ff20",
   "metadata": {},
   "source": [
    "## Fig.6.3- Perception of People Towards Well Being Factors\n",
    "\n",
    "\n",
    "### This graph visualizes the perception of people towards Confidence and Health basis whether they do meditation or not.\n"
   ]
  },
  {
   "cell_type": "code",
   "execution_count": 53,
   "id": "1b8673c0",
   "metadata": {},
   "outputs": [
    {
     "name": "stdout",
     "output_type": "stream",
     "text": [
      "         confidence  No  Yes\n",
      "0          Disagree   0    1\n",
      "1             agree   0    1\n",
      "2           Neutral   0    1\n",
      "3           Neutral   1    0\n",
      "4    Strongly Agree   1    0\n",
      "..              ...  ..  ...\n",
      "102        Disagree   1    0\n",
      "103        Disagree   0    1\n",
      "104         Neutral   1    0\n",
      "105        Disagree   1    0\n",
      "106           agree   1    0\n",
      "\n",
      "[101 rows x 3 columns]\n"
     ]
    },
    {
     "data": {
      "text/html": [
       "<div>\n",
       "<style scoped>\n",
       "    .dataframe tbody tr th:only-of-type {\n",
       "        vertical-align: middle;\n",
       "    }\n",
       "\n",
       "    .dataframe tbody tr th {\n",
       "        vertical-align: top;\n",
       "    }\n",
       "\n",
       "    .dataframe thead th {\n",
       "        text-align: right;\n",
       "    }\n",
       "</style>\n",
       "<table border=\"1\" class=\"dataframe\">\n",
       "  <thead>\n",
       "    <tr style=\"text-align: right;\">\n",
       "      <th></th>\n",
       "      <th>No</th>\n",
       "      <th>Yes</th>\n",
       "    </tr>\n",
       "    <tr>\n",
       "      <th>confidence</th>\n",
       "      <th></th>\n",
       "      <th></th>\n",
       "    </tr>\n",
       "  </thead>\n",
       "  <tbody>\n",
       "    <tr>\n",
       "      <th>Disagree</th>\n",
       "      <td>9</td>\n",
       "      <td>7</td>\n",
       "    </tr>\n",
       "    <tr>\n",
       "      <th>Neutral</th>\n",
       "      <td>16</td>\n",
       "      <td>12</td>\n",
       "    </tr>\n",
       "    <tr>\n",
       "      <th>Strongly Agree</th>\n",
       "      <td>7</td>\n",
       "      <td>11</td>\n",
       "    </tr>\n",
       "    <tr>\n",
       "      <th>Strongly Disagree</th>\n",
       "      <td>2</td>\n",
       "      <td>2</td>\n",
       "    </tr>\n",
       "    <tr>\n",
       "      <th>agree</th>\n",
       "      <td>19</td>\n",
       "      <td>16</td>\n",
       "    </tr>\n",
       "  </tbody>\n",
       "</table>\n",
       "</div>"
      ],
      "text/plain": [
       "                   No  Yes\n",
       "confidence                \n",
       "Disagree            9    7\n",
       "Neutral            16   12\n",
       "Strongly Agree      7   11\n",
       "Strongly Disagree   2    2\n",
       "agree              19   16"
      ]
     },
     "execution_count": 53,
     "metadata": {},
     "output_type": "execute_result"
    }
   ],
   "source": [
    "df13 = pd.concat([final.confidence, final.m_whether.str.get_dummies()], axis = 1); print(df13)\n",
    "p102 = df13.groupby(\"confidence\").aggregate(sum); p102"
   ]
  },
  {
   "cell_type": "code",
   "execution_count": 54,
   "id": "e77a29b5",
   "metadata": {},
   "outputs": [
    {
     "name": "stdout",
     "output_type": "stream",
     "text": [
      "[9 7]\n",
      "[16 12]\n",
      "[ 7 11]\n",
      "[2 2]\n",
      "[19 16]\n"
     ]
    }
   ],
   "source": [
    "l_co_d=p102.iloc[0].values;print(l_co_d)\n",
    "l_co_n=p102.iloc[1].values;print(l_co_n)\n",
    "l_co_sa=p102.iloc[2].values;print(l_co_sa)\n",
    "l_co_sd=p102.iloc[3].values;print(l_co_sd)\n",
    "l_co_a=p102.iloc[4].values;print(l_co_a)"
   ]
  },
  {
   "cell_type": "code",
   "execution_count": 55,
   "id": "f7969736",
   "metadata": {},
   "outputs": [
    {
     "name": "stdout",
     "output_type": "stream",
     "text": [
      "             health  No  Yes\n",
      "0           Neutral   0    1\n",
      "1             agree   0    1\n",
      "2           Neutral   0    1\n",
      "3          Disagree   1    0\n",
      "4    Strongly Agree   1    0\n",
      "..              ...  ..  ...\n",
      "102        Disagree   1    0\n",
      "103        Disagree   0    1\n",
      "104        Disagree   1    0\n",
      "105        Disagree   1    0\n",
      "106         Neutral   1    0\n",
      "\n",
      "[101 rows x 3 columns]\n"
     ]
    },
    {
     "data": {
      "text/html": [
       "<div>\n",
       "<style scoped>\n",
       "    .dataframe tbody tr th:only-of-type {\n",
       "        vertical-align: middle;\n",
       "    }\n",
       "\n",
       "    .dataframe tbody tr th {\n",
       "        vertical-align: top;\n",
       "    }\n",
       "\n",
       "    .dataframe thead th {\n",
       "        text-align: right;\n",
       "    }\n",
       "</style>\n",
       "<table border=\"1\" class=\"dataframe\">\n",
       "  <thead>\n",
       "    <tr style=\"text-align: right;\">\n",
       "      <th></th>\n",
       "      <th>No</th>\n",
       "      <th>Yes</th>\n",
       "    </tr>\n",
       "    <tr>\n",
       "      <th>health</th>\n",
       "      <th></th>\n",
       "      <th></th>\n",
       "    </tr>\n",
       "  </thead>\n",
       "  <tbody>\n",
       "    <tr>\n",
       "      <th>Disagree</th>\n",
       "      <td>13</td>\n",
       "      <td>2</td>\n",
       "    </tr>\n",
       "    <tr>\n",
       "      <th>Neutral</th>\n",
       "      <td>19</td>\n",
       "      <td>17</td>\n",
       "    </tr>\n",
       "    <tr>\n",
       "      <th>Strongly Agree</th>\n",
       "      <td>7</td>\n",
       "      <td>8</td>\n",
       "    </tr>\n",
       "    <tr>\n",
       "      <th>Strongly Disagree</th>\n",
       "      <td>4</td>\n",
       "      <td>5</td>\n",
       "    </tr>\n",
       "    <tr>\n",
       "      <th>agree</th>\n",
       "      <td>10</td>\n",
       "      <td>16</td>\n",
       "    </tr>\n",
       "  </tbody>\n",
       "</table>\n",
       "</div>"
      ],
      "text/plain": [
       "                   No  Yes\n",
       "health                    \n",
       "Disagree           13    2\n",
       "Neutral            19   17\n",
       "Strongly Agree      7    8\n",
       "Strongly Disagree   4    5\n",
       "agree              10   16"
      ]
     },
     "execution_count": 55,
     "metadata": {},
     "output_type": "execute_result"
    }
   ],
   "source": [
    "df14 = pd.concat([final.health, final.m_whether.str.get_dummies()], axis = 1); print(df14)\n",
    "p103 = df14.groupby(\"health\").aggregate(sum); p103"
   ]
  },
  {
   "cell_type": "code",
   "execution_count": 56,
   "id": "a75aef7a",
   "metadata": {},
   "outputs": [
    {
     "name": "stdout",
     "output_type": "stream",
     "text": [
      "[13  2]\n",
      "[19 17]\n",
      "[7 8]\n",
      "[4 5]\n",
      "[10 16]\n"
     ]
    }
   ],
   "source": [
    "l_h_d=p103.iloc[0].values;print(l_h_d)\n",
    "l_h_n=p103.iloc[1].values;print(l_h_n)\n",
    "l_h_sa=p103.iloc[2].values;print(l_h_sa)\n",
    "l_h_sd=p103.iloc[3].values;print(l_h_sd)\n",
    "l_h_a=p103.iloc[4].values;print(l_h_a)"
   ]
  },
  {
   "cell_type": "code",
   "execution_count": 57,
   "id": "25cadbff",
   "metadata": {},
   "outputs": [
    {
     "data": {
      "text/plain": [
       "[1, 3]"
      ]
     },
     "execution_count": 57,
     "metadata": {},
     "output_type": "execute_result"
    }
   ],
   "source": [
    "x"
   ]
  },
  {
   "cell_type": "code",
   "execution_count": 58,
   "id": "b6a1b9ae",
   "metadata": {},
   "outputs": [
    {
     "data": {
      "image/png": "[encoded data removed]",
      "text/plain": [
       "<Figure size 432x288 with 1 Axes>"
      ]
     },
     "metadata": {
      "needs_background": "light"
     },
     "output_type": "display_data"
    },
    {
     "data": {
      "image/png": "[encoded data removed]",
      "text/plain": [
       "<Figure size 432x288 with 1 Axes>"
      ]
     },
     "metadata": {
      "needs_background": "light"
     },
     "output_type": "display_data"
    }
   ],
   "source": [
    "plt.subplot(2,1,1)\n",
    "w_co_yn=0.4\n",
    "x_axis=['No','Yes']\n",
    "b_3=list(np.add(l_co_d,l_co_n))\n",
    "b_4=list(np.add(b_3,l_co_sa))\n",
    "b_5=list(np.add(b_4,l_co_sd))\n",
    "plt.bar(x,l_co_d,w_co_yn,label='Disagree')\n",
    "plt.bar(x,l_co_n,w_co_yn,bottom=l_co_d,label='Neutral')\n",
    "plt.bar(x,l_co_sa,w_co_yn,bottom=b_3,label='Strongly Agree')\n",
    "plt.bar(x,l_co_sd,w_co_yn,bottom=b_4,label='Strongly Disagree')\n",
    "plt.bar(x,l_co_a,w_co_yn,bottom=b_5,label='Agree')\n",
    "plt.xlabel('Do you meditate')\n",
    "plt.ylabel('Frequency')\n",
    "plt.title('confidence')\n",
    "plt.xticks([1,3],x_axis)\n",
    "plt.legend()\n",
    "plt.show()\n",
    "plt.subplot(2,1,2)\n",
    "w_h_yn=0.4\n",
    "x_axis=['No','Yes']\n",
    "b3=list(np.add(l_h_d,l_h_n))\n",
    "b4=list(np.add(b3,l_h_sa))\n",
    "b5=list(np.add(b4,l_h_sd))\n",
    "plt.bar(x,l_h_d,w_h_yn,label='Disagree')\n",
    "plt.bar(x,l_h_n,w_h_yn,bottom=l_h_d,label='Neutral')\n",
    "plt.bar(x,l_h_sa,w_h_yn,bottom=b3,label='Strongly Agree')\n",
    "plt.bar(x,l_h_sd,w_h_yn,bottom=b4,label='Strongly Disagree')\n",
    "plt.bar(x,l_h_a,w_h_yn,bottom=b5,label='Agree')\n",
    "plt.xlabel('Do you meditate')\n",
    "plt.ylabel('Frequency')\n",
    "plt.title('health')\n",
    "plt.xticks([1,3],x_axis)\n",
    "plt.legend()\n",
    "plt.show()\n"
   ]
  },
  {
   "cell_type": "markdown",
   "id": "ec7b57b3",
   "metadata": {},
   "source": [
    "## Fig 6.4 - Perception of People Towards Well Being Factors\n",
    "\n",
    "\n",
    "### This graph visualizes the perception of people towards Clarity in life and Energy levels basis whether they do meditation or not."
   ]
  },
  {
   "cell_type": "code",
   "execution_count": 59,
   "id": "d687094b",
   "metadata": {},
   "outputs": [
    {
     "name": "stdout",
     "output_type": "stream",
     "text": [
      "               clarity  No  Yes\n",
      "0              Neutral   0    1\n",
      "1       Strongly Agree   0    1\n",
      "2              Neutral   0    1\n",
      "3       Strongly Agree   1    0\n",
      "4       Strongly Agree   1    0\n",
      "..                 ...  ..  ...\n",
      "102            Neutral   1    0\n",
      "103  Strongly Disagree   0    1\n",
      "104              agree   1    0\n",
      "105              agree   1    0\n",
      "106              agree   1    0\n",
      "\n",
      "[101 rows x 3 columns]\n"
     ]
    },
    {
     "data": {
      "text/html": [
       "<div>\n",
       "<style scoped>\n",
       "    .dataframe tbody tr th:only-of-type {\n",
       "        vertical-align: middle;\n",
       "    }\n",
       "\n",
       "    .dataframe tbody tr th {\n",
       "        vertical-align: top;\n",
       "    }\n",
       "\n",
       "    .dataframe thead th {\n",
       "        text-align: right;\n",
       "    }\n",
       "</style>\n",
       "<table border=\"1\" class=\"dataframe\">\n",
       "  <thead>\n",
       "    <tr style=\"text-align: right;\">\n",
       "      <th></th>\n",
       "      <th>No</th>\n",
       "      <th>Yes</th>\n",
       "    </tr>\n",
       "    <tr>\n",
       "      <th>clarity</th>\n",
       "      <th></th>\n",
       "      <th></th>\n",
       "    </tr>\n",
       "  </thead>\n",
       "  <tbody>\n",
       "    <tr>\n",
       "      <th>Disagree</th>\n",
       "      <td>10</td>\n",
       "      <td>6</td>\n",
       "    </tr>\n",
       "    <tr>\n",
       "      <th>Neutral</th>\n",
       "      <td>14</td>\n",
       "      <td>11</td>\n",
       "    </tr>\n",
       "    <tr>\n",
       "      <th>Strongly Agree</th>\n",
       "      <td>9</td>\n",
       "      <td>7</td>\n",
       "    </tr>\n",
       "    <tr>\n",
       "      <th>Strongly Disagree</th>\n",
       "      <td>3</td>\n",
       "      <td>3</td>\n",
       "    </tr>\n",
       "    <tr>\n",
       "      <th>agree</th>\n",
       "      <td>17</td>\n",
       "      <td>21</td>\n",
       "    </tr>\n",
       "  </tbody>\n",
       "</table>\n",
       "</div>"
      ],
      "text/plain": [
       "                   No  Yes\n",
       "clarity                   \n",
       "Disagree           10    6\n",
       "Neutral            14   11\n",
       "Strongly Agree      9    7\n",
       "Strongly Disagree   3    3\n",
       "agree              17   21"
      ]
     },
     "execution_count": 59,
     "metadata": {},
     "output_type": "execute_result"
    }
   ],
   "source": [
    "df15 = pd.concat([final.clarity, final.m_whether.str.get_dummies()], axis = 1); print(df15)\n",
    "p104 = df15.groupby(\"clarity\").aggregate(sum); p104"
   ]
  },
  {
   "cell_type": "code",
   "execution_count": 60,
   "id": "6976ea13",
   "metadata": {},
   "outputs": [
    {
     "name": "stdout",
     "output_type": "stream",
     "text": [
      "[10  6]\n",
      "[14 11]\n",
      "[9 7]\n",
      "[3 3]\n",
      "[17 21]\n"
     ]
    }
   ],
   "source": [
    "l_clr_d=p104.iloc[0].values;print(l_clr_d)\n",
    "l_clr_n=p104.iloc[1].values;print(l_clr_n)\n",
    "l_clr_sa=p104.iloc[2].values;print(l_clr_sa)\n",
    "l_clr_sd=p104.iloc[3].values;print(l_clr_sd)\n",
    "l_clr_a=p104.iloc[4].values;print(l_clr_a)"
   ]
  },
  {
   "cell_type": "code",
   "execution_count": 61,
   "id": "7f585b21",
   "metadata": {},
   "outputs": [
    {
     "name": "stdout",
     "output_type": "stream",
     "text": [
      "                energy  No  Yes\n",
      "0             Disagree   0    1\n",
      "1       Strongly Agree   0    1\n",
      "2              Neutral   0    1\n",
      "3              Neutral   1    0\n",
      "4       Strongly Agree   1    0\n",
      "..                 ...  ..  ...\n",
      "102           Disagree   1    0\n",
      "103  Strongly Disagree   0    1\n",
      "104              agree   1    0\n",
      "105            Neutral   1    0\n",
      "106              agree   1    0\n",
      "\n",
      "[101 rows x 3 columns]\n"
     ]
    },
    {
     "data": {
      "text/html": [
       "<div>\n",
       "<style scoped>\n",
       "    .dataframe tbody tr th:only-of-type {\n",
       "        vertical-align: middle;\n",
       "    }\n",
       "\n",
       "    .dataframe tbody tr th {\n",
       "        vertical-align: top;\n",
       "    }\n",
       "\n",
       "    .dataframe thead th {\n",
       "        text-align: right;\n",
       "    }\n",
       "</style>\n",
       "<table border=\"1\" class=\"dataframe\">\n",
       "  <thead>\n",
       "    <tr style=\"text-align: right;\">\n",
       "      <th></th>\n",
       "      <th>No</th>\n",
       "      <th>Yes</th>\n",
       "    </tr>\n",
       "    <tr>\n",
       "      <th>energy</th>\n",
       "      <th></th>\n",
       "      <th></th>\n",
       "    </tr>\n",
       "  </thead>\n",
       "  <tbody>\n",
       "    <tr>\n",
       "      <th>Disagree</th>\n",
       "      <td>6</td>\n",
       "      <td>6</td>\n",
       "    </tr>\n",
       "    <tr>\n",
       "      <th>Neutral</th>\n",
       "      <td>19</td>\n",
       "      <td>15</td>\n",
       "    </tr>\n",
       "    <tr>\n",
       "      <th>Strongly Agree</th>\n",
       "      <td>8</td>\n",
       "      <td>12</td>\n",
       "    </tr>\n",
       "    <tr>\n",
       "      <th>Strongly Disagree</th>\n",
       "      <td>1</td>\n",
       "      <td>3</td>\n",
       "    </tr>\n",
       "    <tr>\n",
       "      <th>agree</th>\n",
       "      <td>19</td>\n",
       "      <td>12</td>\n",
       "    </tr>\n",
       "  </tbody>\n",
       "</table>\n",
       "</div>"
      ],
      "text/plain": [
       "                   No  Yes\n",
       "energy                    \n",
       "Disagree            6    6\n",
       "Neutral            19   15\n",
       "Strongly Agree      8   12\n",
       "Strongly Disagree   1    3\n",
       "agree              19   12"
      ]
     },
     "execution_count": 61,
     "metadata": {},
     "output_type": "execute_result"
    }
   ],
   "source": [
    "df16 = pd.concat([final.energy, final.m_whether.str.get_dummies()], axis = 1); print(df16)\n",
    "p105 = df16.groupby(\"energy\").aggregate(sum); p105"
   ]
  },
  {
   "cell_type": "code",
   "execution_count": 62,
   "id": "0b9838e8",
   "metadata": {},
   "outputs": [
    {
     "name": "stdout",
     "output_type": "stream",
     "text": [
      "[6 6]\n",
      "[19 15]\n",
      "[ 8 12]\n",
      "[1 3]\n",
      "[19 12]\n"
     ]
    }
   ],
   "source": [
    "l_en_d=p105.iloc[0].values;print(l_en_d)\n",
    "l_en_n=p105.iloc[1].values;print(l_en_n)\n",
    "l_en_sa=p105.iloc[2].values;print(l_en_sa)\n",
    "l_en_sd=p105.iloc[3].values;print(l_en_sd)\n",
    "l_en_a=p105.iloc[4].values;print(l_en_a)"
   ]
  },
  {
   "cell_type": "code",
   "execution_count": 63,
   "id": "53a82e98",
   "metadata": {},
   "outputs": [
    {
     "data": {
      "image/png": "[encoded data removed]",
      "text/plain": [
       "<Figure size 432x288 with 1 Axes>"
      ]
     },
     "metadata": {
      "needs_background": "light"
     },
     "output_type": "display_data"
    },
    {
     "data": {
      "image/png": "[encoded data removed]",
      "text/plain": [
       "<Figure size 432x288 with 1 Axes>"
      ]
     },
     "metadata": {
      "needs_background": "light"
     },
     "output_type": "display_data"
    }
   ],
   "source": [
    "plt.subplot(2,1,1)\n",
    "w_clr_yn=0.4\n",
    "x_axis=['No','Yes']\n",
    "b_3=list(np.add(l_clr_d,l_clr_n))\n",
    "b_4=list(np.add(b_3,l_clr_sa))\n",
    "b_5=list(np.add(b_4,l_clr_sd))\n",
    "plt.bar(x,l_clr_d,w_clr_yn,label='Disagree')\n",
    "plt.bar(x,l_clr_n,w_clr_yn,bottom=l_clr_d,label='Neutral')\n",
    "plt.bar(x,l_clr_sa,w_clr_yn,bottom=b_3,label='Strongly Agree')\n",
    "plt.bar(x,l_clr_sd,w_clr_yn,bottom=b_4,label='Strongly Disagree')\n",
    "plt.bar(x,l_clr_a,w_clr_yn,bottom=b_5,label='Agree')\n",
    "plt.xlabel('Do you meditate')\n",
    "plt.ylabel('Frequency')\n",
    "plt.title('clarity')\n",
    "plt.xticks([1,3],x_axis)\n",
    "plt.legend()\n",
    "plt.show()\n",
    "plt.subplot(2,1,2)\n",
    "w_en_yn=0.4\n",
    "x_axis=['No','Yes']\n",
    "b3=list(np.add(l_en_d,l_en_n))\n",
    "b4=list(np.add(b3,l_en_sa))\n",
    "b5=list(np.add(b4,l_en_sd))\n",
    "plt.bar(x,l_en_d,w_en_yn,label='Disagree')\n",
    "plt.bar(x,l_en_n,w_en_yn,bottom=l_en_d,label='Neutral')\n",
    "plt.bar(x,l_en_sa,w_en_yn,bottom=b3,label='Strongly Agree')\n",
    "plt.bar(x,l_en_sd,w_en_yn,bottom=b4,label='Strongly Disagree')\n",
    "plt.bar(x,l_en_a,w_en_yn,bottom=b5,label='Agree')\n",
    "plt.xlabel('Do you meditate')\n",
    "plt.ylabel('Frequency')\n",
    "plt.title('energy')\n",
    "plt.xticks([1,3],x_axis)\n",
    "plt.legend()\n",
    "plt.show()"
   ]
  },
  {
   "cell_type": "markdown",
   "id": "7d471dc6",
   "metadata": {},
   "source": [
    "# 6.5- Perception of People Towards Well Being Factors\n",
    "\n",
    "\n",
    "### This graph visualizes the perception of people towards 'Ability to Focus' and 'Motivation in Life' basis whether they do meditation or not."
   ]
  },
  {
   "cell_type": "code",
   "execution_count": 64,
   "id": "e83085a3",
   "metadata": {},
   "outputs": [
    {
     "name": "stdout",
     "output_type": "stream",
     "text": [
      "            motivation  No  Yes\n",
      "0              Neutral   0    1\n",
      "1       Strongly Agree   0    1\n",
      "2              Neutral   0    1\n",
      "3              Neutral   1    0\n",
      "4       Strongly Agree   1    0\n",
      "..                 ...  ..  ...\n",
      "102           Disagree   1    0\n",
      "103  Strongly Disagree   0    1\n",
      "104              agree   1    0\n",
      "105            Neutral   1    0\n",
      "106              agree   1    0\n",
      "\n",
      "[101 rows x 3 columns]\n"
     ]
    },
    {
     "data": {
      "text/html": [
       "<div>\n",
       "<style scoped>\n",
       "    .dataframe tbody tr th:only-of-type {\n",
       "        vertical-align: middle;\n",
       "    }\n",
       "\n",
       "    .dataframe tbody tr th {\n",
       "        vertical-align: top;\n",
       "    }\n",
       "\n",
       "    .dataframe thead th {\n",
       "        text-align: right;\n",
       "    }\n",
       "</style>\n",
       "<table border=\"1\" class=\"dataframe\">\n",
       "  <thead>\n",
       "    <tr style=\"text-align: right;\">\n",
       "      <th></th>\n",
       "      <th>No</th>\n",
       "      <th>Yes</th>\n",
       "    </tr>\n",
       "    <tr>\n",
       "      <th>motivation</th>\n",
       "      <th></th>\n",
       "      <th></th>\n",
       "    </tr>\n",
       "  </thead>\n",
       "  <tbody>\n",
       "    <tr>\n",
       "      <th>Disagree</th>\n",
       "      <td>7</td>\n",
       "      <td>5</td>\n",
       "    </tr>\n",
       "    <tr>\n",
       "      <th>Neutral</th>\n",
       "      <td>17</td>\n",
       "      <td>13</td>\n",
       "    </tr>\n",
       "    <tr>\n",
       "      <th>Strongly Agree</th>\n",
       "      <td>9</td>\n",
       "      <td>14</td>\n",
       "    </tr>\n",
       "    <tr>\n",
       "      <th>Strongly Disagree</th>\n",
       "      <td>2</td>\n",
       "      <td>4</td>\n",
       "    </tr>\n",
       "    <tr>\n",
       "      <th>agree</th>\n",
       "      <td>18</td>\n",
       "      <td>12</td>\n",
       "    </tr>\n",
       "  </tbody>\n",
       "</table>\n",
       "</div>"
      ],
      "text/plain": [
       "                   No  Yes\n",
       "motivation                \n",
       "Disagree            7    5\n",
       "Neutral            17   13\n",
       "Strongly Agree      9   14\n",
       "Strongly Disagree   2    4\n",
       "agree              18   12"
      ]
     },
     "execution_count": 64,
     "metadata": {},
     "output_type": "execute_result"
    }
   ],
   "source": [
    "df17 = pd.concat([final.motivation, final.m_whether.str.get_dummies()], axis = 1); print(df17)\n",
    "p106 = df17.groupby(\"motivation\").aggregate(sum); p106"
   ]
  },
  {
   "cell_type": "code",
   "execution_count": 65,
   "id": "56151412",
   "metadata": {},
   "outputs": [
    {
     "name": "stdout",
     "output_type": "stream",
     "text": [
      "[7 5]\n",
      "[17 13]\n",
      "[ 9 14]\n",
      "[2 4]\n",
      "[18 12]\n"
     ]
    }
   ],
   "source": [
    "l_m_d=p106.iloc[0].values;print(l_m_d)\n",
    "l_m_n=p106.iloc[1].values;print(l_m_n)\n",
    "l_m_sa=p106.iloc[2].values;print(l_m_sa)\n",
    "l_m_sd=p106.iloc[3].values;print(l_m_sd)\n",
    "l_m_a=p106.iloc[4].values;print(l_m_a)"
   ]
  },
  {
   "cell_type": "code",
   "execution_count": 66,
   "id": "f3e209b2",
   "metadata": {},
   "outputs": [
    {
     "name": "stdout",
     "output_type": "stream",
     "text": [
      "                 focus  No  Yes\n",
      "0              Neutral   0    1\n",
      "1       Strongly Agree   0    1\n",
      "2              Neutral   0    1\n",
      "3              Neutral   1    0\n",
      "4       Strongly Agree   1    0\n",
      "..                 ...  ..  ...\n",
      "102           Disagree   1    0\n",
      "103  Strongly Disagree   0    1\n",
      "104              agree   1    0\n",
      "105           Disagree   1    0\n",
      "106              agree   1    0\n",
      "\n",
      "[101 rows x 3 columns]\n"
     ]
    },
    {
     "data": {
      "text/html": [
       "<div>\n",
       "<style scoped>\n",
       "    .dataframe tbody tr th:only-of-type {\n",
       "        vertical-align: middle;\n",
       "    }\n",
       "\n",
       "    .dataframe tbody tr th {\n",
       "        vertical-align: top;\n",
       "    }\n",
       "\n",
       "    .dataframe thead th {\n",
       "        text-align: right;\n",
       "    }\n",
       "</style>\n",
       "<table border=\"1\" class=\"dataframe\">\n",
       "  <thead>\n",
       "    <tr style=\"text-align: right;\">\n",
       "      <th></th>\n",
       "      <th>No</th>\n",
       "      <th>Yes</th>\n",
       "    </tr>\n",
       "    <tr>\n",
       "      <th>focus</th>\n",
       "      <th></th>\n",
       "      <th></th>\n",
       "    </tr>\n",
       "  </thead>\n",
       "  <tbody>\n",
       "    <tr>\n",
       "      <th>Disagree</th>\n",
       "      <td>8</td>\n",
       "      <td>6</td>\n",
       "    </tr>\n",
       "    <tr>\n",
       "      <th>Neutral</th>\n",
       "      <td>20</td>\n",
       "      <td>14</td>\n",
       "    </tr>\n",
       "    <tr>\n",
       "      <th>Strongly Agree</th>\n",
       "      <td>7</td>\n",
       "      <td>11</td>\n",
       "    </tr>\n",
       "    <tr>\n",
       "      <th>Strongly Disagree</th>\n",
       "      <td>2</td>\n",
       "      <td>3</td>\n",
       "    </tr>\n",
       "    <tr>\n",
       "      <th>agree</th>\n",
       "      <td>16</td>\n",
       "      <td>14</td>\n",
       "    </tr>\n",
       "  </tbody>\n",
       "</table>\n",
       "</div>"
      ],
      "text/plain": [
       "                   No  Yes\n",
       "focus                     \n",
       "Disagree            8    6\n",
       "Neutral            20   14\n",
       "Strongly Agree      7   11\n",
       "Strongly Disagree   2    3\n",
       "agree              16   14"
      ]
     },
     "execution_count": 66,
     "metadata": {},
     "output_type": "execute_result"
    }
   ],
   "source": [
    "df18 = pd.concat([final.focus, final.m_whether.str.get_dummies()], axis = 1); print(df18)\n",
    "p107 = df18.groupby(\"focus\").aggregate(sum); p107"
   ]
  },
  {
   "cell_type": "code",
   "execution_count": 67,
   "id": "1c2639e7",
   "metadata": {},
   "outputs": [
    {
     "name": "stdout",
     "output_type": "stream",
     "text": [
      "[8 6]\n",
      "[20 14]\n",
      "[ 7 11]\n",
      "[2 3]\n",
      "[16 14]\n"
     ]
    }
   ],
   "source": [
    "l_f_d=p107.iloc[0].values;print(l_f_d)\n",
    "l_f_n=p107.iloc[1].values;print(l_f_n)\n",
    "l_f_sa=p107.iloc[2].values;print(l_f_sa)\n",
    "l_f_sd=p107.iloc[3].values;print(l_f_sd)\n",
    "l_f_a=p107.iloc[4].values;print(l_f_a)"
   ]
  },
  {
   "cell_type": "code",
   "execution_count": 68,
   "id": "2b5e09d7",
   "metadata": {},
   "outputs": [
    {
     "data": {
      "image/png": "[encoded data removed]",
      "text/plain": [
       "<Figure size 432x288 with 1 Axes>"
      ]
     },
     "metadata": {
      "needs_background": "light"
     },
     "output_type": "display_data"
    },
    {
     "data": {
      "image/png": "[encoded data removed]",
      "text/plain": [
       "<Figure size 432x288 with 1 Axes>"
      ]
     },
     "metadata": {
      "needs_background": "light"
     },
     "output_type": "display_data"
    }
   ],
   "source": [
    "plt.subplot(2,1,1)\n",
    "w_m_yn=0.4\n",
    "x_axis=['No','Yes']\n",
    "b_3=list(np.add(l_m_d,l_m_n))\n",
    "b_4=list(np.add(b_3,l_m_sa))\n",
    "b_5=list(np.add(b_4,l_m_sd))\n",
    "plt.bar(x,l_m_d,w_m_yn,label='Disagree')\n",
    "plt.bar(x,l_m_n,w_m_yn,bottom=l_m_d,label='Neutral')\n",
    "plt.bar(x,l_m_sa,w_m_yn,bottom=b_3,label='Strongly Agree')\n",
    "plt.bar(x,l_m_sd,w_m_yn,bottom=b_4,label='Strongly Disagree')\n",
    "plt.bar(x,l_m_a,w_m_yn,bottom=b_5,label='Agree')\n",
    "plt.xlabel('Do you meditate')\n",
    "plt.ylabel('Frequency')\n",
    "plt.title('motivation')\n",
    "plt.xticks([1,3],x_axis)\n",
    "plt.legend()\n",
    "plt.show()\n",
    "plt.subplot(2,1,2)\n",
    "w_f_yn=0.4\n",
    "x_axis=['No','Yes']\n",
    "b3=list(np.add(l_f_d,l_f_n))\n",
    "b4=list(np.add(b3,l_f_sa))\n",
    "b5=list(np.add(b4,l_f_sd))\n",
    "plt.bar(x,l_f_d,w_f_yn,label='Disagree')\n",
    "plt.bar(x,l_f_n,w_en_yn,bottom=l_f_d,label='Neutral')\n",
    "plt.bar(x,l_f_sa,w_en_yn,bottom=b3,label='Strongly Agree')\n",
    "plt.bar(x,l_f_sd,w_f_yn,bottom=b4,label='Strongly Disagree')\n",
    "plt.bar(x,l_f_a,w_en_yn,bottom=b5,label='Agree')\n",
    "plt.xlabel('Do you meditate')\n",
    "plt.ylabel('Frequency')\n",
    "plt.title('focus')\n",
    "plt.xticks([1,3],x_axis)\n",
    "plt.legend()\n",
    "plt.show()"
   ]
  },
  {
   "cell_type": "markdown",
   "id": "ef16ad84",
   "metadata": {},
   "source": [
    "# 6.6 Perception of People Towards Well Being Factors\n",
    "\n",
    "\n",
    "### This graph visualizes the perception of people towards Quality of Sleep basis whether they do meditation or not."
   ]
  },
  {
   "cell_type": "code",
   "execution_count": 69,
   "id": "8eeb63da",
   "metadata": {},
   "outputs": [
    {
     "name": "stdout",
     "output_type": "stream",
     "text": [
      "              sleep  No  Yes\n",
      "0          Disagree   0    1\n",
      "1    Strongly Agree   0    1\n",
      "2           Neutral   0    1\n",
      "3    Strongly Agree   1    0\n",
      "4    Strongly Agree   1    0\n",
      "..              ...  ..  ...\n",
      "102           agree   1    0\n",
      "103         Neutral   0    1\n",
      "104         Neutral   1    0\n",
      "105        Disagree   1    0\n",
      "106           agree   1    0\n",
      "\n",
      "[101 rows x 3 columns]\n"
     ]
    },
    {
     "data": {
      "text/html": [
       "<div>\n",
       "<style scoped>\n",
       "    .dataframe tbody tr th:only-of-type {\n",
       "        vertical-align: middle;\n",
       "    }\n",
       "\n",
       "    .dataframe tbody tr th {\n",
       "        vertical-align: top;\n",
       "    }\n",
       "\n",
       "    .dataframe thead th {\n",
       "        text-align: right;\n",
       "    }\n",
       "</style>\n",
       "<table border=\"1\" class=\"dataframe\">\n",
       "  <thead>\n",
       "    <tr style=\"text-align: right;\">\n",
       "      <th></th>\n",
       "      <th>No</th>\n",
       "      <th>Yes</th>\n",
       "    </tr>\n",
       "    <tr>\n",
       "      <th>sleep</th>\n",
       "      <th></th>\n",
       "      <th></th>\n",
       "    </tr>\n",
       "  </thead>\n",
       "  <tbody>\n",
       "    <tr>\n",
       "      <th>Disagree</th>\n",
       "      <td>10</td>\n",
       "      <td>6</td>\n",
       "    </tr>\n",
       "    <tr>\n",
       "      <th>Neutral</th>\n",
       "      <td>14</td>\n",
       "      <td>13</td>\n",
       "    </tr>\n",
       "    <tr>\n",
       "      <th>Strongly Agree</th>\n",
       "      <td>8</td>\n",
       "      <td>12</td>\n",
       "    </tr>\n",
       "    <tr>\n",
       "      <th>Strongly Disagree</th>\n",
       "      <td>7</td>\n",
       "      <td>4</td>\n",
       "    </tr>\n",
       "    <tr>\n",
       "      <th>agree</th>\n",
       "      <td>14</td>\n",
       "      <td>13</td>\n",
       "    </tr>\n",
       "  </tbody>\n",
       "</table>\n",
       "</div>"
      ],
      "text/plain": [
       "                   No  Yes\n",
       "sleep                     \n",
       "Disagree           10    6\n",
       "Neutral            14   13\n",
       "Strongly Agree      8   12\n",
       "Strongly Disagree   7    4\n",
       "agree              14   13"
      ]
     },
     "execution_count": 69,
     "metadata": {},
     "output_type": "execute_result"
    }
   ],
   "source": [
    "df19 = pd.concat([final.sleep, final.m_whether.str.get_dummies()], axis = 1); print(df19)\n",
    "p108 = df19.groupby(\"sleep\").aggregate(sum); p108"
   ]
  },
  {
   "cell_type": "code",
   "execution_count": 70,
   "id": "a4a2a3a9",
   "metadata": {},
   "outputs": [
    {
     "name": "stdout",
     "output_type": "stream",
     "text": [
      "[10  6]\n",
      "[14 13]\n",
      "[ 8 12]\n",
      "[7 4]\n",
      "[14 13]\n"
     ]
    }
   ],
   "source": [
    "l_sl_d=p108.iloc[0].values;print(l_sl_d)\n",
    "l_sl_n=p108.iloc[1].values;print(l_sl_n)\n",
    "l_sl_sa=p108.iloc[2].values;print(l_sl_sa)\n",
    "l_sl_sd=p108.iloc[3].values;print(l_sl_sd)\n",
    "l_sl_a=p108.iloc[4].values;print(l_sl_a)"
   ]
  },
  {
   "cell_type": "code",
   "execution_count": 71,
   "id": "24970866",
   "metadata": {},
   "outputs": [
    {
     "data": {
      "image/png": "[encoded data removed]",
      "text/plain": [
       "<Figure size 432x288 with 1 Axes>"
      ]
     },
     "metadata": {
      "needs_background": "light"
     },
     "output_type": "display_data"
    }
   ],
   "source": [
    "w_sl_yn=0.4\n",
    "x_axis=['No','Yes']\n",
    "b_3=list(np.add(l_sl_d,l_sl_n))\n",
    "b_4=list(np.add(b_3,l_sl_sa))\n",
    "b_5=list(np.add(b_4,l_sl_sd))\n",
    "plt.bar(x,l_sl_d,w_sl_yn,label='Disagree')\n",
    "plt.bar(x,l_sl_n,w_sl_yn,bottom=l_sl_d,label='Neutral')\n",
    "plt.bar(x,l_sl_sa,w_sl_yn,bottom=b_3,label='Strongly Agree')\n",
    "plt.bar(x,l_sl_sd,w_sl_yn,bottom=b_4,label='Strongly Disagree')\n",
    "plt.bar(x,l_sl_a,w_sl_yn,bottom=b_5,label='Agree')\n",
    "plt.xlabel('Do you meditate')\n",
    "plt.ylabel('Frequency')\n",
    "plt.title('sleep')\n",
    "plt.xticks([1,3],x_axis)\n",
    "plt.legend()\n",
    "plt.show()"
   ]
  },
  {
   "cell_type": "markdown",
   "id": "10a3d7f3",
   "metadata": {},
   "source": [
    "## Fig.7-Forms of Meditation\n",
    "\n",
    "### This graph helps us to understand different forms of meditataive practices practiced by the respondents who have said yes to meditation.\n"
   ]
  },
  {
   "cell_type": "code",
   "execution_count": 72,
   "id": "228379df",
   "metadata": {},
   "outputs": [],
   "source": [
    "df_form=df_yes['m_form'].str.get_dummies(';')"
   ]
  },
  {
   "cell_type": "code",
   "execution_count": 73,
   "id": "1e15ea54",
   "metadata": {},
   "outputs": [
    {
     "data": {
      "text/html": [
       "<div>\n",
       "<style scoped>\n",
       "    .dataframe tbody tr th:only-of-type {\n",
       "        vertical-align: middle;\n",
       "    }\n",
       "\n",
       "    .dataframe tbody tr th {\n",
       "        vertical-align: top;\n",
       "    }\n",
       "\n",
       "    .dataframe thead th {\n",
       "        text-align: right;\n",
       "    }\n",
       "</style>\n",
       "<table border=\"1\" class=\"dataframe\">\n",
       "  <thead>\n",
       "    <tr style=\"text-align: right;\">\n",
       "      <th></th>\n",
       "      <th>Anlom Vilom</th>\n",
       "      <th>Breathwork</th>\n",
       "      <th>Guided</th>\n",
       "      <th>Isha kriya, sadhguru presence, chit shakti</th>\n",
       "      <th>Mindfulness</th>\n",
       "      <th>Pranayama</th>\n",
       "      <th>Shambhavi Mahamudra Kriya</th>\n",
       "      <th>Sudarshan Kriya</th>\n",
       "      <th>Vipasana/Buddhist meditation</th>\n",
       "    </tr>\n",
       "  </thead>\n",
       "  <tbody>\n",
       "    <tr>\n",
       "      <th>0</th>\n",
       "      <td>0</td>\n",
       "      <td>1</td>\n",
       "      <td>0</td>\n",
       "      <td>0</td>\n",
       "      <td>0</td>\n",
       "      <td>0</td>\n",
       "      <td>0</td>\n",
       "      <td>0</td>\n",
       "      <td>0</td>\n",
       "    </tr>\n",
       "    <tr>\n",
       "      <th>1</th>\n",
       "      <td>0</td>\n",
       "      <td>1</td>\n",
       "      <td>0</td>\n",
       "      <td>0</td>\n",
       "      <td>0</td>\n",
       "      <td>0</td>\n",
       "      <td>0</td>\n",
       "      <td>0</td>\n",
       "      <td>0</td>\n",
       "    </tr>\n",
       "    <tr>\n",
       "      <th>2</th>\n",
       "      <td>0</td>\n",
       "      <td>0</td>\n",
       "      <td>0</td>\n",
       "      <td>0</td>\n",
       "      <td>0</td>\n",
       "      <td>1</td>\n",
       "      <td>0</td>\n",
       "      <td>0</td>\n",
       "      <td>0</td>\n",
       "    </tr>\n",
       "    <tr>\n",
       "      <th>5</th>\n",
       "      <td>0</td>\n",
       "      <td>1</td>\n",
       "      <td>0</td>\n",
       "      <td>0</td>\n",
       "      <td>0</td>\n",
       "      <td>0</td>\n",
       "      <td>0</td>\n",
       "      <td>0</td>\n",
       "      <td>0</td>\n",
       "    </tr>\n",
       "    <tr>\n",
       "      <th>6</th>\n",
       "      <td>0</td>\n",
       "      <td>1</td>\n",
       "      <td>0</td>\n",
       "      <td>0</td>\n",
       "      <td>0</td>\n",
       "      <td>0</td>\n",
       "      <td>0</td>\n",
       "      <td>0</td>\n",
       "      <td>0</td>\n",
       "    </tr>\n",
       "    <tr>\n",
       "      <th>11</th>\n",
       "      <td>0</td>\n",
       "      <td>1</td>\n",
       "      <td>0</td>\n",
       "      <td>0</td>\n",
       "      <td>0</td>\n",
       "      <td>0</td>\n",
       "      <td>0</td>\n",
       "      <td>0</td>\n",
       "      <td>0</td>\n",
       "    </tr>\n",
       "    <tr>\n",
       "      <th>12</th>\n",
       "      <td>0</td>\n",
       "      <td>1</td>\n",
       "      <td>0</td>\n",
       "      <td>0</td>\n",
       "      <td>0</td>\n",
       "      <td>0</td>\n",
       "      <td>0</td>\n",
       "      <td>0</td>\n",
       "      <td>0</td>\n",
       "    </tr>\n",
       "    <tr>\n",
       "      <th>13</th>\n",
       "      <td>0</td>\n",
       "      <td>0</td>\n",
       "      <td>0</td>\n",
       "      <td>0</td>\n",
       "      <td>0</td>\n",
       "      <td>1</td>\n",
       "      <td>0</td>\n",
       "      <td>0</td>\n",
       "      <td>0</td>\n",
       "    </tr>\n",
       "    <tr>\n",
       "      <th>15</th>\n",
       "      <td>0</td>\n",
       "      <td>0</td>\n",
       "      <td>0</td>\n",
       "      <td>0</td>\n",
       "      <td>0</td>\n",
       "      <td>0</td>\n",
       "      <td>0</td>\n",
       "      <td>1</td>\n",
       "      <td>0</td>\n",
       "    </tr>\n",
       "    <tr>\n",
       "      <th>16</th>\n",
       "      <td>0</td>\n",
       "      <td>1</td>\n",
       "      <td>0</td>\n",
       "      <td>0</td>\n",
       "      <td>0</td>\n",
       "      <td>0</td>\n",
       "      <td>0</td>\n",
       "      <td>0</td>\n",
       "      <td>0</td>\n",
       "    </tr>\n",
       "    <tr>\n",
       "      <th>18</th>\n",
       "      <td>0</td>\n",
       "      <td>0</td>\n",
       "      <td>0</td>\n",
       "      <td>0</td>\n",
       "      <td>0</td>\n",
       "      <td>1</td>\n",
       "      <td>0</td>\n",
       "      <td>0</td>\n",
       "      <td>0</td>\n",
       "    </tr>\n",
       "    <tr>\n",
       "      <th>19</th>\n",
       "      <td>0</td>\n",
       "      <td>1</td>\n",
       "      <td>0</td>\n",
       "      <td>0</td>\n",
       "      <td>0</td>\n",
       "      <td>1</td>\n",
       "      <td>0</td>\n",
       "      <td>0</td>\n",
       "      <td>0</td>\n",
       "    </tr>\n",
       "    <tr>\n",
       "      <th>24</th>\n",
       "      <td>0</td>\n",
       "      <td>1</td>\n",
       "      <td>0</td>\n",
       "      <td>0</td>\n",
       "      <td>0</td>\n",
       "      <td>0</td>\n",
       "      <td>0</td>\n",
       "      <td>0</td>\n",
       "      <td>0</td>\n",
       "    </tr>\n",
       "    <tr>\n",
       "      <th>25</th>\n",
       "      <td>0</td>\n",
       "      <td>0</td>\n",
       "      <td>0</td>\n",
       "      <td>0</td>\n",
       "      <td>0</td>\n",
       "      <td>1</td>\n",
       "      <td>0</td>\n",
       "      <td>0</td>\n",
       "      <td>0</td>\n",
       "    </tr>\n",
       "    <tr>\n",
       "      <th>30</th>\n",
       "      <td>0</td>\n",
       "      <td>1</td>\n",
       "      <td>0</td>\n",
       "      <td>0</td>\n",
       "      <td>0</td>\n",
       "      <td>1</td>\n",
       "      <td>0</td>\n",
       "      <td>0</td>\n",
       "      <td>0</td>\n",
       "    </tr>\n",
       "    <tr>\n",
       "      <th>31</th>\n",
       "      <td>0</td>\n",
       "      <td>0</td>\n",
       "      <td>0</td>\n",
       "      <td>0</td>\n",
       "      <td>0</td>\n",
       "      <td>1</td>\n",
       "      <td>0</td>\n",
       "      <td>0</td>\n",
       "      <td>0</td>\n",
       "    </tr>\n",
       "    <tr>\n",
       "      <th>35</th>\n",
       "      <td>0</td>\n",
       "      <td>1</td>\n",
       "      <td>0</td>\n",
       "      <td>0</td>\n",
       "      <td>0</td>\n",
       "      <td>0</td>\n",
       "      <td>0</td>\n",
       "      <td>0</td>\n",
       "      <td>0</td>\n",
       "    </tr>\n",
       "    <tr>\n",
       "      <th>38</th>\n",
       "      <td>0</td>\n",
       "      <td>1</td>\n",
       "      <td>0</td>\n",
       "      <td>0</td>\n",
       "      <td>0</td>\n",
       "      <td>0</td>\n",
       "      <td>0</td>\n",
       "      <td>0</td>\n",
       "      <td>0</td>\n",
       "    </tr>\n",
       "    <tr>\n",
       "      <th>42</th>\n",
       "      <td>0</td>\n",
       "      <td>1</td>\n",
       "      <td>0</td>\n",
       "      <td>0</td>\n",
       "      <td>0</td>\n",
       "      <td>1</td>\n",
       "      <td>0</td>\n",
       "      <td>0</td>\n",
       "      <td>0</td>\n",
       "    </tr>\n",
       "    <tr>\n",
       "      <th>44</th>\n",
       "      <td>0</td>\n",
       "      <td>1</td>\n",
       "      <td>0</td>\n",
       "      <td>0</td>\n",
       "      <td>0</td>\n",
       "      <td>0</td>\n",
       "      <td>0</td>\n",
       "      <td>0</td>\n",
       "      <td>0</td>\n",
       "    </tr>\n",
       "    <tr>\n",
       "      <th>52</th>\n",
       "      <td>0</td>\n",
       "      <td>1</td>\n",
       "      <td>0</td>\n",
       "      <td>0</td>\n",
       "      <td>0</td>\n",
       "      <td>0</td>\n",
       "      <td>0</td>\n",
       "      <td>0</td>\n",
       "      <td>0</td>\n",
       "    </tr>\n",
       "    <tr>\n",
       "      <th>54</th>\n",
       "      <td>0</td>\n",
       "      <td>0</td>\n",
       "      <td>0</td>\n",
       "      <td>0</td>\n",
       "      <td>0</td>\n",
       "      <td>0</td>\n",
       "      <td>1</td>\n",
       "      <td>0</td>\n",
       "      <td>0</td>\n",
       "    </tr>\n",
       "    <tr>\n",
       "      <th>55</th>\n",
       "      <td>0</td>\n",
       "      <td>0</td>\n",
       "      <td>0</td>\n",
       "      <td>0</td>\n",
       "      <td>0</td>\n",
       "      <td>1</td>\n",
       "      <td>1</td>\n",
       "      <td>0</td>\n",
       "      <td>0</td>\n",
       "    </tr>\n",
       "    <tr>\n",
       "      <th>56</th>\n",
       "      <td>0</td>\n",
       "      <td>1</td>\n",
       "      <td>0</td>\n",
       "      <td>0</td>\n",
       "      <td>0</td>\n",
       "      <td>1</td>\n",
       "      <td>1</td>\n",
       "      <td>0</td>\n",
       "      <td>0</td>\n",
       "    </tr>\n",
       "    <tr>\n",
       "      <th>57</th>\n",
       "      <td>0</td>\n",
       "      <td>1</td>\n",
       "      <td>1</td>\n",
       "      <td>0</td>\n",
       "      <td>0</td>\n",
       "      <td>0</td>\n",
       "      <td>0</td>\n",
       "      <td>0</td>\n",
       "      <td>1</td>\n",
       "    </tr>\n",
       "    <tr>\n",
       "      <th>58</th>\n",
       "      <td>0</td>\n",
       "      <td>0</td>\n",
       "      <td>0</td>\n",
       "      <td>0</td>\n",
       "      <td>0</td>\n",
       "      <td>0</td>\n",
       "      <td>1</td>\n",
       "      <td>0</td>\n",
       "      <td>0</td>\n",
       "    </tr>\n",
       "    <tr>\n",
       "      <th>59</th>\n",
       "      <td>0</td>\n",
       "      <td>1</td>\n",
       "      <td>0</td>\n",
       "      <td>0</td>\n",
       "      <td>0</td>\n",
       "      <td>0</td>\n",
       "      <td>0</td>\n",
       "      <td>0</td>\n",
       "      <td>0</td>\n",
       "    </tr>\n",
       "    <tr>\n",
       "      <th>60</th>\n",
       "      <td>0</td>\n",
       "      <td>0</td>\n",
       "      <td>0</td>\n",
       "      <td>0</td>\n",
       "      <td>1</td>\n",
       "      <td>0</td>\n",
       "      <td>0</td>\n",
       "      <td>0</td>\n",
       "      <td>0</td>\n",
       "    </tr>\n",
       "    <tr>\n",
       "      <th>62</th>\n",
       "      <td>0</td>\n",
       "      <td>1</td>\n",
       "      <td>0</td>\n",
       "      <td>0</td>\n",
       "      <td>0</td>\n",
       "      <td>0</td>\n",
       "      <td>0</td>\n",
       "      <td>0</td>\n",
       "      <td>0</td>\n",
       "    </tr>\n",
       "    <tr>\n",
       "      <th>63</th>\n",
       "      <td>0</td>\n",
       "      <td>1</td>\n",
       "      <td>0</td>\n",
       "      <td>0</td>\n",
       "      <td>0</td>\n",
       "      <td>1</td>\n",
       "      <td>1</td>\n",
       "      <td>0</td>\n",
       "      <td>0</td>\n",
       "    </tr>\n",
       "    <tr>\n",
       "      <th>64</th>\n",
       "      <td>0</td>\n",
       "      <td>0</td>\n",
       "      <td>0</td>\n",
       "      <td>1</td>\n",
       "      <td>0</td>\n",
       "      <td>0</td>\n",
       "      <td>1</td>\n",
       "      <td>0</td>\n",
       "      <td>0</td>\n",
       "    </tr>\n",
       "    <tr>\n",
       "      <th>65</th>\n",
       "      <td>0</td>\n",
       "      <td>1</td>\n",
       "      <td>0</td>\n",
       "      <td>0</td>\n",
       "      <td>0</td>\n",
       "      <td>0</td>\n",
       "      <td>1</td>\n",
       "      <td>0</td>\n",
       "      <td>0</td>\n",
       "    </tr>\n",
       "    <tr>\n",
       "      <th>66</th>\n",
       "      <td>0</td>\n",
       "      <td>1</td>\n",
       "      <td>0</td>\n",
       "      <td>0</td>\n",
       "      <td>0</td>\n",
       "      <td>1</td>\n",
       "      <td>1</td>\n",
       "      <td>0</td>\n",
       "      <td>0</td>\n",
       "    </tr>\n",
       "    <tr>\n",
       "      <th>69</th>\n",
       "      <td>0</td>\n",
       "      <td>0</td>\n",
       "      <td>0</td>\n",
       "      <td>0</td>\n",
       "      <td>0</td>\n",
       "      <td>0</td>\n",
       "      <td>1</td>\n",
       "      <td>0</td>\n",
       "      <td>0</td>\n",
       "    </tr>\n",
       "    <tr>\n",
       "      <th>75</th>\n",
       "      <td>0</td>\n",
       "      <td>1</td>\n",
       "      <td>0</td>\n",
       "      <td>0</td>\n",
       "      <td>0</td>\n",
       "      <td>1</td>\n",
       "      <td>0</td>\n",
       "      <td>0</td>\n",
       "      <td>0</td>\n",
       "    </tr>\n",
       "    <tr>\n",
       "      <th>76</th>\n",
       "      <td>0</td>\n",
       "      <td>0</td>\n",
       "      <td>0</td>\n",
       "      <td>0</td>\n",
       "      <td>0</td>\n",
       "      <td>0</td>\n",
       "      <td>0</td>\n",
       "      <td>0</td>\n",
       "      <td>1</td>\n",
       "    </tr>\n",
       "    <tr>\n",
       "      <th>78</th>\n",
       "      <td>0</td>\n",
       "      <td>0</td>\n",
       "      <td>0</td>\n",
       "      <td>0</td>\n",
       "      <td>0</td>\n",
       "      <td>1</td>\n",
       "      <td>0</td>\n",
       "      <td>1</td>\n",
       "      <td>0</td>\n",
       "    </tr>\n",
       "    <tr>\n",
       "      <th>80</th>\n",
       "      <td>0</td>\n",
       "      <td>1</td>\n",
       "      <td>0</td>\n",
       "      <td>0</td>\n",
       "      <td>0</td>\n",
       "      <td>0</td>\n",
       "      <td>0</td>\n",
       "      <td>0</td>\n",
       "      <td>0</td>\n",
       "    </tr>\n",
       "    <tr>\n",
       "      <th>82</th>\n",
       "      <td>0</td>\n",
       "      <td>1</td>\n",
       "      <td>0</td>\n",
       "      <td>0</td>\n",
       "      <td>0</td>\n",
       "      <td>0</td>\n",
       "      <td>0</td>\n",
       "      <td>0</td>\n",
       "      <td>0</td>\n",
       "    </tr>\n",
       "    <tr>\n",
       "      <th>84</th>\n",
       "      <td>0</td>\n",
       "      <td>1</td>\n",
       "      <td>0</td>\n",
       "      <td>0</td>\n",
       "      <td>0</td>\n",
       "      <td>0</td>\n",
       "      <td>0</td>\n",
       "      <td>0</td>\n",
       "      <td>0</td>\n",
       "    </tr>\n",
       "    <tr>\n",
       "      <th>85</th>\n",
       "      <td>0</td>\n",
       "      <td>1</td>\n",
       "      <td>0</td>\n",
       "      <td>0</td>\n",
       "      <td>0</td>\n",
       "      <td>1</td>\n",
       "      <td>0</td>\n",
       "      <td>0</td>\n",
       "      <td>0</td>\n",
       "    </tr>\n",
       "    <tr>\n",
       "      <th>89</th>\n",
       "      <td>1</td>\n",
       "      <td>1</td>\n",
       "      <td>0</td>\n",
       "      <td>0</td>\n",
       "      <td>0</td>\n",
       "      <td>1</td>\n",
       "      <td>0</td>\n",
       "      <td>0</td>\n",
       "      <td>1</td>\n",
       "    </tr>\n",
       "    <tr>\n",
       "      <th>90</th>\n",
       "      <td>0</td>\n",
       "      <td>1</td>\n",
       "      <td>0</td>\n",
       "      <td>0</td>\n",
       "      <td>0</td>\n",
       "      <td>1</td>\n",
       "      <td>0</td>\n",
       "      <td>0</td>\n",
       "      <td>1</td>\n",
       "    </tr>\n",
       "    <tr>\n",
       "      <th>91</th>\n",
       "      <td>0</td>\n",
       "      <td>1</td>\n",
       "      <td>0</td>\n",
       "      <td>0</td>\n",
       "      <td>0</td>\n",
       "      <td>1</td>\n",
       "      <td>0</td>\n",
       "      <td>0</td>\n",
       "      <td>0</td>\n",
       "    </tr>\n",
       "    <tr>\n",
       "      <th>92</th>\n",
       "      <td>0</td>\n",
       "      <td>0</td>\n",
       "      <td>0</td>\n",
       "      <td>0</td>\n",
       "      <td>0</td>\n",
       "      <td>1</td>\n",
       "      <td>0</td>\n",
       "      <td>0</td>\n",
       "      <td>0</td>\n",
       "    </tr>\n",
       "    <tr>\n",
       "      <th>93</th>\n",
       "      <td>0</td>\n",
       "      <td>1</td>\n",
       "      <td>0</td>\n",
       "      <td>0</td>\n",
       "      <td>0</td>\n",
       "      <td>0</td>\n",
       "      <td>0</td>\n",
       "      <td>0</td>\n",
       "      <td>0</td>\n",
       "    </tr>\n",
       "    <tr>\n",
       "      <th>98</th>\n",
       "      <td>0</td>\n",
       "      <td>0</td>\n",
       "      <td>0</td>\n",
       "      <td>0</td>\n",
       "      <td>0</td>\n",
       "      <td>1</td>\n",
       "      <td>1</td>\n",
       "      <td>0</td>\n",
       "      <td>0</td>\n",
       "    </tr>\n",
       "    <tr>\n",
       "      <th>103</th>\n",
       "      <td>0</td>\n",
       "      <td>1</td>\n",
       "      <td>0</td>\n",
       "      <td>0</td>\n",
       "      <td>0</td>\n",
       "      <td>1</td>\n",
       "      <td>0</td>\n",
       "      <td>0</td>\n",
       "      <td>0</td>\n",
       "    </tr>\n",
       "  </tbody>\n",
       "</table>\n",
       "</div>"
      ],
      "text/plain": [
       "     Anlom Vilom   Breathwork  Guided   \\\n",
       "0               0           1        0   \n",
       "1               0           1        0   \n",
       "2               0           0        0   \n",
       "5               0           1        0   \n",
       "6               0           1        0   \n",
       "11              0           1        0   \n",
       "12              0           1        0   \n",
       "13              0           0        0   \n",
       "15              0           0        0   \n",
       "16              0           1        0   \n",
       "18              0           0        0   \n",
       "19              0           1        0   \n",
       "24              0           1        0   \n",
       "25              0           0        0   \n",
       "30              0           1        0   \n",
       "31              0           0        0   \n",
       "35              0           1        0   \n",
       "38              0           1        0   \n",
       "42              0           1        0   \n",
       "44              0           1        0   \n",
       "52              0           1        0   \n",
       "54              0           0        0   \n",
       "55              0           0        0   \n",
       "56              0           1        0   \n",
       "57              0           1        1   \n",
       "58              0           0        0   \n",
       "59              0           1        0   \n",
       "60              0           0        0   \n",
       "62              0           1        0   \n",
       "63              0           1        0   \n",
       "64              0           0        0   \n",
       "65              0           1        0   \n",
       "66              0           1        0   \n",
       "69              0           0        0   \n",
       "75              0           1        0   \n",
       "76              0           0        0   \n",
       "78              0           0        0   \n",
       "80              0           1        0   \n",
       "82              0           1        0   \n",
       "84              0           1        0   \n",
       "85              0           1        0   \n",
       "89              1           1        0   \n",
       "90              0           1        0   \n",
       "91              0           1        0   \n",
       "92              0           0        0   \n",
       "93              0           1        0   \n",
       "98              0           0        0   \n",
       "103             0           1        0   \n",
       "\n",
       "     Isha kriya, sadhguru presence, chit shakti  Mindfulness   Pranayama  \\\n",
       "0                                             0             0          0   \n",
       "1                                             0             0          0   \n",
       "2                                             0             0          1   \n",
       "5                                             0             0          0   \n",
       "6                                             0             0          0   \n",
       "11                                            0             0          0   \n",
       "12                                            0             0          0   \n",
       "13                                            0             0          1   \n",
       "15                                            0             0          0   \n",
       "16                                            0             0          0   \n",
       "18                                            0             0          1   \n",
       "19                                            0             0          1   \n",
       "24                                            0             0          0   \n",
       "25                                            0             0          1   \n",
       "30                                            0             0          1   \n",
       "31                                            0             0          1   \n",
       "35                                            0             0          0   \n",
       "38                                            0             0          0   \n",
       "42                                            0             0          1   \n",
       "44                                            0             0          0   \n",
       "52                                            0             0          0   \n",
       "54                                            0             0          0   \n",
       "55                                            0             0          1   \n",
       "56                                            0             0          1   \n",
       "57                                            0             0          0   \n",
       "58                                            0             0          0   \n",
       "59                                            0             0          0   \n",
       "60                                            0             1          0   \n",
       "62                                            0             0          0   \n",
       "63                                            0             0          1   \n",
       "64                                            1             0          0   \n",
       "65                                            0             0          0   \n",
       "66                                            0             0          1   \n",
       "69                                            0             0          0   \n",
       "75                                            0             0          1   \n",
       "76                                            0             0          0   \n",
       "78                                            0             0          1   \n",
       "80                                            0             0          0   \n",
       "82                                            0             0          0   \n",
       "84                                            0             0          0   \n",
       "85                                            0             0          1   \n",
       "89                                            0             0          1   \n",
       "90                                            0             0          1   \n",
       "91                                            0             0          1   \n",
       "92                                            0             0          1   \n",
       "93                                            0             0          0   \n",
       "98                                            0             0          1   \n",
       "103                                           0             0          1   \n",
       "\n",
       "     Shambhavi Mahamudra Kriya  Sudarshan Kriya  Vipasana/Buddhist meditation  \n",
       "0                            0                0                             0  \n",
       "1                            0                0                             0  \n",
       "2                            0                0                             0  \n",
       "5                            0                0                             0  \n",
       "6                            0                0                             0  \n",
       "11                           0                0                             0  \n",
       "12                           0                0                             0  \n",
       "13                           0                0                             0  \n",
       "15                           0                1                             0  \n",
       "16                           0                0                             0  \n",
       "18                           0                0                             0  \n",
       "19                           0                0                             0  \n",
       "24                           0                0                             0  \n",
       "25                           0                0                             0  \n",
       "30                           0                0                             0  \n",
       "31                           0                0                             0  \n",
       "35                           0                0                             0  \n",
       "38                           0                0                             0  \n",
       "42                           0                0                             0  \n",
       "44                           0                0                             0  \n",
       "52                           0                0                             0  \n",
       "54                           1                0                             0  \n",
       "55                           1                0                             0  \n",
       "56                           1                0                             0  \n",
       "57                           0                0                             1  \n",
       "58                           1                0                             0  \n",
       "59                           0                0                             0  \n",
       "60                           0                0                             0  \n",
       "62                           0                0                             0  \n",
       "63                           1                0                             0  \n",
       "64                           1                0                             0  \n",
       "65                           1                0                             0  \n",
       "66                           1                0                             0  \n",
       "69                           1                0                             0  \n",
       "75                           0                0                             0  \n",
       "76                           0                0                             1  \n",
       "78                           0                1                             0  \n",
       "80                           0                0                             0  \n",
       "82                           0                0                             0  \n",
       "84                           0                0                             0  \n",
       "85                           0                0                             0  \n",
       "89                           0                0                             1  \n",
       "90                           0                0                             1  \n",
       "91                           0                0                             0  \n",
       "92                           0                0                             0  \n",
       "93                           0                0                             0  \n",
       "98                           1                0                             0  \n",
       "103                          0                0                             0  "
      ]
     },
     "execution_count": 73,
     "metadata": {},
     "output_type": "execute_result"
    }
   ],
   "source": [
    "df_form"
   ]
  },
  {
   "cell_type": "code",
   "execution_count": 74,
   "id": "548fec0e",
   "metadata": {},
   "outputs": [],
   "source": [
    "form_sum=df_form.aggregate(sum)"
   ]
  },
  {
   "cell_type": "code",
   "execution_count": 75,
   "id": "95c535ba",
   "metadata": {},
   "outputs": [
    {
     "data": {
      "text/plain": [
       "Anlom Vilom                                    1\n",
       "Breathwork                                    32\n",
       "Guided                                         1\n",
       "Isha kriya, sadhguru presence, chit shakti     1\n",
       "Mindfulness                                    1\n",
       "Pranayama                                     21\n",
       "Shambhavi Mahamudra Kriya                     10\n",
       "Sudarshan Kriya                                2\n",
       "Vipasana/Buddhist meditation                   4\n",
       "dtype: int64"
      ]
     },
     "execution_count": 75,
     "metadata": {},
     "output_type": "execute_result"
    }
   ],
   "source": [
    "form_sum"
   ]
  },
  {
   "cell_type": "code",
   "execution_count": 76,
   "id": "a3ea6921",
   "metadata": {},
   "outputs": [
    {
     "data": {
      "image/png": "[encoded data removed]",
      "text/plain": [
       "<Figure size 432x288 with 1 Axes>"
      ]
     },
     "metadata": {
      "needs_background": "light"
     },
     "output_type": "display_data"
    }
   ],
   "source": [
    "plt.barh(form_sum.index,form_sum.values)\n",
    "plt.show()"
   ]
  },
  {
   "cell_type": "markdown",
   "id": "d7fde773",
   "metadata": {},
   "source": [
    "## Fig.8.1- Experience in Meditation - Month/Year-wise\n",
    "\n",
    "### This graph summarizes the experience of meditation practitioners. \n"
   ]
  },
  {
   "cell_type": "code",
   "execution_count": 77,
   "id": "4f1aeb9b",
   "metadata": {},
   "outputs": [],
   "source": [
    "# experience in meditation month/year-wise according to age:"
   ]
  },
  {
   "cell_type": "code",
   "execution_count": 78,
   "id": "d8e23e81",
   "metadata": {},
   "outputs": [
    {
     "data": {
      "text/plain": [
       "array(['<3 mon', '>1 year', '>3 mon and <6 mon', '>6 mon and <1 year'],\n",
       "      dtype=object)"
      ]
     },
     "execution_count": 78,
     "metadata": {},
     "output_type": "execute_result"
    }
   ],
   "source": [
    "df_yes['m_when'].unique()"
   ]
  },
  {
   "cell_type": "code",
   "execution_count": 79,
   "id": "f646254c",
   "metadata": {},
   "outputs": [
    {
     "name": "stdout",
     "output_type": "stream",
     "text": [
      "                 m_when  18-25  25-35  35-50  <18\n",
      "0                <3 mon      0      0      0    1\n",
      "1                <3 mon      1      0      0    0\n",
      "2               >1 year      1      0      0    0\n",
      "5                <3 mon      1      0      0    0\n",
      "6               >1 year      1      0      0    0\n",
      "11              >1 year      0      1      0    0\n",
      "12    >3 mon and <6 mon      1      0      0    0\n",
      "13    >3 mon and <6 mon      0      1      0    0\n",
      "15              >1 year      1      0      0    0\n",
      "16               <3 mon      0      1      0    0\n",
      "18               <3 mon      1      0      0    0\n",
      "19              >1 year      1      0      0    0\n",
      "24              >1 year      1      0      0    0\n",
      "25               <3 mon      0      1      0    0\n",
      "30              >1 year      1      0      0    0\n",
      "31              >1 year      1      0      0    0\n",
      "35               <3 mon      1      0      0    0\n",
      "38              >1 year      1      0      0    0\n",
      "42    >3 mon and <6 mon      1      0      0    0\n",
      "44               <3 mon      1      0      0    0\n",
      "52               <3 mon      1      0      0    0\n",
      "54              >1 year      1      0      0    0\n",
      "55              >1 year      0      1      0    0\n",
      "56              >1 year      0      0      1    0\n",
      "57              >1 year      0      1      0    0\n",
      "58              >1 year      0      1      0    0\n",
      "59              >1 year      1      0      0    0\n",
      "60              >1 year      1      0      0    0\n",
      "62   >6 mon and <1 year      0      1      0    0\n",
      "63              >1 year      0      1      0    0\n",
      "64               <3 mon      1      0      0    0\n",
      "65   >6 mon and <1 year      0      1      0    0\n",
      "66              >1 year      0      1      0    0\n",
      "69              >1 year      0      1      0    0\n",
      "75              >1 year      0      0      1    0\n",
      "76              >1 year      1      0      0    0\n",
      "78              >1 year      0      0      1    0\n",
      "80   >6 mon and <1 year      1      0      0    0\n",
      "82              >1 year      1      0      0    0\n",
      "84    >3 mon and <6 mon      0      1      0    0\n",
      "85              >1 year      0      0      1    0\n",
      "89              >1 year      0      1      0    0\n",
      "90              >1 year      0      1      0    0\n",
      "91               <3 mon      0      1      0    0\n",
      "92               <3 mon      0      1      0    0\n",
      "93               <3 mon      0      1      0    0\n",
      "98              >1 year      0      0      1    0\n",
      "103  >6 mon and <1 year      1      0      0    0\n"
     ]
    },
    {
     "data": {
      "text/html": [
       "<div>\n",
       "<style scoped>\n",
       "    .dataframe tbody tr th:only-of-type {\n",
       "        vertical-align: middle;\n",
       "    }\n",
       "\n",
       "    .dataframe tbody tr th {\n",
       "        vertical-align: top;\n",
       "    }\n",
       "\n",
       "    .dataframe thead th {\n",
       "        text-align: right;\n",
       "    }\n",
       "</style>\n",
       "<table border=\"1\" class=\"dataframe\">\n",
       "  <thead>\n",
       "    <tr style=\"text-align: right;\">\n",
       "      <th></th>\n",
       "      <th>18-25</th>\n",
       "      <th>25-35</th>\n",
       "      <th>35-50</th>\n",
       "      <th>&lt;18</th>\n",
       "    </tr>\n",
       "    <tr>\n",
       "      <th>m_when</th>\n",
       "      <th></th>\n",
       "      <th></th>\n",
       "      <th></th>\n",
       "      <th></th>\n",
       "    </tr>\n",
       "  </thead>\n",
       "  <tbody>\n",
       "    <tr>\n",
       "      <th>&lt;3 mon</th>\n",
       "      <td>7</td>\n",
       "      <td>5</td>\n",
       "      <td>0</td>\n",
       "      <td>1</td>\n",
       "    </tr>\n",
       "    <tr>\n",
       "      <th>&gt;1 year</th>\n",
       "      <td>13</td>\n",
       "      <td>9</td>\n",
       "      <td>5</td>\n",
       "      <td>0</td>\n",
       "    </tr>\n",
       "    <tr>\n",
       "      <th>&gt;3 mon and &lt;6 mon</th>\n",
       "      <td>2</td>\n",
       "      <td>2</td>\n",
       "      <td>0</td>\n",
       "      <td>0</td>\n",
       "    </tr>\n",
       "    <tr>\n",
       "      <th>&gt;6 mon and &lt;1 year</th>\n",
       "      <td>2</td>\n",
       "      <td>2</td>\n",
       "      <td>0</td>\n",
       "      <td>0</td>\n",
       "    </tr>\n",
       "  </tbody>\n",
       "</table>\n",
       "</div>"
      ],
      "text/plain": [
       "                    18-25  25-35  35-50  <18\n",
       "m_when                                      \n",
       "<3 mon                  7      5      0    1\n",
       ">1 year                13      9      5    0\n",
       ">3 mon and <6 mon       2      2      0    0\n",
       ">6 mon and <1 year      2      2      0    0"
      ]
     },
     "execution_count": 79,
     "metadata": {},
     "output_type": "execute_result"
    }
   ],
   "source": [
    "df_exp = pd.concat([df_yes.m_when, df_yes.age.str.get_dummies()], axis = 1); print(df_exp)\n",
    "count_mon_age = df_exp.groupby(\"m_when\").aggregate(sum); count_mon_age"
   ]
  },
  {
   "cell_type": "code",
   "execution_count": 80,
   "id": "956ea417",
   "metadata": {},
   "outputs": [
    {
     "data": {
      "text/html": [
       "<div>\n",
       "<style scoped>\n",
       "    .dataframe tbody tr th:only-of-type {\n",
       "        vertical-align: middle;\n",
       "    }\n",
       "\n",
       "    .dataframe tbody tr th {\n",
       "        vertical-align: top;\n",
       "    }\n",
       "\n",
       "    .dataframe thead th {\n",
       "        text-align: right;\n",
       "    }\n",
       "</style>\n",
       "<table border=\"1\" class=\"dataframe\">\n",
       "  <thead>\n",
       "    <tr style=\"text-align: right;\">\n",
       "      <th></th>\n",
       "      <th>18-25</th>\n",
       "      <th>25-35</th>\n",
       "      <th>35-50</th>\n",
       "      <th>&lt;18</th>\n",
       "    </tr>\n",
       "  </thead>\n",
       "  <tbody>\n",
       "    <tr>\n",
       "      <th>0</th>\n",
       "      <td>7</td>\n",
       "      <td>5</td>\n",
       "      <td>0</td>\n",
       "      <td>1</td>\n",
       "    </tr>\n",
       "    <tr>\n",
       "      <th>1</th>\n",
       "      <td>13</td>\n",
       "      <td>9</td>\n",
       "      <td>5</td>\n",
       "      <td>0</td>\n",
       "    </tr>\n",
       "    <tr>\n",
       "      <th>2</th>\n",
       "      <td>2</td>\n",
       "      <td>2</td>\n",
       "      <td>0</td>\n",
       "      <td>0</td>\n",
       "    </tr>\n",
       "    <tr>\n",
       "      <th>3</th>\n",
       "      <td>2</td>\n",
       "      <td>2</td>\n",
       "      <td>0</td>\n",
       "      <td>0</td>\n",
       "    </tr>\n",
       "  </tbody>\n",
       "</table>\n",
       "</div>"
      ],
      "text/plain": [
       "   18-25  25-35  35-50  <18\n",
       "0      7      5      0    1\n",
       "1     13      9      5    0\n",
       "2      2      2      0    0\n",
       "3      2      2      0    0"
      ]
     },
     "execution_count": 80,
     "metadata": {},
     "output_type": "execute_result"
    }
   ],
   "source": [
    "count_mon_age.index=list(range(count_mon_age.shape[0]))\n",
    "count_mon_age"
   ]
  },
  {
   "cell_type": "code",
   "execution_count": 81,
   "id": "6e9ae45a",
   "metadata": {},
   "outputs": [
    {
     "name": "stdout",
     "output_type": "stream",
     "text": [
      "[7, 13, 2, 2]\n",
      "[5, 9, 2, 2]\n",
      "[0, 5, 0, 0]\n",
      "[1, 0, 0, 0]\n"
     ]
    }
   ],
   "source": [
    "l_exp1=list(count_mon_age['18-25']);print(l_exp1)\n",
    "l_exp2=list(count_mon_age['25-35']);print(l_exp2)\n",
    "l_exp3=list(count_mon_age['35-50']);print(l_exp3)\n",
    "l_exp4=list(count_mon_age['<18']);print(l_exp4)"
   ]
  },
  {
   "cell_type": "code",
   "execution_count": 82,
   "id": "327bbbf7",
   "metadata": {},
   "outputs": [
    {
     "data": {
      "image/png": "[encoded data removed]",
      "text/plain": [
       "<Figure size 432x288 with 1 Axes>"
      ]
     },
     "metadata": {
      "needs_background": "light"
     },
     "output_type": "display_data"
    }
   ],
   "source": [
    "w_exp_mon=0.1\n",
    "bar_exp_1=np.arange(len(df_yes['m_when'].unique()))\n",
    "bar_exp_2=[i+w_exp_mon for i in bar_exp_1]\n",
    "bar_exp_3=[i+w_exp_mon for i in bar_exp_2]\n",
    "bar_exp_4=[i+w_exp_mon for i in bar_exp_3]\n",
    "plt.barh(bar_exp_1,l_exp1,w_exp_mon,label='18-25')\n",
    "plt.barh(bar_exp_2,l_exp2,w_exp_mon,label='25-35')\n",
    "plt.barh(bar_exp_3,l_exp3,w_exp_mon,label='35-50')\n",
    "plt.barh(bar_exp_4,l_exp4,w_exp_mon,label='<18')\n",
    "plt.xlabel('Frequency')\n",
    "plt.ylabel('Experience of meditation of practitioners')\n",
    "#plt.title('Age w.r.t responeses')\n",
    "plt.yticks(bar_exp_1,df_yes['m_when'].unique())\n",
    "plt.legend()\n",
    "plt.show()"
   ]
  },
  {
   "cell_type": "markdown",
   "id": "b5144403",
   "metadata": {},
   "source": [
    "## Fig.8.2-Experience in Meditation - Weekwise\n",
    "\n",
    "### This graph summarizes how frequently the respondents practice meditaion in a week.\n"
   ]
  },
  {
   "cell_type": "code",
   "execution_count": 83,
   "id": "27b5f90f",
   "metadata": {},
   "outputs": [
    {
     "data": {
      "text/plain": [
       "array(['Daily', 'Once a week', '2-3 days a week', '4-5 days a week'],\n",
       "      dtype=object)"
      ]
     },
     "execution_count": 83,
     "metadata": {},
     "output_type": "execute_result"
    }
   ],
   "source": [
    "df_yes[\"m_often\"].unique()"
   ]
  },
  {
   "cell_type": "code",
   "execution_count": 84,
   "id": "8cdf1345",
   "metadata": {},
   "outputs": [
    {
     "name": "stdout",
     "output_type": "stream",
     "text": [
      "             m_often  18-25  25-35  35-50  <18\n",
      "0              Daily      0      0      0    1\n",
      "1        Once a week      1      0      0    0\n",
      "2              Daily      1      0      0    0\n",
      "5        Once a week      1      0      0    0\n",
      "6    2-3 days a week      1      0      0    0\n",
      "11             Daily      0      1      0    0\n",
      "12       Once a week      1      0      0    0\n",
      "13   4-5 days a week      0      1      0    0\n",
      "15   4-5 days a week      1      0      0    0\n",
      "16       Once a week      0      1      0    0\n",
      "18   4-5 days a week      1      0      0    0\n",
      "19   2-3 days a week      1      0      0    0\n",
      "24   4-5 days a week      1      0      0    0\n",
      "25       Once a week      0      1      0    0\n",
      "30       Once a week      1      0      0    0\n",
      "31   2-3 days a week      1      0      0    0\n",
      "35   2-3 days a week      1      0      0    0\n",
      "38       Once a week      1      0      0    0\n",
      "42       Once a week      1      0      0    0\n",
      "44   2-3 days a week      1      0      0    0\n",
      "52       Once a week      1      0      0    0\n",
      "54             Daily      1      0      0    0\n",
      "55             Daily      0      1      0    0\n",
      "56             Daily      0      0      1    0\n",
      "57   2-3 days a week      0      1      0    0\n",
      "58             Daily      0      1      0    0\n",
      "59       Once a week      1      0      0    0\n",
      "60   4-5 days a week      1      0      0    0\n",
      "62             Daily      0      1      0    0\n",
      "63             Daily      0      1      0    0\n",
      "64             Daily      1      0      0    0\n",
      "65   4-5 days a week      0      1      0    0\n",
      "66             Daily      0      1      0    0\n",
      "69             Daily      0      1      0    0\n",
      "75             Daily      0      0      1    0\n",
      "76   2-3 days a week      1      0      0    0\n",
      "78   2-3 days a week      0      0      1    0\n",
      "80   2-3 days a week      1      0      0    0\n",
      "82   2-3 days a week      1      0      0    0\n",
      "84   2-3 days a week      0      1      0    0\n",
      "85             Daily      0      0      1    0\n",
      "89   2-3 days a week      0      1      0    0\n",
      "90       Once a week      0      1      0    0\n",
      "91             Daily      0      1      0    0\n",
      "92   4-5 days a week      0      1      0    0\n",
      "93   2-3 days a week      0      1      0    0\n",
      "98             Daily      0      0      1    0\n",
      "103  2-3 days a week      1      0      0    0\n"
     ]
    },
    {
     "data": {
      "text/html": [
       "<div>\n",
       "<style scoped>\n",
       "    .dataframe tbody tr th:only-of-type {\n",
       "        vertical-align: middle;\n",
       "    }\n",
       "\n",
       "    .dataframe tbody tr th {\n",
       "        vertical-align: top;\n",
       "    }\n",
       "\n",
       "    .dataframe thead th {\n",
       "        text-align: right;\n",
       "    }\n",
       "</style>\n",
       "<table border=\"1\" class=\"dataframe\">\n",
       "  <thead>\n",
       "    <tr style=\"text-align: right;\">\n",
       "      <th></th>\n",
       "      <th>18-25</th>\n",
       "      <th>25-35</th>\n",
       "      <th>35-50</th>\n",
       "      <th>&lt;18</th>\n",
       "    </tr>\n",
       "    <tr>\n",
       "      <th>m_often</th>\n",
       "      <th></th>\n",
       "      <th></th>\n",
       "      <th></th>\n",
       "      <th></th>\n",
       "    </tr>\n",
       "  </thead>\n",
       "  <tbody>\n",
       "    <tr>\n",
       "      <th>2-3 days a week</th>\n",
       "      <td>9</td>\n",
       "      <td>4</td>\n",
       "      <td>1</td>\n",
       "      <td>0</td>\n",
       "    </tr>\n",
       "    <tr>\n",
       "      <th>4-5 days a week</th>\n",
       "      <td>4</td>\n",
       "      <td>3</td>\n",
       "      <td>0</td>\n",
       "      <td>0</td>\n",
       "    </tr>\n",
       "    <tr>\n",
       "      <th>Daily</th>\n",
       "      <td>3</td>\n",
       "      <td>8</td>\n",
       "      <td>4</td>\n",
       "      <td>1</td>\n",
       "    </tr>\n",
       "    <tr>\n",
       "      <th>Once a week</th>\n",
       "      <td>8</td>\n",
       "      <td>3</td>\n",
       "      <td>0</td>\n",
       "      <td>0</td>\n",
       "    </tr>\n",
       "  </tbody>\n",
       "</table>\n",
       "</div>"
      ],
      "text/plain": [
       "                 18-25  25-35  35-50  <18\n",
       "m_often                                  \n",
       "2-3 days a week      9      4      1    0\n",
       "4-5 days a week      4      3      0    0\n",
       "Daily                3      8      4    1\n",
       "Once a week          8      3      0    0"
      ]
     },
     "execution_count": 84,
     "metadata": {},
     "output_type": "execute_result"
    }
   ],
   "source": [
    "df_week = pd.concat([df_yes.m_often, df_yes.age.str.get_dummies()], axis = 1); print(df_week)\n",
    "count_week_age = df_week.groupby(\"m_often\").aggregate(sum); count_week_age"
   ]
  },
  {
   "cell_type": "code",
   "execution_count": 85,
   "id": "bd06d713",
   "metadata": {},
   "outputs": [],
   "source": [
    "#count_week_age\n",
    "l_week_1=list(count_week_age['18-25'])\n",
    "l_week_2=list(count_week_age['25-35'])\n",
    "l_week_3=list(count_week_age['35-50'])\n",
    "l_week_4=list(count_week_age['<18'])"
   ]
  },
  {
   "cell_type": "code",
   "execution_count": 86,
   "id": "f898147f",
   "metadata": {},
   "outputs": [
    {
     "data": {
      "image/png": "[encoded data removed]",
      "text/plain": [
       "<Figure size 432x288 with 1 Axes>"
      ]
     },
     "metadata": {
      "needs_background": "light"
     },
     "output_type": "display_data"
    }
   ],
   "source": [
    "#plt.barh(df_week,df_week_sum)\n",
    "w_exp_age=0.1\n",
    "bar_week_1=np.arange(len(df_yes['m_often'].unique()))\n",
    "bar_week_2=[i+w_exp_age for i in bar_week_1]\n",
    "bar_week_3=[i+w_exp_age for i in bar_week_2]\n",
    "bar_week_4=[i+w_exp_age for i in bar_week_3]\n",
    "plt.bar(bar_week_1,l_week_1,w_exp_age,label='18-25')\n",
    "plt.bar(bar_week_2,l_week_2,w_exp_age,label='25-35')\n",
    "plt.bar(bar_week_3,l_week_3,w_exp_age,label='35-50')\n",
    "plt.bar(bar_week_4,l_week_4,w_exp_age,label='<18')\n",
    "plt.xlabel('How often do you meditate in a week')\n",
    "plt.ylabel('Frequency')\n",
    "plt.title('Age distribution for practitioners in a week')\n",
    "plt.xticks(bar_week_1+(w_exp_age*3/2),df_yes['m_often'].unique())\n",
    "plt.legend()\n",
    "plt.show()"
   ]
  },
  {
   "cell_type": "markdown",
   "id": "0fa9b1e0",
   "metadata": {},
   "source": [
    "## Fig.8.3-Experience in Meditation - Duration Wise\n",
    "\n",
    "### This graph helps us to understand the duration of their meditative practice as in how long the meditative practice usually lasts.\n"
   ]
  },
  {
   "cell_type": "code",
   "execution_count": 87,
   "id": "ddc8707b",
   "metadata": {},
   "outputs": [
    {
     "data": {
      "text/plain": [
       "array(['Less than 15 minutes',\n",
       "       'More than 15 minutes but less than 30 minutes',\n",
       "       'More than 30 minutes but less than 45 minutes',\n",
       "       'More than 1 hour'], dtype=object)"
      ]
     },
     "execution_count": 87,
     "metadata": {},
     "output_type": "execute_result"
    }
   ],
   "source": [
    "df_yes['m_duration'].unique()"
   ]
  },
  {
   "cell_type": "code",
   "execution_count": 88,
   "id": "2bc65adf",
   "metadata": {},
   "outputs": [
    {
     "name": "stdout",
     "output_type": "stream",
     "text": [
      "                                        m_duration  18-25  25-35  35-50  <18\n",
      "0                             Less than 15 minutes      0      0      0    1\n",
      "1                             Less than 15 minutes      1      0      0    0\n",
      "2                             Less than 15 minutes      1      0      0    0\n",
      "5                             Less than 15 minutes      1      0      0    0\n",
      "6    More than 15 minutes but less than 30 minutes      1      0      0    0\n",
      "11                            Less than 15 minutes      0      1      0    0\n",
      "12                            Less than 15 minutes      1      0      0    0\n",
      "13   More than 15 minutes but less than 30 minutes      0      1      0    0\n",
      "15   More than 15 minutes but less than 30 minutes      1      0      0    0\n",
      "16                            Less than 15 minutes      0      1      0    0\n",
      "18   More than 15 minutes but less than 30 minutes      1      0      0    0\n",
      "19                            Less than 15 minutes      1      0      0    0\n",
      "24                            Less than 15 minutes      1      0      0    0\n",
      "25                            Less than 15 minutes      0      1      0    0\n",
      "30                            Less than 15 minutes      1      0      0    0\n",
      "31   More than 30 minutes but less than 45 minutes      1      0      0    0\n",
      "35                            Less than 15 minutes      1      0      0    0\n",
      "38   More than 15 minutes but less than 30 minutes      1      0      0    0\n",
      "42   More than 15 minutes but less than 30 minutes      1      0      0    0\n",
      "44                            Less than 15 minutes      1      0      0    0\n",
      "52                            Less than 15 minutes      1      0      0    0\n",
      "54   More than 15 minutes but less than 30 minutes      1      0      0    0\n",
      "55   More than 30 minutes but less than 45 minutes      0      1      0    0\n",
      "56   More than 30 minutes but less than 45 minutes      0      0      1    0\n",
      "57   More than 15 minutes but less than 30 minutes      0      1      0    0\n",
      "58                                More than 1 hour      0      1      0    0\n",
      "59                            Less than 15 minutes      1      0      0    0\n",
      "60                                More than 1 hour      1      0      0    0\n",
      "62   More than 15 minutes but less than 30 minutes      0      1      0    0\n",
      "63                                More than 1 hour      0      1      0    0\n",
      "64                                More than 1 hour      1      0      0    0\n",
      "65   More than 30 minutes but less than 45 minutes      0      1      0    0\n",
      "66   More than 30 minutes but less than 45 minutes      0      1      0    0\n",
      "69                                More than 1 hour      0      1      0    0\n",
      "75   More than 15 minutes but less than 30 minutes      0      0      1    0\n",
      "76   More than 30 minutes but less than 45 minutes      1      0      0    0\n",
      "78   More than 30 minutes but less than 45 minutes      0      0      1    0\n",
      "80                            Less than 15 minutes      1      0      0    0\n",
      "82                            Less than 15 minutes      1      0      0    0\n",
      "84                            Less than 15 minutes      0      1      0    0\n",
      "85   More than 15 minutes but less than 30 minutes      0      0      1    0\n",
      "89   More than 15 minutes but less than 30 minutes      0      1      0    0\n",
      "90                            Less than 15 minutes      0      1      0    0\n",
      "91                            Less than 15 minutes      0      1      0    0\n",
      "92                            Less than 15 minutes      0      1      0    0\n",
      "93                            Less than 15 minutes      0      1      0    0\n",
      "98   More than 15 minutes but less than 30 minutes      0      0      1    0\n",
      "103                           Less than 15 minutes      1      0      0    0\n"
     ]
    },
    {
     "data": {
      "text/html": [
       "<div>\n",
       "<style scoped>\n",
       "    .dataframe tbody tr th:only-of-type {\n",
       "        vertical-align: middle;\n",
       "    }\n",
       "\n",
       "    .dataframe tbody tr th {\n",
       "        vertical-align: top;\n",
       "    }\n",
       "\n",
       "    .dataframe thead th {\n",
       "        text-align: right;\n",
       "    }\n",
       "</style>\n",
       "<table border=\"1\" class=\"dataframe\">\n",
       "  <thead>\n",
       "    <tr style=\"text-align: right;\">\n",
       "      <th></th>\n",
       "      <th>18-25</th>\n",
       "      <th>25-35</th>\n",
       "      <th>35-50</th>\n",
       "      <th>&lt;18</th>\n",
       "    </tr>\n",
       "    <tr>\n",
       "      <th>m_duration</th>\n",
       "      <th></th>\n",
       "      <th></th>\n",
       "      <th></th>\n",
       "      <th></th>\n",
       "    </tr>\n",
       "  </thead>\n",
       "  <tbody>\n",
       "    <tr>\n",
       "      <th>Less than 15 minutes</th>\n",
       "      <td>14</td>\n",
       "      <td>8</td>\n",
       "      <td>0</td>\n",
       "      <td>1</td>\n",
       "    </tr>\n",
       "    <tr>\n",
       "      <th>More than 1 hour</th>\n",
       "      <td>2</td>\n",
       "      <td>3</td>\n",
       "      <td>0</td>\n",
       "      <td>0</td>\n",
       "    </tr>\n",
       "    <tr>\n",
       "      <th>More than 15 minutes but less than 30 minutes</th>\n",
       "      <td>6</td>\n",
       "      <td>4</td>\n",
       "      <td>3</td>\n",
       "      <td>0</td>\n",
       "    </tr>\n",
       "    <tr>\n",
       "      <th>More than 30 minutes but less than 45 minutes</th>\n",
       "      <td>2</td>\n",
       "      <td>3</td>\n",
       "      <td>2</td>\n",
       "      <td>0</td>\n",
       "    </tr>\n",
       "  </tbody>\n",
       "</table>\n",
       "</div>"
      ],
      "text/plain": [
       "                                               18-25  25-35  35-50  <18\n",
       "m_duration                                                             \n",
       "Less than 15 minutes                              14      8      0    1\n",
       "More than 1 hour                                   2      3      0    0\n",
       "More than 15 minutes but less than 30 minutes      6      4      3    0\n",
       "More than 30 minutes but less than 45 minutes      2      3      2    0"
      ]
     },
     "execution_count": 88,
     "metadata": {},
     "output_type": "execute_result"
    }
   ],
   "source": [
    "df_duration = pd.concat([df_yes.m_duration, df_yes.age.str.get_dummies()], axis = 1); print(df_duration)\n",
    "count_duration_age = df_duration.groupby(\"m_duration\").aggregate(sum); count_duration_age"
   ]
  },
  {
   "cell_type": "code",
   "execution_count": 89,
   "id": "fb573462",
   "metadata": {},
   "outputs": [],
   "source": [
    "#plt.barh(df_duration,df_duration_sum)\n",
    "l_duration_1=list(count_duration_age['18-25'])\n",
    "l_duration_2=list(count_duration_age['25-35'])\n",
    "l_duration_3=list(count_duration_age['35-50'])\n",
    "l_duration_4=list(count_duration_age['<18'])"
   ]
  },
  {
   "cell_type": "code",
   "execution_count": 90,
   "id": "828b9186",
   "metadata": {},
   "outputs": [
    {
     "data": {
      "image/png": "[encoded data removed]",
      "text/plain": [
       "<Figure size 432x288 with 1 Axes>"
      ]
     },
     "metadata": {
      "needs_background": "light"
     },
     "output_type": "display_data"
    }
   ],
   "source": [
    "w_duration_age=0.1\n",
    "bar_duration_1=np.arange(len(df_yes['m_duration'].unique()))\n",
    "bar_duration_2=[i+w_exp_age for i in bar_week_1]\n",
    "bar_duration_3=[i+w_exp_age for i in bar_week_2]\n",
    "bar_duration_4=[i+w_exp_age for i in bar_week_3]\n",
    "plt.barh(bar_duration_1,l_duration_1,w_duration_age,label='18-25')\n",
    "plt.barh(bar_duration_2,l_duration_2,w_duration_age,label='25-35')\n",
    "plt.barh(bar_duration_3,l_duration_3,w_duration_age,label='35-50')\n",
    "plt.barh(bar_duration_4,l_duration_4,w_duration_age,label='<18')\n",
    "plt.xlabel('Frequency')\n",
    "plt.ylabel('Duration of time for meditation per day')\n",
    "plt.title('Duration of meditation according to age')\n",
    "plt.yticks(bar_duration_1,df_yes['m_duration'].unique())\n",
    "plt.legend()\n",
    "plt.show()"
   ]
  },
  {
   "cell_type": "markdown",
   "id": "3cd53c69",
   "metadata": {},
   "source": [
    "## Fig.9-Most Affected Well-being Factors\n",
    "\n",
    "### This graph helps us to understand, out of the 11 well being factors taken in our study, which ones are the most severe (being reported by most respondents).\n"
   ]
  },
  {
   "cell_type": "code",
   "execution_count": 91,
   "id": "af6a0040",
   "metadata": {},
   "outputs": [],
   "source": [
    "st_f=df_no.loc[(df_no['stress']=='Strongly Agree') | (df_no['stress']=='agree')].shape[0]"
   ]
  },
  {
   "cell_type": "code",
   "execution_count": 92,
   "id": "0ef53f24",
   "metadata": {},
   "outputs": [],
   "source": [
    "an_f=df_no.loc[(df_no['anger']=='Disagree') | (df_no['anger']=='Strongly Disagree')].shape[0]"
   ]
  },
  {
   "cell_type": "code",
   "execution_count": 93,
   "id": "f1955d2d",
   "metadata": {},
   "outputs": [],
   "source": [
    "em_f=df_no.loc[(df_no['emotions']=='Disagree') | (df_no['emotions']=='Strongly Disagree')].shape[0]"
   ]
  },
  {
   "cell_type": "code",
   "execution_count": 94,
   "id": "09bdcdf7",
   "metadata": {},
   "outputs": [],
   "source": [
    "ca_f=df_no.loc[(df_no['calm']=='Disagree') | (df_no['calm']=='Strongly Disagree')].shape[0]"
   ]
  },
  {
   "cell_type": "code",
   "execution_count": 95,
   "id": "0f337e6a",
   "metadata": {},
   "outputs": [],
   "source": [
    "co_f=df_no.loc[(df_no['confidence']=='Disagree') | (df_no['confidence']=='Strongly Disagree')].shape[0]"
   ]
  },
  {
   "cell_type": "code",
   "execution_count": 96,
   "id": "ee81f3a8",
   "metadata": {},
   "outputs": [
    {
     "data": {
      "text/plain": [
       "17"
      ]
     },
     "execution_count": 96,
     "metadata": {},
     "output_type": "execute_result"
    }
   ],
   "source": [
    "h_f=df_no.loc[(df_no['health']=='Disagree') | (df_no['health']=='Strongly Disagree')].shape[0];h_f"
   ]
  },
  {
   "cell_type": "code",
   "execution_count": 97,
   "id": "d47ca319",
   "metadata": {},
   "outputs": [
    {
     "data": {
      "text/plain": [
       "13"
      ]
     },
     "execution_count": 97,
     "metadata": {},
     "output_type": "execute_result"
    }
   ],
   "source": [
    "cl_f=df_no.loc[(df_no['clarity']=='Disagree') | (df_no['clarity']=='Strongly Disagree')].shape[0];cl_f"
   ]
  },
  {
   "cell_type": "code",
   "execution_count": 98,
   "id": "30be39cf",
   "metadata": {},
   "outputs": [
    {
     "data": {
      "text/plain": [
       "7"
      ]
     },
     "execution_count": 98,
     "metadata": {},
     "output_type": "execute_result"
    }
   ],
   "source": [
    "en_f=df_no.loc[(df_no['energy']=='Disagree') | (df_no['energy']=='Strongly Disagree')].shape[0];en_f"
   ]
  },
  {
   "cell_type": "code",
   "execution_count": 99,
   "id": "0745b16e",
   "metadata": {},
   "outputs": [
    {
     "data": {
      "text/plain": [
       "9"
      ]
     },
     "execution_count": 99,
     "metadata": {},
     "output_type": "execute_result"
    }
   ],
   "source": [
    "mo_f=df_no.loc[(df_no['motivation']=='Disagree') | (df_no['motivation']=='Strongly Disagree')].shape[0];mo_f"
   ]
  },
  {
   "cell_type": "code",
   "execution_count": 100,
   "id": "c3005bcd",
   "metadata": {},
   "outputs": [
    {
     "data": {
      "text/plain": [
       "10"
      ]
     },
     "execution_count": 100,
     "metadata": {},
     "output_type": "execute_result"
    }
   ],
   "source": [
    "fo_f=df_no.loc[(df_no['focus']=='Disagree') | (df_no['focus']=='Strongly Disagree')].shape[0];fo_f"
   ]
  },
  {
   "cell_type": "code",
   "execution_count": 101,
   "id": "50df742c",
   "metadata": {},
   "outputs": [
    {
     "data": {
      "text/plain": [
       "17"
      ]
     },
     "execution_count": 101,
     "metadata": {},
     "output_type": "execute_result"
    }
   ],
   "source": [
    "sl_f=df_no.loc[(df_no['sleep']=='Disagree') | (df_no['sleep']=='Strongly Disagree')].shape[0];sl_f"
   ]
  },
  {
   "cell_type": "code",
   "execution_count": 102,
   "id": "6f98f02f",
   "metadata": {},
   "outputs": [],
   "source": [
    "f_l_aff=[st_f,an_f,em_f,ca_f,co_f,h_f,cl_f,en_f,mo_f,fo_f,sl_f]"
   ]
  },
  {
   "cell_type": "code",
   "execution_count": 103,
   "id": "6d21b6c2",
   "metadata": {},
   "outputs": [
    {
     "data": {
      "text/plain": [
       "[24, 11, 13, 9, 11, 17, 13, 7, 9, 10, 17]"
      ]
     },
     "execution_count": 103,
     "metadata": {},
     "output_type": "execute_result"
    }
   ],
   "source": [
    "f_l_aff"
   ]
  },
  {
   "cell_type": "code",
   "execution_count": 104,
   "id": "07bd2221",
   "metadata": {},
   "outputs": [],
   "source": [
    "x_l_aff=['stress', 'anger', 'emotions', 'calm', 'confidence', 'health',\n",
    "       'clarity', 'energy', 'motivation', 'focus', 'sleep']"
   ]
  },
  {
   "cell_type": "code",
   "execution_count": 105,
   "id": "7c628bc2",
   "metadata": {},
   "outputs": [
    {
     "data": {
      "image/png": "[encoded data removed]",
      "text/plain": [
       "<Figure size 432x288 with 1 Axes>"
      ]
     },
     "metadata": {
      "needs_background": "light"
     },
     "output_type": "display_data"
    }
   ],
   "source": [
    "w_aff_yn=0.2\n",
    "bar_aff_1=np.arange(len(x_l_aff))\n",
    "plt.barh(bar_aff_1,f_l_aff,w_aff_yn)\n",
    "plt.yticks(bar_aff_1,x_l_aff)\n",
    "plt.show()"
   ]
  },
  {
   "cell_type": "markdown",
   "id": "047f7358",
   "metadata": {},
   "source": [
    "## Fig.10.1-Perception towards Stress \n",
    "\n",
    "### The top 3 factors which came out in our via analysis in Fig.9 were Stress, Sleep and Health. \n",
    "### This graph helps us to understand the comparision of perception towards Stress basis whether they meditation or not.\n"
   ]
  },
  {
   "cell_type": "code",
   "execution_count": 106,
   "id": "eaf86c8a",
   "metadata": {},
   "outputs": [
    {
     "data": {
      "text/plain": [
       "Disagree              9\n",
       "Neutral              20\n",
       "Strongly Agree        3\n",
       "Strongly Disagree     9\n",
       "agree                 7\n",
       "dtype: int64"
      ]
     },
     "execution_count": 106,
     "metadata": {},
     "output_type": "execute_result"
    }
   ],
   "source": [
    "df_yes['stress'].str.get_dummies().aggregate(sum)"
   ]
  },
  {
   "cell_type": "code",
   "execution_count": 107,
   "id": "cd506e7e",
   "metadata": {},
   "outputs": [],
   "source": [
    "l_s_1=df_yes['stress'].str.get_dummies().aggregate(sum).values;l_s_1\n",
    "l_s_1_order=[9,9,20,7,3]"
   ]
  },
  {
   "cell_type": "code",
   "execution_count": 108,
   "id": "90e5c28f",
   "metadata": {},
   "outputs": [
    {
     "data": {
      "text/plain": [
       "Disagree              7\n",
       "Neutral              16\n",
       "Strongly Agree        5\n",
       "Strongly Disagree     6\n",
       "agree                19\n",
       "dtype: int64"
      ]
     },
     "execution_count": 108,
     "metadata": {},
     "output_type": "execute_result"
    }
   ],
   "source": [
    "df_no['stress'].str.get_dummies().aggregate(sum)"
   ]
  },
  {
   "cell_type": "code",
   "execution_count": 109,
   "id": "880f99f0",
   "metadata": {},
   "outputs": [],
   "source": [
    "l_s_2=df_no['stress'].str.get_dummies().aggregate(sum).values;l_s_2\n",
    "l_s_2_order=[]"
   ]
  },
  {
   "cell_type": "code",
   "execution_count": 110,
   "id": "4c1d198d",
   "metadata": {},
   "outputs": [
    {
     "data": {
      "image/png": "[encoded data removed]",
      "text/plain": [
       "<Figure size 432x288 with 1 Axes>"
      ]
     },
     "metadata": {
      "needs_background": "light"
     },
     "output_type": "display_data"
    }
   ],
   "source": [
    "w_s_yn=0.1\n",
    "bar_s_1=np.arange(len(df_yes['stress'].unique()))\n",
    "bar_s_2=[i+w_s_yn for i in bar_s_1]\n",
    "plt.barh(bar_s_1,l_s_1,w_s_yn,label='Yes')\n",
    "plt.barh(bar_s_2,l_s_2,w_s_yn,label='No')\n",
    "plt.ylabel('stress level')\n",
    "plt.xlabel('Frequency')\n",
    "plt.title('Stress levels for practitioners vs non-practitioners')\n",
    "plt.yticks(bar_s_1+w_s_yn/2,df_no['stress'].str.get_dummies().aggregate(sum).index)\n",
    "plt.legend()\n",
    "plt.show()"
   ]
  },
  {
   "cell_type": "markdown",
   "id": "1c8d59bf",
   "metadata": {},
   "source": [
    "## Fig.10.2-Perception towards Sleep\n",
    "\n",
    "### The top 3 factors which came out in our via analysis in Fig.9 were Stress, Sleep and Health. \n",
    "### This graph helps us to understand the comparision of perception towards Sleep basis whether they meditation or not.\n"
   ]
  },
  {
   "cell_type": "code",
   "execution_count": 111,
   "id": "75d9944a",
   "metadata": {},
   "outputs": [
    {
     "data": {
      "text/plain": [
       "Disagree              6\n",
       "Neutral              13\n",
       "Strongly Agree       12\n",
       "Strongly Disagree     4\n",
       "agree                13\n",
       "dtype: int64"
      ]
     },
     "execution_count": 111,
     "metadata": {},
     "output_type": "execute_result"
    }
   ],
   "source": [
    "df_yes['sleep'].str.get_dummies().aggregate(sum)"
   ]
  },
  {
   "cell_type": "code",
   "execution_count": 112,
   "id": "10f96cfd",
   "metadata": {},
   "outputs": [
    {
     "data": {
      "text/plain": [
       "Disagree             10\n",
       "Neutral              14\n",
       "Strongly Agree        8\n",
       "Strongly Disagree     7\n",
       "agree                14\n",
       "dtype: int64"
      ]
     },
     "execution_count": 112,
     "metadata": {},
     "output_type": "execute_result"
    }
   ],
   "source": [
    "df_no['sleep'].str.get_dummies().aggregate(sum)"
   ]
  },
  {
   "cell_type": "code",
   "execution_count": 113,
   "id": "1ede9713",
   "metadata": {},
   "outputs": [
    {
     "data": {
      "text/plain": [
       "array([ 6, 13, 12,  4, 13], dtype=int64)"
      ]
     },
     "execution_count": 113,
     "metadata": {},
     "output_type": "execute_result"
    }
   ],
   "source": [
    "l_sl_1=df_yes['sleep'].str.get_dummies().aggregate(sum).values;l_sl_1"
   ]
  },
  {
   "cell_type": "code",
   "execution_count": 114,
   "id": "6d5f57f9",
   "metadata": {},
   "outputs": [
    {
     "data": {
      "text/plain": [
       "array([10, 14,  8,  7, 14], dtype=int64)"
      ]
     },
     "execution_count": 114,
     "metadata": {},
     "output_type": "execute_result"
    }
   ],
   "source": [
    "l_sl_2=df_no['sleep'].str.get_dummies().aggregate(sum).values;l_sl_2"
   ]
  },
  {
   "cell_type": "code",
   "execution_count": 115,
   "id": "66796776",
   "metadata": {},
   "outputs": [
    {
     "data": {
      "image/png": "[encoded data removed]",
      "text/plain": [
       "<Figure size 432x288 with 1 Axes>"
      ]
     },
     "metadata": {
      "needs_background": "light"
     },
     "output_type": "display_data"
    }
   ],
   "source": [
    "w_sl_yn=0.1\n",
    "bar_sl_1=np.arange(len(df_yes['sleep'].unique()))\n",
    "bar_sl_2=[i+w_sl_yn for i in bar_sl_1]\n",
    "plt.barh(bar_sl_1,l_sl_1,w_sl_yn,label='Yes')\n",
    "plt.barh(bar_sl_2,l_sl_2,w_sl_yn,label='No')\n",
    "plt.ylabel('Sleep quality')\n",
    "plt.xlabel('Frequency')\n",
    "plt.title('Sleep quality for practitioners vs non-practitioners')\n",
    "plt.yticks(bar_sl_1+w_sl_yn/2,df_no['sleep'].str.get_dummies().aggregate(sum).index)\n",
    "plt.legend()\n",
    "plt.show()"
   ]
  },
  {
   "cell_type": "markdown",
   "id": "0bff48cb",
   "metadata": {},
   "source": [
    "## Fig.10.3-Perception towards Health\n",
    "\n",
    "### The top 3 factors which came out in our via analysis in Fig.9 were Stress, Sleep and Health. \n",
    "### This graph helps us to understand the comparision of perception towards Health basis whether they meditation or not.\n"
   ]
  },
  {
   "cell_type": "code",
   "execution_count": 116,
   "id": "419942a2",
   "metadata": {},
   "outputs": [
    {
     "data": {
      "text/plain": [
       "Disagree              2\n",
       "Neutral              17\n",
       "Strongly Agree        8\n",
       "Strongly Disagree     5\n",
       "agree                16\n",
       "dtype: int64"
      ]
     },
     "execution_count": 116,
     "metadata": {},
     "output_type": "execute_result"
    }
   ],
   "source": [
    "df_yes['health'].str.get_dummies().aggregate(sum)"
   ]
  },
  {
   "cell_type": "code",
   "execution_count": 117,
   "id": "ba2acdae",
   "metadata": {},
   "outputs": [
    {
     "data": {
      "text/plain": [
       "array([ 2, 17,  8,  5, 16], dtype=int64)"
      ]
     },
     "execution_count": 117,
     "metadata": {},
     "output_type": "execute_result"
    }
   ],
   "source": [
    "l_h_1=df_yes['health'].str.get_dummies().aggregate(sum).values;l_h_1"
   ]
  },
  {
   "cell_type": "code",
   "execution_count": 118,
   "id": "e2253d1c",
   "metadata": {},
   "outputs": [
    {
     "data": {
      "text/plain": [
       "Disagree             13\n",
       "Neutral              19\n",
       "Strongly Agree        7\n",
       "Strongly Disagree     4\n",
       "agree                10\n",
       "dtype: int64"
      ]
     },
     "execution_count": 118,
     "metadata": {},
     "output_type": "execute_result"
    }
   ],
   "source": [
    "df_no['health'].str.get_dummies().aggregate(sum)"
   ]
  },
  {
   "cell_type": "code",
   "execution_count": 119,
   "id": "f590d049",
   "metadata": {},
   "outputs": [
    {
     "data": {
      "text/plain": [
       "array([13, 19,  7,  4, 10], dtype=int64)"
      ]
     },
     "execution_count": 119,
     "metadata": {},
     "output_type": "execute_result"
    }
   ],
   "source": [
    "l_h_2=df_no['health'].str.get_dummies().aggregate(sum).values;l_h_2"
   ]
  },
  {
   "cell_type": "code",
   "execution_count": 120,
   "id": "ecae9d65",
   "metadata": {},
   "outputs": [
    {
     "data": {
      "image/png": "[encoded data removed]",
      "text/plain": [
       "<Figure size 432x288 with 1 Axes>"
      ]
     },
     "metadata": {
      "needs_background": "light"
     },
     "output_type": "display_data"
    }
   ],
   "source": [
    "w_h_yn=0.1\n",
    "bar_h_1=np.arange(len(df_yes['health'].unique()))\n",
    "bar_h_2=[i+w_sl_yn for i in bar_h_1]\n",
    "plt.barh(bar_h_1,l_h_1,w_h_yn,label='Yes')\n",
    "plt.barh(bar_h_2,l_h_2,w_h_yn,label='No')\n",
    "plt.ylabel('Health status')\n",
    "plt.xlabel('Frequency')\n",
    "plt.title('Health status for practitioners vs non-practitioners')\n",
    "plt.yticks(bar_h_1+w_h_yn/2,df_no['health'].str.get_dummies().aggregate(sum).index)\n",
    "plt.legend()\n",
    "plt.show()"
   ]
  },
  {
   "cell_type": "markdown",
   "id": "e5b5d703",
   "metadata": {},
   "source": [
    "## Fig.11-Reasons for being unable to Meditate\n",
    "\n",
    "### This graph helps us to understand the reasons behind not able to do meditation.\n"
   ]
  },
  {
   "cell_type": "code",
   "execution_count": 121,
   "id": "13c5bfdd",
   "metadata": {},
   "outputs": [],
   "source": [
    "df_reason=final['m_reason'].str.get_dummies(';')\n",
    "df_reason_x=df_reason.columns"
   ]
  },
  {
   "cell_type": "code",
   "execution_count": 122,
   "id": "bfa160b6",
   "metadata": {},
   "outputs": [
    {
     "data": {
      "text/plain": [
       "Also the lack of awareness, guidance, & knowledge     1\n",
       "Don't believe in meditation                           8\n",
       "I have never thought about doing meditation           1\n",
       "Lack of concentration                                20\n",
       "Lack of consistency                                  33\n",
       "Lack of spare time                                   28\n",
       "dtype: int64"
      ]
     },
     "execution_count": 122,
     "metadata": {},
     "output_type": "execute_result"
    }
   ],
   "source": [
    "df_reason_sum=final['m_reason'].str.get_dummies(';').aggregate(sum)\n",
    "df_reason_sum"
   ]
  },
  {
   "cell_type": "code",
   "execution_count": 123,
   "id": "b47a254f",
   "metadata": {},
   "outputs": [
    {
     "data": {
      "image/png": "[encoded data removed]",
      "text/plain": [
       "<Figure size 432x288 with 1 Axes>"
      ]
     },
     "metadata": {
      "needs_background": "light"
     },
     "output_type": "display_data"
    }
   ],
   "source": [
    "plt.barh(df_reason.columns,df_reason_sum)\n",
    "plt.xlabel(\"Frequency\")\n",
    "plt.ylabel(\"Reason\")\n",
    "plt.show()"
   ]
  },
  {
   "cell_type": "markdown",
   "id": "b1d1b945",
   "metadata": {},
   "source": [
    "## Fig.12-Recommendation for Meditation\n",
    "\n",
    "### This graph helps us to understand the level of recommendation given by the respondents about whether a person should do meditation or not.\n"
   ]
  },
  {
   "cell_type": "code",
   "execution_count": 124,
   "id": "f11a1257",
   "metadata": {},
   "outputs": [],
   "source": [
    "l_rec_no=list(df_no['recommend'].str.get_dummies().aggregate(sum).values)"
   ]
  },
  {
   "cell_type": "code",
   "execution_count": 125,
   "id": "2c5a2eb0",
   "metadata": {},
   "outputs": [],
   "source": [
    "l_rec_yes=list(df_yes['recommend'].str.get_dummies().aggregate(sum).values)"
   ]
  },
  {
   "cell_type": "code",
   "execution_count": 126,
   "id": "95c8cd88",
   "metadata": {},
   "outputs": [
    {
     "data": {
      "text/plain": [
       "Not interested at all     1\n",
       "Not sure                  7\n",
       "Very likely              39\n",
       "dtype: int64"
      ]
     },
     "execution_count": 126,
     "metadata": {},
     "output_type": "execute_result"
    }
   ],
   "source": [
    "df_yes['recommend'].str.get_dummies().aggregate(sum)"
   ]
  },
  {
   "cell_type": "code",
   "execution_count": 127,
   "id": "5ae254de",
   "metadata": {},
   "outputs": [
    {
     "data": {
      "text/plain": [
       "Not interested at all     9\n",
       "Not sure                 28\n",
       "Very likely              16\n",
       "dtype: int64"
      ]
     },
     "execution_count": 127,
     "metadata": {},
     "output_type": "execute_result"
    }
   ],
   "source": [
    "df_no['recommend'].str.get_dummies().aggregate(sum)"
   ]
  },
  {
   "cell_type": "code",
   "execution_count": 128,
   "id": "794202c9",
   "metadata": {},
   "outputs": [
    {
     "data": {
      "text/plain": [
       "[9, 28, 16]"
      ]
     },
     "execution_count": 128,
     "metadata": {},
     "output_type": "execute_result"
    }
   ],
   "source": [
    "l_rec_no"
   ]
  },
  {
   "cell_type": "code",
   "execution_count": 129,
   "id": "3e772231",
   "metadata": {},
   "outputs": [
    {
     "data": {
      "text/plain": [
       "[1, 7, 39]"
      ]
     },
     "execution_count": 129,
     "metadata": {},
     "output_type": "execute_result"
    }
   ],
   "source": [
    "l_rec_yes"
   ]
  },
  {
   "cell_type": "code",
   "execution_count": 130,
   "id": "1df1c24d",
   "metadata": {},
   "outputs": [],
   "source": [
    "x1list=['Not interested at all','Not sure','Very likely']"
   ]
  },
  {
   "cell_type": "code",
   "execution_count": 131,
   "id": "fc3c1a8a",
   "metadata": {},
   "outputs": [
    {
     "data": {
      "text/plain": [
       "['Not interested at all', 'Not sure', 'Very likely']"
      ]
     },
     "execution_count": 131,
     "metadata": {},
     "output_type": "execute_result"
    }
   ],
   "source": [
    "x1list"
   ]
  },
  {
   "cell_type": "code",
   "execution_count": 132,
   "id": "28728cea",
   "metadata": {},
   "outputs": [
    {
     "data": {
      "image/png": "[encoded data removed]",
      "text/plain": [
       "<Figure size 432x288 with 1 Axes>"
      ]
     },
     "metadata": {
      "needs_background": "light"
     },
     "output_type": "display_data"
    }
   ],
   "source": [
    "w_rec=0.2\n",
    "bar_rec_1=np.arange(len(x1list))\n",
    "bar_rec_2=[i+w_rec for i in bar_rec_1]\n",
    "plt.bar(bar_rec_1,l_rec_no,w_rec,label='No')\n",
    "plt.bar(bar_rec_2,l_rec_yes,w_rec,label='Yes')\n",
    "\n",
    "plt.xlabel('Do you recommend')\n",
    "plt.ylabel('Frequency')\n",
    "plt.title('Recommendation')\n",
    "plt.xticks(bar_rec_1+w_rec*1/2,x1list)\n",
    "plt.legend()\n",
    "plt.show()"
   ]
  },
  {
   "cell_type": "code",
   "execution_count": null,
   "id": "662c39b2",
   "metadata": {},
   "outputs": [],
   "source": []
  },
  {
   "cell_type": "markdown",
   "id": "65fa0ff0",
   "metadata": {},
   "source": [
    "## ------------------------------------------ The End --------------------------------------------------"
   ]
  },
  {
   "cell_type": "markdown",
   "id": "2dbbc199",
   "metadata": {},
   "source": [
    "##### Please refer the 'Sentiment Analysis' Notebook and Report shared separately to have a look at the analysis undertaken to analyse the sentiments of user comments."
   ]
  }
 ],
 "metadata": {
  "kernelspec": {
   "display_name": "Python 3 (ipykernel)",
   "language": "python",
   "name": "python3"
  },
  "language_info": {
   "codemirror_mode": {
    "name": "ipython",
    "version": 3
   },
   "file_extension": ".py",
   "mimetype": "text/x-python",
   "name": "python",
   "nbconvert_exporter": "python",
   "pygments_lexer": "ipython3",
   "version": "3.9.7"
  }
 },
 "nbformat": 4,
 "nbformat_minor": 5
}
